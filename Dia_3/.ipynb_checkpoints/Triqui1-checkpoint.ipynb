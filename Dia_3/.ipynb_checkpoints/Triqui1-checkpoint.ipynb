{
 "cells": [
  {
   "cell_type": "code",
   "execution_count": 0,
   "metadata": {
    "colab": {
     "autoexec": {
      "startup": false,
      "wait_interval": 0
     }
    },
    "colab_type": "code",
    "collapsed": true,
    "id": "4G-bY8WiADM7"
   },
   "outputs": [],
   "source": [
    "import numpy as np\n",
    "import matplotlib.pyplot as plt\n",
    "from google.colab import output\n",
    "from IPython import display\n",
    "import random\n",
    "import copy"
   ]
  },
  {
   "cell_type": "code",
   "execution_count": 44,
   "metadata": {
    "colab": {
     "autoexec": {
      "startup": false,
      "wait_interval": 0
     },
     "base_uri": "https://localhost:8080/",
     "height": 34
    },
    "colab_type": "code",
    "executionInfo": {
     "elapsed": 1277,
     "status": "ok",
     "timestamp": 1527550622152,
     "user": {
      "displayName": "Cindy Orozco",
      "photoUrl": "//lh3.googleusercontent.com/-jAVKPv2uwtg/AAAAAAAAAAI/AAAAAAAAABI/m8_L3I7XWjU/s50-c-k-no/photo.jpg",
      "userId": "117886146899397189915"
     },
     "user_tz": 420
    },
    "id": "zBioEbsaGvEL",
    "outputId": "c1654d32-eae7-4905-fccf-482967828270"
   },
   "outputs": [
    {
     "name": "stderr",
     "output_type": "stream",
     "text": [
      "100%|██████████| 10/10 [00:01<00:00,  9.87it/s]\n"
     ]
    }
   ],
   "source": [
    "from tqdm import trange\n",
    "from time import sleep\n",
    "for _ in trange(10):\n",
    "  sleep(0.1)"
   ]
  },
  {
   "cell_type": "markdown",
   "metadata": {
    "colab_type": "text",
    "id": "yCKsO1AE9aGu"
   },
   "source": [
    "# Aprendizaje por refuerzo: Jugando Triqui\n",
    "\n",
    "---\n",
    "\n"
   ]
  },
  {
   "cell_type": "markdown",
   "metadata": {
    "colab_type": "text",
    "id": "RBrhFqLh9jDl"
   },
   "source": [
    "## Programando las reglas de juego\n",
    "\n",
    "Para que un computador pueda entender un juego, primero debemos codificarlo usando números. Antes de empezar, recordemos un poco ¿Cuáles son las reglas de juego? \n",
    "\n",
    "1. ¿Cuántos jugadores hay? <font color='blue'>*2, uno __X__ y otro __O__* </font>   \n",
    "2. ¿Cuántas casillas hay? <font color='blue'>*9* </font> \n",
    "3. ¿Cuántos posibles estados tiene cada casilla? <font color='blue'>* 3: en blanco, __X__, o __O__*</font>\n",
    "4. ¿Cuántas configuraciones de tablero tenemos? <font color='blue'>* (3 estados) ^ (9 casillas) =19683 configuraciones*</font>\n",
    "5. ¿Cómo podemos representarlas? <font color='blue'>* Con un vector, en el que cada entrada puede ser 0 = en blanco, 1 =  __X__ , 2 = __O__, y decidiremos que el computador siempre jugará con __X__*</font>\n",
    "5. Dada una configuración, ¿Cuántas acciones podemos tomar? <font color='blue'>* Podemos poner una figura en cualquiera de las casillas libres. A lo más tenemos 9 acciones*</font> \n",
    "\n",
    "![Triqui](https://i.imgur.com/xZ7VyQ4.png)\n"
   ]
  },
  {
   "cell_type": "markdown",
   "metadata": {
    "colab_type": "text",
    "id": "jDKZTfh8KkOw"
   },
   "source": [
    "Tambien registraremos nuestro estado en un vector con 9 entradas, cada una con  valores 0, 1 o 2 que corresponderan a las configuraciones 0 = en blanco, 1 = __X__ , 2 = __O__, y así podemos usar este vector para acceder a la tabla ```estado_accion```, es decir ```estado_accion[estado]``` nos dará un vector con 9 posiciones en la que cada valor nos dirá cuanto esperamos obtener si ponemos nuestra __O__  en esa posición\n",
    "\n"
   ]
  },
  {
   "cell_type": "code",
   "execution_count": 30,
   "metadata": {
    "colab": {
     "autoexec": {
      "startup": false,
      "wait_interval": 0
     },
     "base_uri": "https://localhost:8080/",
     "height": 34
    },
    "colab_type": "code",
    "executionInfo": {
     "elapsed": 341,
     "status": "ok",
     "timestamp": 1527546966868,
     "user": {
      "displayName": "Cindy Orozco",
      "photoUrl": "//lh3.googleusercontent.com/-jAVKPv2uwtg/AAAAAAAAAAI/AAAAAAAAABI/m8_L3I7XWjU/s50-c-k-no/photo.jpg",
      "userId": "117886146899397189915"
     },
     "user_tz": 420
    },
    "id": "1hh_DdifMLIq",
    "outputId": "47e37639-5f8e-407a-eea2-786f396e760e"
   },
   "outputs": [
    {
     "name": "stdout",
     "output_type": "stream",
     "text": [
      "9\n"
     ]
    }
   ],
   "source": [
    "# Creamos 9 posiciones en 0, y nos aseguramos sean numeros enteros\n",
    "estado = [0]*9\n",
    "print(np.size(estado))"
   ]
  },
  {
   "cell_type": "markdown",
   "metadata": {
    "colab_type": "text",
    "id": "8fiyaWFlMZAW"
   },
   "source": [
    "Dado que no todas las posiciones son factibles, las acciones posibles dependen de la configuración actual y saber si hay un ganador depende del juego, debemos crear funciones que miren a una configuración y nos digan si hay un ganador o no"
   ]
  },
  {
   "cell_type": "code",
   "execution_count": 0,
   "metadata": {
    "cellView": "both",
    "colab": {
     "autoexec": {
      "startup": false,
      "wait_interval": 0
     }
    },
    "colab_type": "code",
    "collapsed": true,
    "id": "z8l5eFXaMvAr"
   },
   "outputs": [],
   "source": [
    "def acciones_posibles(estado):\n",
    "  \"\"\"\n",
    "  Esta funcion decide que casillas estan libres para poner O \n",
    "    @param[in] estado   Vector con entradas de 0, 1 o 2 que define la \n",
    "                        configuración actual\n",
    "    @return    acciones Subconjunto de indices de (0,1,2,3,4,5,6,7,8) en los que\n",
    "                        se puede poner una nueva O, es decir en la configuracion\n",
    "                        actual estan en blanco\n",
    "  \"\"\"\n",
    "  acciones = np.where( np.array(estado) == 0 )\n",
    "  return acciones[0]"
   ]
  },
  {
   "cell_type": "markdown",
   "metadata": {
    "colab_type": "text",
    "id": "-5W6iMYr4PH8"
   },
   "source": [
    "Para corroborar que nuestra función retorna lo que necesitamos podemos hacer la prueba con diferentes estados"
   ]
  },
  {
   "cell_type": "code",
   "execution_count": 117,
   "metadata": {
    "colab": {
     "autoexec": {
      "startup": false,
      "wait_interval": 0
     },
     "base_uri": "https://localhost:8080/",
     "height": 51
    },
    "colab_type": "code",
    "executionInfo": {
     "elapsed": 359,
     "status": "ok",
     "timestamp": 1527556036084,
     "user": {
      "displayName": "Cindy Orozco",
      "photoUrl": "//lh3.googleusercontent.com/-jAVKPv2uwtg/AAAAAAAAAAI/AAAAAAAAABI/m8_L3I7XWjU/s50-c-k-no/photo.jpg",
      "userId": "117886146899397189915"
     },
     "user_tz": 420
    },
    "id": "_NO6tC9O4Ogd",
    "outputId": "a439bada-2a5e-4218-aeec-3818b03f9bec"
   },
   "outputs": [
    {
     "name": "stdout",
     "output_type": "stream",
     "text": [
      "[0 1 2 3 4 5 6 7 8]\n",
      "[0 3 4 6 7 8]\n"
     ]
    }
   ],
   "source": [
    "#Este es la configuracion inicial, debemos poder ponerlos en todos\n",
    "print(acciones_posibles(estado)) \n",
    "#Probar otras configuraciones\n",
    "print(acciones_posibles([0,2,1,0,0,1,0,0,0]))"
   ]
  },
  {
   "cell_type": "markdown",
   "metadata": {
    "colab_type": "text",
    "id": "mFt5S4fEQ1M0"
   },
   "source": [
    "Para saber quien es el ganador, debemos definir las condiciones en las que una configuración hay un ganador. Sabemos si todas las entradas de \n",
    "\n",
    "*   una fila \n",
    "*   una columna\n",
    "*   una diagonal\n",
    "\n",
    "están llenas del mismo símbolo, entonces ese es el ganador. Pero si consideramos todas las posibles configuraciones ¿Qué problemas podemos tener?\n",
    "\n",
    "<font color='blue'>* Pueden haber configuraciones con más de un ganador, por ejemplo una fila de __X__ y otra fila de __O__*</font>\n",
    "\n",
    "¿Cómo los podemos solucionar? ¿Qué tan importantes son estos problemas? \n",
    "<font color='blue'>*Una opción es restringirnos a las configuraciones que solo son posibles, pero eso significa que debemos ver las 19683 opciones a mano y hacer una tabla que diga cuales son las válidas. Esto es muy extenuante. Otra forma simplemente es definir un ganador incluso para las configuraciones que no son válidas, y asegurar en otras funciones que el juego nunca llegará allí, en nuestro caso definimos que el ganador es el primero en tener toda una fila, columna o diagonal llena (en ese orden)*</font>"
   ]
  },
  {
   "cell_type": "code",
   "execution_count": 0,
   "metadata": {
    "colab": {
     "autoexec": {
      "startup": false,
      "wait_interval": 0
     }
    },
    "colab_type": "code",
    "collapsed": true,
    "id": "jMRtWWGAPX0M"
   },
   "outputs": [],
   "source": [
    "def quien_es_ganador(estado):\n",
    "  \"\"\"\n",
    "  Esta función decide si en una configuracion hay un ganador\n",
    "    @param[in] estado   Vector con entradas de 0, 1 o 2 que define la \n",
    "                        configuración actual\n",
    "    @return    ganador  Regresa 0 si no hay ganador, 1 si X es ganador y 2 si O \n",
    "                        es ganador \n",
    "  \"\"\"\n",
    "  #Reorganizar la configuracion como el tablero de triqui\n",
    "  matriz_estado = np.reshape(np.array(estado),(3,3))\n",
    "  # Esta variable dira quien es el ganador\n",
    "  ganador = 0 \n",
    "  # 1. Revisar filas\n",
    "  for i in xrange(3):\n",
    "    #Si la fila no esta vacia\n",
    "    if (matriz_estado[i,0] > 0):\n",
    "      \n",
    "      #Verificar que las 3 entradas de la fila son iguales\n",
    "      if ((matriz_estado[i,0] == matriz_estado[i,1]) and \n",
    "          (matriz_estado[i,0] == matriz_estado[i,2])):\n",
    "        ganador = matriz_estado[i,0]\n",
    "        return ganador\n",
    "  \n",
    "  # 2. Revisar Columnas\n",
    "  for i in xrange(3):\n",
    "    #Si la columna no esta vacia\n",
    "    if (matriz_estado[0,i] > 0):\n",
    "      \n",
    "      #Verificar que las 3 entradas de la fila son iguales\n",
    "      if ((matriz_estado[0,i] == matriz_estado[1,i]) and \n",
    "          (matriz_estado[0,i] == matriz_estado[2,i])):\n",
    "        ganador = matriz_estado[0,i]\n",
    "        return ganador  \n",
    "      \n",
    "  # 3. Revisar diagonal principal\n",
    "  #Si la diagonal no esta vacia\n",
    "  if (matriz_estado[0,0] > 0):\n",
    "    #Verificar que las 3 entradas de la fila son iguales\n",
    "    if ((matriz_estado[0,0] == matriz_estado[1,1]) and \n",
    "        (matriz_estado[0,0] == matriz_estado[2,2])):\n",
    "      ganador = matriz_estado[0,0]\n",
    "      return ganador \n",
    "    \n",
    "        \n",
    "  # 3. Revisar diagonal secundaria\n",
    "  #Si la diagonal no esta vacia\n",
    "  if (matriz_estado[0,2] > 0):\n",
    "    #Verificar que las 3 entradas de la fila son iguales\n",
    "    if ((matriz_estado[0,2] == matriz_estado[1,1]) and \n",
    "        (matriz_estado[0,2] == matriz_estado[2,0])):\n",
    "      ganador = matriz_estado[0,2]\n",
    "      return ganador \n",
    "  \n",
    "  #Si llegamos a este punto es que no hay ganador\n",
    "  return ganador"
   ]
  },
  {
   "cell_type": "markdown",
   "metadata": {
    "colab_type": "text",
    "id": "2DOyI6wm3C_g"
   },
   "source": [
    "Para corroborar que nuestra función retorna lo que necesitamos podemos hacer la prueba con diferentes estados"
   ]
  },
  {
   "cell_type": "code",
   "execution_count": 29,
   "metadata": {
    "colab": {
     "autoexec": {
      "startup": false,
      "wait_interval": 0
     },
     "base_uri": "https://localhost:8080/",
     "height": 68
    },
    "colab_type": "code",
    "executionInfo": {
     "elapsed": 368,
     "status": "ok",
     "timestamp": 1527546948651,
     "user": {
      "displayName": "Cindy Orozco",
      "photoUrl": "//lh3.googleusercontent.com/-jAVKPv2uwtg/AAAAAAAAAAI/AAAAAAAAABI/m8_L3I7XWjU/s50-c-k-no/photo.jpg",
      "userId": "117886146899397189915"
     },
     "user_tz": 420
    },
    "id": "XgX2ay9v2VxU",
    "outputId": "ee3dcd82-558d-42fc-b285-cf705845dcf1"
   },
   "outputs": [
    {
     "name": "stdout",
     "output_type": "stream",
     "text": [
      "El ganador es 2\n",
      "El ganador es 1\n",
      "El ganador es 0\n"
     ]
    }
   ],
   "source": [
    "print(\"El ganador es %d\"%(quien_es_ganador([1,2,1,0,2,1,0,2,1]))) #El Ganador es 2 \n",
    "print(\"El ganador es %d\"%(quien_es_ganador([0,0,0,1,1,1,2,2,2]))) #El Ganador es 1 \n",
    "print(\"El ganador es %d\"%(quien_es_ganador([1,0,1,0,2,0,0,2,1]))) #El Ganador es 0 (i.e. no hay ganador)"
   ]
  },
  {
   "cell_type": "markdown",
   "metadata": {
    "colab_type": "text",
    "id": "5AcXz-dei_NJ"
   },
   "source": [
    "## Haciendo un Jugador Aleatorio"
   ]
  },
  {
   "cell_type": "markdown",
   "metadata": {
    "colab_type": "text",
    "id": "D1bbuIbT56lW"
   },
   "source": [
    "Ahora ya podemos crear un jugador aleatorio, es decir, uno que dada una configuracion, selecciona cualquiera de las posibles acciones con la misma probabilidad, e identifica cuando el o su contrincante han ganado"
   ]
  },
  {
   "cell_type": "code",
   "execution_count": 146,
   "metadata": {
    "colab": {
     "autoexec": {
      "startup": false,
      "wait_interval": 0
     },
     "base_uri": "https://localhost:8080/",
     "height": 88
    },
    "colab_type": "code",
    "executionInfo": {
     "elapsed": 372,
     "status": "ok",
     "timestamp": 1527557809839,
     "user": {
      "displayName": "Cindy Orozco",
      "photoUrl": "//lh3.googleusercontent.com/-jAVKPv2uwtg/AAAAAAAAAAI/AAAAAAAAABI/m8_L3I7XWjU/s50-c-k-no/photo.jpg",
      "userId": "117886146899397189915"
     },
     "user_tz": 420
    },
    "id": "fJUtsXqr6Ni0",
    "outputId": "be1dedc6-a010-455a-9bf5-e97bcb24498c"
   },
   "outputs": [
    {
     "data": {
      "text/html": [
       "\n",
       "    Posiciones del juego, tu eres X, yo soy O: <br>\n",
       "    <button id='button0'>0</button>\n",
       "    <script>\n",
       "      document.querySelector('#button0').onclick = () => {\n",
       "        google.colab.kernel.invokeFunction('notebook.updatelist', [0], {});\n",
       "      };\n",
       "    </script>\n",
       "    <button id='button1'>1</button>\n",
       "    <script>\n",
       "      document.querySelector('#button1').onclick = () => {\n",
       "        google.colab.kernel.invokeFunction('notebook.updatelist', [1], {});\n",
       "      };\n",
       "    </script>\n",
       "    <button id='button2'>2</button>\n",
       "    <script>\n",
       "      document.querySelector('#button2').onclick = () => {\n",
       "        google.colab.kernel.invokeFunction('notebook.updatelist', [2], {});\n",
       "      };\n",
       "    </script><br>\n",
       "    <button id='button3'>3</button>\n",
       "    <script>\n",
       "      document.querySelector('#button3').onclick = () => {\n",
       "        google.colab.kernel.invokeFunction('notebook.updatelist', [3], {});\n",
       "      };\n",
       "    </script>\n",
       "    <button id='button4'>4</button>\n",
       "    <script>\n",
       "      document.querySelector('#button4').onclick = () => {\n",
       "        google.colab.kernel.invokeFunction('notebook.updatelist', [4], {});\n",
       "      };\n",
       "    </script>\n",
       "    <button id='button5'>5</button>\n",
       "    <script>\n",
       "      document.querySelector('#button5').onclick = () => {\n",
       "        google.colab.kernel.invokeFunction('notebook.updatelist', [5], {});\n",
       "      };\n",
       "    </script><br>\n",
       "    <button id='button6'>6</button>\n",
       "    <script>\n",
       "      document.querySelector('#button6').onclick = () => {\n",
       "        google.colab.kernel.invokeFunction('notebook.updatelist', [6], {});\n",
       "      };\n",
       "    </script>\n",
       "    <button id='button7'>7</button>\n",
       "    <script>\n",
       "      document.querySelector('#button7').onclick = () => {\n",
       "        google.colab.kernel.invokeFunction('notebook.updatelist', [7], {});\n",
       "      };\n",
       "    </script>\n",
       "    <button id='button8'>8</button>\n",
       "    <script>\n",
       "      document.querySelector('#button8').onclick = () => {\n",
       "        google.colab.kernel.invokeFunction('notebook.updatelist', [8], {});\n",
       "      };\n",
       "    </script>\n",
       "    "
      ],
      "text/plain": [
       "<IPython.core.display.HTML object>"
      ]
     },
     "metadata": {
      "tags": []
     },
     "output_type": "display_data"
    }
   ],
   "source": [
    "#Botones para las posiciones en el juego\n",
    "\n",
    "display.display(display.HTML('''\n",
    "    Posiciones del juego, tu eres X, yo soy O: <br>\n",
    "    <button id='button0'>0</button>\n",
    "    <script>\n",
    "      document.querySelector('#button0').onclick = () => {\n",
    "        google.colab.kernel.invokeFunction('notebook.updatelist', [0], {});\n",
    "      };\n",
    "    </script>\n",
    "    <button id='button1'>1</button>\n",
    "    <script>\n",
    "      document.querySelector('#button1').onclick = () => {\n",
    "        google.colab.kernel.invokeFunction('notebook.updatelist', [1], {});\n",
    "      };\n",
    "    </script>\n",
    "    <button id='button2'>2</button>\n",
    "    <script>\n",
    "      document.querySelector('#button2').onclick = () => {\n",
    "        google.colab.kernel.invokeFunction('notebook.updatelist', [2], {});\n",
    "      };\n",
    "    </script><br>\n",
    "    <button id='button3'>3</button>\n",
    "    <script>\n",
    "      document.querySelector('#button3').onclick = () => {\n",
    "        google.colab.kernel.invokeFunction('notebook.updatelist', [3], {});\n",
    "      };\n",
    "    </script>\n",
    "    <button id='button4'>4</button>\n",
    "    <script>\n",
    "      document.querySelector('#button4').onclick = () => {\n",
    "        google.colab.kernel.invokeFunction('notebook.updatelist', [4], {});\n",
    "      };\n",
    "    </script>\n",
    "    <button id='button5'>5</button>\n",
    "    <script>\n",
    "      document.querySelector('#button5').onclick = () => {\n",
    "        google.colab.kernel.invokeFunction('notebook.updatelist', [5], {});\n",
    "      };\n",
    "    </script><br>\n",
    "    <button id='button6'>6</button>\n",
    "    <script>\n",
    "      document.querySelector('#button6').onclick = () => {\n",
    "        google.colab.kernel.invokeFunction('notebook.updatelist', [6], {});\n",
    "      };\n",
    "    </script>\n",
    "    <button id='button7'>7</button>\n",
    "    <script>\n",
    "      document.querySelector('#button7').onclick = () => {\n",
    "        google.colab.kernel.invokeFunction('notebook.updatelist', [7], {});\n",
    "      };\n",
    "    </script>\n",
    "    <button id='button8'>8</button>\n",
    "    <script>\n",
    "      document.querySelector('#button8').onclick = () => {\n",
    "        google.colab.kernel.invokeFunction('notebook.updatelist', [8], {});\n",
    "      };\n",
    "    </script>\n",
    "    '''))\n",
    "\n",
    "#Clase para manejar el juego\n",
    "class juego:\n",
    "  def __init__(self):\n",
    "    #Guarda la configuracion inicial \n",
    "    self.configuracion = [0]*9\n",
    "    #Evita seguir jugando si ya existe un ganador\n",
    "    self.fin_juego = False\n",
    " \n",
    "  def refrescar_enemigo(self,numero):\n",
    "    \"\"\"\n",
    "    Esta funcion refresca la configuracion incluyendo la posicion aceptada por\n",
    "    el jugador\n",
    "    @param[in] numero Posicion en 0:9 en el tablero definida por los botones en \n",
    "                      el juego\n",
    "    \"\"\"\n",
    "    if not self.fin_juego:\n",
    "      #Primero agrego tu posicion si es valida\n",
    "      if self.configuracion[numero] == 0:\n",
    "        \n",
    "        self.configuracion[numero] = 1\n",
    "                \n",
    "        #Verifico si tu eres el ganador\n",
    "        ganador = quien_es_ganador(self.configuracion)\n",
    "        if ganador == 1:\n",
    "          self.imprimir()\n",
    "          print(\"¡Tu ganaste!\")\n",
    "          self.fin_juego = True\n",
    "          return 'OK'\n",
    "        #Actualizo mi posicion\n",
    "        self.refrescar_me()\n",
    "        self.imprimir()\n",
    "        \n",
    "        #Verifico si yo soy el ganador\n",
    "        ganador = quien_es_ganador(self.configuracion)\n",
    "        if ganador == 2:\n",
    "          self.imprimir()\n",
    "          print(\"¡Yo gane!\")\n",
    "          self.fin_juego = True\n",
    "   \n",
    "      else:\n",
    "        print (\"%d :Esa posicion ya esta ocupada\"%(numero))\n",
    "        \n",
    "    return 'OK'\n",
    "  \n",
    "  def refrescar_me(self):\n",
    "    \"\"\"\n",
    "    Esta funcion refresca la configuracion incluyendo la posicion del computador\n",
    "    \"\"\"\n",
    "    #Verifico cuales son mis jugadas\n",
    "    mis_acciones = acciones_posibles(self.configuracion)\n",
    "    num_acciones = len(mis_acciones)\n",
    "    \n",
    "    #Si puedo jugar, selecciono una posicion al azar\n",
    "    if num_acciones > 0:\n",
    "      accion = random.choice(mis_acciones)\n",
    "      self.configuracion[accion] = 2\n",
    "    #Si no puedo jugar es porque el tablero esta lleno \n",
    "    else:\n",
    "      print(\"Ya no hay un ganador\")\n",
    "      self.fin_juego = True\n",
    "  \n",
    "  def imprimir(self):\n",
    "    \"\"\"\n",
    "    Esta funcion imprime el tablero en forma de matriz\n",
    "    \"\"\"\n",
    "    for i in xrange(3):\n",
    "      linea = \" \";\n",
    "      for j in xrange(3):\n",
    "        if self.configuracion[i*3+j] == 0:\n",
    "          linea += \" \"\n",
    "        if self.configuracion[i*3+j] == 1:\n",
    "          linea += \"X\"\n",
    "        if self.configuracion[i*3+j] == 2:\n",
    "          linea += \"O\"\n",
    "        if j < 2:\n",
    "          linea += \"|\"\n",
    "      print(linea)\n",
    "    print(\"-+-+-+-+-+\")\n",
    "\n",
    "#Creamos una nueva instancia de juego\n",
    "mijuego = juego();  \n",
    " \n",
    "#print(mijuego.configuracion)\n",
    "output.register_callback('notebook.updatelist',mijuego.refrescar_enemigo)"
   ]
  },
  {
   "cell_type": "markdown",
   "metadata": {
    "colab_type": "text",
    "id": "-DSpmJP2iqj9"
   },
   "source": [
    "En este codigo nos podemos dar cuenta que existe un gran trabajo detrás de hacer botones funcionales, y utilizamos una clase para manejar toda la información del juego, asi podemos llamar una función varias veces que modifica un objeto específico, en este caso la configuración del juego. \n",
    "\n",
    "Mira que los botones solo lo hacemos para que un usuario pueda interactuar con el juego, pero para los cálculos no los necesitamos"
   ]
  },
  {
   "cell_type": "markdown",
   "metadata": {
    "colab_type": "text",
    "id": "TZaHskIDjiIX"
   },
   "source": [
    "## Haciendo un jugador que aprende"
   ]
  },
  {
   "cell_type": "markdown",
   "metadata": {
    "colab_type": "text",
    "id": "zZgqEFQlIjYZ"
   },
   "source": [
    "La forma en la que el computador decidirá qué decisión tomar es por medio de una función de estado, es decir, escogerá la acción que lo lleve a maximizar su valor esperado. Esta es la función que descubriremos a medida que interactuamos con el sistema. Para esta la inicializaremos en 0 y crearemos una casilla de valor para cada una de las configuraciones posibles. Sin embargo tengamos en cuenta que muchas de estas configuraciones no son factibles en el juego (por ejemplo, tener todo el tablero lleno de __X__ o de __O__)"
   ]
  },
  {
   "cell_type": "markdown",
   "metadata": {
    "colab_type": "text",
    "id": "3TqPlrOgNy4M"
   },
   "source": []
  },
  {
   "cell_type": "code",
   "execution_count": 0,
   "metadata": {
    "colab": {
     "autoexec": {
      "startup": false,
      "wait_interval": 0
     }
    },
    "colab_type": "code",
    "collapsed": true,
    "id": "e9rZY-IoM43-"
   },
   "outputs": [],
   "source": [
    "def inicializar_valor_estado_accion(valor_estado_accion):\n",
    "  \n",
    "  #Crear todas las configuraciones\n",
    "  configuraciones = [[]]\n",
    "  for i in xrange(9):\n",
    "    nuevas_conf = []\n",
    "    for j in xrange(3):\n",
    "      for conf in configuraciones:\n",
    "        nuevas_conf.append(conf + [j,])\n",
    "    configuraciones = nuevas_conf\n",
    "  \n",
    "  #Update the values in each configuracion\n",
    "  for conf in configuraciones:\n",
    "    mis_acciones = acciones_posibles(tuple(conf))\n",
    "    valor_acciones = valor_estado_accion[tuple(conf)]\n",
    "    valor_acciones[mis_acciones] = 0\n",
    "  return valor_estado_accion\n"
   ]
  },
  {
   "cell_type": "markdown",
   "metadata": {
    "colab_type": "text",
    "id": "tctJNR0lj-fy"
   },
   "source": [
    "La forma en que nuestro computador va a aprender es interactuando en contra de un jugador dummie, como el que hicimos en nuestro juego aleatorio. En vez de imprimir cada iteración y seleccionar una accion con botones, en cada iteración necesitamos informar al exterior cual es la configuración actual, si ya terminó el juego y quien gano"
   ]
  },
  {
   "cell_type": "code",
   "execution_count": 0,
   "metadata": {
    "colab": {
     "autoexec": {
      "startup": false,
      "wait_interval": 0
     }
    },
    "colab_type": "code",
    "collapsed": true,
    "id": "wDcLcC7Zj2IB"
   },
   "outputs": [],
   "source": [
    "#Clase para manejar el juego\n",
    "class juego_a_aprender:\n",
    "  def __init__(self,quien_inicia = 1):\n",
    "    self.configuracion = [0]*9\n",
    "    \n",
    "    #Si se decide quien inicia es la computadora\n",
    "    if quien_inicia == 2:\n",
    "      accion = random.choice(range(9))\n",
    "      self.configuracion[accion] = 2\n",
    "    \n",
    "    #Evita seguir jugando si ya existe un ganador\n",
    "    self.fin_juego = False\n",
    "    #Guarda la lista de configuraciones\n",
    "    self.conj_configuracion = [copy.deepcopy(self.configuracion)];\n",
    "    #Guarda la lista de acciones\n",
    "    self.acciones = []\n",
    "  def refrescar_enemigo(self,numero):\n",
    "    \"\"\"\n",
    "    Esta funcion refresca la configuracion incluyendo la posicion aceptada por\n",
    "    el jugador\n",
    "    @param[in] numero Posicion en 0:9 definida por el otro jugador\n",
    "    \"\"\"\n",
    "    if not self.fin_juego:\n",
    "      #Primero agrego tu posicion si es valida\n",
    "      if self.configuracion[numero] == 0:\n",
    "        \n",
    "        self.configuracion[numero] = 1\n",
    "        #Agrego tus acciones a la lista\n",
    "        self.acciones.append(numero)\n",
    "        \n",
    "        #Verifico si tu eres el ganador\n",
    "        ganador = quien_es_ganador(self.configuracion)\n",
    "        if ganador == 1:\n",
    "          self.fin_juego = True\n",
    "          return ganador\n",
    "        \n",
    "        #Actualizo mi posicion\n",
    "        mi_estado = self.refrescar_me()\n",
    "        \n",
    "        #Si no puedo jugar es porque el tablero esta lleno \n",
    "        if mi_estado < 2:\n",
    "          self.fin_juego = True\n",
    "          if mi_estado == 0:\n",
    "            return 0\n",
    "        \n",
    "        self.conj_configuracion.append(copy.deepcopy(self.configuracion))\n",
    "        \n",
    "        #Verifico si yo soy el ganador\n",
    "        ganador = quien_es_ganador(self.configuracion)\n",
    "        if ganador == 2:\n",
    "          self.fin_juego = True\n",
    "          return ganador\n",
    "          \n",
    "    return 0\n",
    "  \n",
    "  def refrescar_me(self):\n",
    "    \"\"\"\n",
    "    Esta funcion refresca la configuracion incluyendo la posicion del computador\n",
    "    \"\"\"\n",
    "    #Verifico cuales son mis jugadas\n",
    "    mis_acciones = acciones_posibles(self.configuracion)\n",
    "    num_acciones = len(mis_acciones)\n",
    "    \n",
    "    #Si puedo jugar, selecciono una posicion al azar\n",
    "    if num_acciones > 0:\n",
    "      accion = random.choice(mis_acciones)\n",
    "      self.configuracion[accion] = 2\n",
    "      \n",
    "    return num_acciones\n",
    "\n",
    "#Creamos una nueva instancia de juego\n",
    "mijuego = juego_a_aprender();  "
   ]
  },
  {
   "cell_type": "code",
   "execution_count": 0,
   "metadata": {
    "colab": {
     "autoexec": {
      "startup": false,
      "wait_interval": 0
     }
    },
    "colab_type": "code",
    "collapsed": true,
    "id": "LP9n33arpjug"
   },
   "outputs": [],
   "source": [
    "def jugar(quien_inicia,opcion_optima):\n",
    "  \"\"\"\n",
    "  Esta función interactua con refrescar enemigo del juego a aprender\n",
    "  \"\"\"\n",
    "  enemigo = juego_a_aprender(quien_inicia)\n",
    "  while not enemigo.fin_juego:\n",
    "    #Vamos a seleccionar una opcion optima de acuerdo a la configuracion actual\n",
    "    accion = opcion_optima(enemigo.configuracion)\n",
    "    \n",
    "    if accion == -1:\n",
    "      break\n",
    "      \n",
    "    #Vamos a jugar con el enemigo\n",
    "    ganador = enemigo.refrescar_enemigo(accion)\n",
    "    \n",
    "  return (ganador, enemigo.conj_configuracion, enemigo.acciones)"
   ]
  },
  {
   "cell_type": "code",
   "execution_count": 0,
   "metadata": {
    "colab": {
     "autoexec": {
      "startup": false,
      "wait_interval": 0
     }
    },
    "colab_type": "code",
    "collapsed": true,
    "id": "Dp-18iZn_vCt"
   },
   "outputs": [],
   "source": [
    "valor_estado_accion = np.ones((3,)*9+(9,))*-2\n",
    "print(np.size(valor_estado_accion))\n",
    "\n",
    "\n",
    "valor_estado_accion = inicializar_valor_estado_accion(valor_estado_accion)\n",
    "  \n",
    "num_estado_accion = np.zeros((3,)*9+(9,))\n",
    "\n",
    "class juego_aprendiz_MC:\n",
    "  def __init__(self,valor_estado_accion,num_estado_accion,num_iteraciones = 100,disc_factor = 0.8):\n",
    "    self.valor_estado_accion = copy.deepcopy(valor_estado_accion)\n",
    "    self.num_estado_accion = copy.deepcopy(num_estado_accion)\n",
    "    self.num_iteraciones = num_iteraciones\n",
    "    self.iteracion = 0\n",
    "    self.ganancias = 0\n",
    "    self.perdidas = 0\n",
    "    self.empates = 0\n",
    "    self.disc_factor = disc_factor\n",
    "    \n",
    "  def optimizar_funcion_objetivo(self):\n",
    "    \"\"\"\n",
    "    Utilizar MC para mejorar la funcion objetivo\n",
    "    \"\"\"\n",
    "    for i in xrange(self.num_iteraciones):\n",
    "      self.iteracion = i\n",
    "      quien_inicia = random.choice([1,2])\n",
    "      [ganador,configuraciones,acciones] = jugar(quien_inicia, self.opcion_optima)\n",
    "      precio = 0\n",
    "    \n",
    "      alpha = 100.\n",
    "      if ganador == 1:\n",
    "        precio = 1\n",
    "        self.ganancias += (1.- self.ganancias)/alpha\n",
    "        self.perdidas += (0.- self.perdidas)/alpha\n",
    "        self.empates += (0.- self.empates)/alpha\n",
    "      elif ganador == 2:\n",
    "        precio = -1\n",
    "        self.ganancias += (0.- self.ganancias)/alpha\n",
    "        self.perdidas += (1.- self.perdidas)/alpha\n",
    "        self.empates += (0.- self.empates)/alpha\n",
    "      else:\n",
    "        self.ganancias += (0.- self.ganancias)/alpha\n",
    "        self.perdidas += (0.- self.perdidas)/alpha\n",
    "        self.empates += (1.- self.empates)/alpha\n",
    "        \n",
    "      #print (quien_inicia,ganador,self.ganancias, self.perdidas, self.empates)  \n",
    "      #print (ganador)\n",
    "      for conf,accion,exponente in zip(configuraciones,acciones,xrange(len(acciones)-1,-1,-1)):\n",
    "        indice = tuple(conf + [accion,])\n",
    "        self.num_estado_accion[indice] += 1\n",
    "        #alpha = self.num_estado_accion[indice]\n",
    "        alpha = 100\n",
    "        error = precio * (self.disc_factor ** exponente) - self.valor_estado_accion[indice] \n",
    "        self.valor_estado_accion[indice] += error/alpha\n",
    "        \n",
    "    \n",
    "      \n",
    "  def opcion_optima(self,configuracion):\n",
    "    \"\"\"Selecciona la mejor configuracion de acuerdo a la funcion de valor \n",
    "    segun estado y accion \"\"\"\n",
    "    #Recolectar el vector de acciones segun configuracion\n",
    "    val_acciones = self.valor_estado_accion[tuple(configuracion)] \n",
    "    \n",
    "    #Seleccionar las acciones posibles (una accion no es posible si la casilla \n",
    "    #esta llena)\n",
    "    \n",
    "    acciones = np.where( val_acciones > -2 )\n",
    "    acciones = acciones[0]\n",
    "    mejor_accion = 0\n",
    "    #epsilon-greedy\n",
    "    if len(acciones) > 0:\n",
    "      \n",
    "      u = random.random()\n",
    "      \n",
    "      if u * self.iteracion < 100.:\n",
    "        \n",
    "        mejor_accion = random.choice(acciones)\n",
    "    \n",
    "      else:\n",
    "    \n",
    "        mejor_valor = np.amax(val_acciones[acciones])\n",
    "        index_accion = np.where(val_acciones[acciones] == mejor_valor )\n",
    "        index_accion = index_accion[0]\n",
    "    \n",
    "        if len(index_accion)>1:\n",
    "          mejor_accion = acciones[random.choice(index_accion)]\n",
    "      \n",
    "        else: \n",
    "          mejor_accion = acciones[index_accion[0]]\n",
    "    \n",
    "    return mejor_accion\n",
    "    \n",
    "mi_aprendiz = juego_aprendiz_MC(valor_estado_accion,num_estado_accion,100000)\n",
    "mi_aprendiz.optimizar_funcion_objetivo()"
   ]
  },
  {
   "cell_type": "code",
   "execution_count": 13,
   "metadata": {
    "colab": {
     "autoexec": {
      "startup": false,
      "wait_interval": 0
     },
     "base_uri": "https://localhost:8080/",
     "height": 51
    },
    "colab_type": "code",
    "executionInfo": {
     "elapsed": 323,
     "status": "ok",
     "timestamp": 1527595250371,
     "user": {
      "displayName": "Cindy Orozco",
      "photoUrl": "//lh3.googleusercontent.com/-jAVKPv2uwtg/AAAAAAAAAAI/AAAAAAAAABI/m8_L3I7XWjU/s50-c-k-no/photo.jpg",
      "userId": "117886146899397189915"
     },
     "user_tz": 420
    },
    "id": "bSZeoibTX6eY",
    "outputId": "fac7cf07-1cb1-4809-c809-c08e317f5c81"
   },
   "outputs": [
    {
     "name": "stdout",
     "output_type": "stream",
     "text": [
      "[0.10798462 0.08382358 0.08644881 0.0774013  0.11744687 0.01811452\n",
      " 0.45599427 0.009157   0.01940864]\n"
     ]
    }
   ],
   "source": [
    "print(mi_aprendiz.valor_estado_accion[tuple([0,]*9)])"
   ]
  },
  {
   "cell_type": "code",
   "execution_count": 14,
   "metadata": {
    "colab": {
     "autoexec": {
      "startup": false,
      "wait_interval": 0
     },
     "base_uri": "https://localhost:8080/",
     "height": 34
    },
    "colab_type": "code",
    "executionInfo": {
     "elapsed": 318,
     "status": "ok",
     "timestamp": 1527595259681,
     "user": {
      "displayName": "Cindy Orozco",
      "photoUrl": "//lh3.googleusercontent.com/-jAVKPv2uwtg/AAAAAAAAAAI/AAAAAAAAABI/m8_L3I7XWjU/s50-c-k-no/photo.jpg",
      "userId": "117886146899397189915"
     },
     "user_tz": 420
    },
    "id": "RuxJmf_6fBiS",
    "outputId": "686a2b62-3020-49c6-b657-a99ca2323542"
   },
   "outputs": [
    {
     "name": "stdout",
     "output_type": "stream",
     "text": [
      "[0. 0. 0. 0. 0. 0. 0. 0. 0.]\n"
     ]
    }
   ],
   "source": [
    "print(valor_estado_accion[tuple([0,]*9)])"
   ]
  },
  {
   "cell_type": "code",
   "execution_count": 0,
   "metadata": {
    "colab": {
     "autoexec": {
      "startup": false,
      "wait_interval": 0
     }
    },
    "colab_type": "code",
    "collapsed": true,
    "id": "udR7OhGWYdoH"
   },
   "outputs": [],
   "source": [
    "num_estado_accion = np.zeros((3,)*9+(9,))\n",
    "mi_aprendiz2 = juego_aprendiz_MC(mi_aprendiz.valor_estado_accion,num_estado_accion,100000)\n",
    "\n",
    "mi_aprendiz2.optimizar_funcion_objetivo()"
   ]
  },
  {
   "cell_type": "code",
   "execution_count": 16,
   "metadata": {
    "colab": {
     "autoexec": {
      "startup": false,
      "wait_interval": 0
     },
     "base_uri": "https://localhost:8080/",
     "height": 51
    },
    "colab_type": "code",
    "executionInfo": {
     "elapsed": 275,
     "status": "ok",
     "timestamp": 1527595361884,
     "user": {
      "displayName": "Cindy Orozco",
      "photoUrl": "//lh3.googleusercontent.com/-jAVKPv2uwtg/AAAAAAAAAAI/AAAAAAAAABI/m8_L3I7XWjU/s50-c-k-no/photo.jpg",
      "userId": "117886146899397189915"
     },
     "user_tz": 420
    },
    "id": "ppuTJ2gXfzzt",
    "outputId": "b5febf1c-bbbb-439a-9c17-ac49319a5fab"
   },
   "outputs": [
    {
     "name": "stdout",
     "output_type": "stream",
     "text": [
      "[0.15646191 0.07388466 0.13401711 0.13977236 0.15057158 0.11092394\n",
      " 0.49403496 0.03817945 0.08583251]\n"
     ]
    }
   ],
   "source": [
    "print(mi_aprendiz2.valor_estado_accion[tuple([0,]*9)])"
   ]
  },
  {
   "cell_type": "code",
   "execution_count": 0,
   "metadata": {
    "colab": {
     "autoexec": {
      "startup": false,
      "wait_interval": 0
     }
    },
    "colab_type": "code",
    "collapsed": true,
    "id": "GzjFqTn4gCUH"
   },
   "outputs": [],
   "source": [
    "num_estado_accion = np.zeros((3,)*9+(9,))\n",
    "mi_aprendiz3 = juego_aprendiz_MC(mi_aprendiz2.valor_estado_accion,num_estado_accion,100000)\n",
    "\n",
    "mi_aprendiz3.optimizar_funcion_objetivo()"
   ]
  },
  {
   "cell_type": "code",
   "execution_count": 331,
   "metadata": {
    "colab": {
     "autoexec": {
      "startup": false,
      "wait_interval": 0
     },
     "base_uri": "https://localhost:8080/",
     "height": 51
    },
    "colab_type": "code",
    "executionInfo": {
     "elapsed": 319,
     "status": "ok",
     "timestamp": 1527578252806,
     "user": {
      "displayName": "Cindy Orozco",
      "photoUrl": "//lh3.googleusercontent.com/-jAVKPv2uwtg/AAAAAAAAAAI/AAAAAAAAABI/m8_L3I7XWjU/s50-c-k-no/photo.jpg",
      "userId": "117886146899397189915"
     },
     "user_tz": 420
    },
    "id": "GV93UupbgQ2q",
    "outputId": "e6a15c1b-211e-48b0-da45-9b4d063b95cc"
   },
   "outputs": [
    {
     "name": "stdout",
     "output_type": "stream",
     "text": [
      "[ 0.3072     -0.14848     0.54793532  0.3904      0.17493333  0.16523636\n",
      "  0.24576     0.064       0.18432   ]\n"
     ]
    }
   ],
   "source": [
    "print(mi_aprendiz3.valor_estado_accion[tuple([0,]*9)])"
   ]
  },
  {
   "cell_type": "code",
   "execution_count": 0,
   "metadata": {
    "colab": {
     "autoexec": {
      "startup": false,
      "wait_interval": 0
     }
    },
    "colab_type": "code",
    "collapsed": true,
    "id": "XpZDP8mtjKfe"
   },
   "outputs": [],
   "source": [
    "\n",
    "mi_aprendiz4 = juego_aprendiz_MC(mi_aprendiz3.valor_estado_accion,num_estado_accion,100000)\n",
    "\n",
    "mi_aprendiz4.optimizar_funcion_objetivo()"
   ]
  },
  {
   "cell_type": "code",
   "execution_count": 333,
   "metadata": {
    "colab": {
     "autoexec": {
      "startup": false,
      "wait_interval": 0
     },
     "base_uri": "https://localhost:8080/",
     "height": 51
    },
    "colab_type": "code",
    "executionInfo": {
     "elapsed": 336,
     "status": "ok",
     "timestamp": 1527578273026,
     "user": {
      "displayName": "Cindy Orozco",
      "photoUrl": "//lh3.googleusercontent.com/-jAVKPv2uwtg/AAAAAAAAAAI/AAAAAAAAABI/m8_L3I7XWjU/s50-c-k-no/photo.jpg",
      "userId": "117886146899397189915"
     },
     "user_tz": 420
    },
    "id": "kS6xKMu3jWZr",
    "outputId": "6e135ae0-c7e5-495d-861c-cf1d287970b2"
   },
   "outputs": [
    {
     "name": "stdout",
     "output_type": "stream",
     "text": [
      "[-0.03584     0.06034286  0.55652075  0.25813333  0.17005714  0.1264\n",
      "  0.32689231 -0.008       0.05851429]\n"
     ]
    }
   ],
   "source": [
    "print(mi_aprendiz4.valor_estado_accion[tuple([0,]*9)])"
   ]
  },
  {
   "cell_type": "code",
   "execution_count": 0,
   "metadata": {
    "colab": {
     "autoexec": {
      "startup": false,
      "wait_interval": 0
     }
    },
    "colab_type": "code",
    "collapsed": true,
    "id": "Usw0rPFolDLE"
   },
   "outputs": [],
   "source": [
    "def reflejo_x_conf(configuracion):\n",
    "  matriz_conf = np.reshape(np.array(configuracion),(3,3))\n",
    "  nueva_conf = np.zeros((3,3),dtype=int)\n",
    "  nueva_conf[0,:] = matriz_conf[2,:]\n",
    "  nueva_conf[1,:] = matriz_conf[1,:]\n",
    "  nueva_conf[2,:] = matriz_conf[0,:]\n",
    "  return (list(np.reshape(nueva_conf,9)))\n",
    "\n",
    "def reflejo_y_conf(configuracion):\n",
    "  matriz_conf = np.reshape(np.array(configuracion),(3,3))\n",
    "  nueva_conf = np.zeros((3,3),dtype=int)\n",
    "  nueva_conf[:,0] = matriz_conf[:,2]\n",
    "  nueva_conf[:,1] = matriz_conf[:,1]\n",
    "  nueva_conf[:,2] = matriz_conf[:,0]\n",
    "  return (list(np.reshape(nueva_conf,9)))\n",
    "\n",
    "def traspuesta_conf(configuracion):\n",
    "  matriz_conf = np.reshape(np.array(configuracion),(3,3))\n",
    "  nueva_conf = np.transpose(matriz_conf)\n",
    "  return (list(np.reshape(nueva_conf,9)))\n",
    "\n",
    "def reflejo_x_accion(accion):\n",
    "  if accion < 3:\n",
    "    return accion + 6\n",
    "  if accion > 5:\n",
    "    return accion - 6\n",
    "  return accion\n",
    "  \n",
    "def reflejo_y_accion(accion):\n",
    "  if (accion % 3 == 0):\n",
    "    return accion + 2\n",
    "  if (accion % 3 == 2):\n",
    "    return accion - 2\n",
    "  return accion\n",
    "\n",
    "def traspuesta_accion(accion):\n",
    "  i = accion % 3\n",
    "  j = accion / 3\n",
    "  return i*3+j\n",
    "  "
   ]
  },
  {
   "cell_type": "code",
   "execution_count": 24,
   "metadata": {
    "colab": {
     "autoexec": {
      "startup": false,
      "wait_interval": 0
     },
     "base_uri": "https://localhost:8080/",
     "height": 187
    },
    "colab_type": "code",
    "executionInfo": {
     "elapsed": 305,
     "status": "ok",
     "timestamp": 1527595780725,
     "user": {
      "displayName": "Cindy Orozco",
      "photoUrl": "//lh3.googleusercontent.com/-jAVKPv2uwtg/AAAAAAAAAAI/AAAAAAAAABI/m8_L3I7XWjU/s50-c-k-no/photo.jpg",
      "userId": "117886146899397189915"
     },
     "user_tz": 420
    },
    "id": "O-8LSFQUo9EK",
    "outputId": "9fe14bb1-3a56-499b-b5e8-c9df94918a3d"
   },
   "outputs": [
    {
     "name": "stdout",
     "output_type": "stream",
     "text": [
      "[0, 0, 0, 0, 0, 0, 0, 0, 0]\n",
      "[2, 2, 2, 0, 1, 1, 0, 1, 2]\n",
      "[2, 1, 0, 1, 1, 0, 2, 2, 2]\n",
      "[2, 2, 2, 1, 1, 0, 2, 1, 0]\n",
      "[0, 0, 2, 1, 1, 2, 2, 1, 2]\n",
      "[2, 1, 2, 1, 1, 2, 0, 0, 2]\n",
      "[2, 0, 0, 2, 1, 1, 2, 1, 2]\n",
      "[2, 1, 2, 2, 1, 1, 2, 0, 0]\n",
      "[0, 1, 2, 0, 1, 1, 2, 2, 2]\n",
      "6\n"
     ]
    }
   ],
   "source": [
    "Casa = [0,1,2,0,1,1,2,2,2]\n",
    "print(reflejo_x_conf([0]*9))\n",
    "print(reflejo_x_conf(Casa))\n",
    "print(reflejo_y_conf(Casa))\n",
    "print(reflejo_x_conf(reflejo_y_conf(Casa)))\n",
    "Casa2 = traspuesta_conf(Casa)\n",
    "print(Casa2)\n",
    "print(reflejo_x_conf(Casa2))\n",
    "print(reflejo_y_conf(Casa2))\n",
    "print(reflejo_x_conf(reflejo_y_conf(Casa2)))\n",
    "print(Casa)\n",
    "print(traspuesta_accion(2))\n"
   ]
  },
  {
   "cell_type": "code",
   "execution_count": 0,
   "metadata": {
    "colab": {
     "autoexec": {
      "startup": false,
      "wait_interval": 0
     }
    },
    "colab_type": "code",
    "collapsed": true,
    "id": "2LCQZXKGnyxp"
   },
   "outputs": [],
   "source": [
    "valor_estado_accion = np.ones((3,)*9+(9,))*-2\n",
    "print(np.size(valor_estado_accion))\n",
    "\n",
    "\n",
    "valor_estado_accion = inicializar_valor_estado_accion(valor_estado_accion)\n",
    "  \n",
    "num_estado_accion = np.zeros((3,)*9+(9,))\n",
    "\n",
    "class juego_aprendiz_MC_2:\n",
    "  def __init__(self,valor_estado_accion,num_estado_accion,num_iteraciones = 100,disc_factor = 0.8):\n",
    "    self.valor_estado_accion = copy.deepcopy(valor_estado_accion)\n",
    "    self.num_estado_accion = copy.deepcopy(num_estado_accion)\n",
    "    self.num_iteraciones = num_iteraciones\n",
    "    self.iteracion = 0\n",
    "    self.ganancias = 0\n",
    "    self.perdidas = 0\n",
    "    self.empates = 0\n",
    "    self.disc_factor = disc_factor\n",
    "    \n",
    "  def optimizar_funcion_objetivo(self):\n",
    "    \"\"\"\n",
    "    Utilizar MC para mejorar la funcion objetivo\n",
    "    \"\"\"\n",
    "    for i in xrange(self.num_iteraciones):\n",
    "      self.iteracion = i\n",
    "      quien_inicia = random.choice([1,2])\n",
    "      [ganador,configuraciones,acciones] = jugar(quien_inicia, self.opcion_optima)\n",
    "      precio = 0\n",
    "    \n",
    "      alpha = 100.\n",
    "      if ganador == 1:\n",
    "        precio = 1\n",
    "        self.ganancias += (1.- self.ganancias)/alpha\n",
    "        self.perdidas += (0.- self.perdidas)/alpha\n",
    "        self.empates += (0.- self.empates)/alpha\n",
    "      elif ganador == 2:\n",
    "        precio = -1\n",
    "        self.ganancias += (0.- self.ganancias)/alpha\n",
    "        self.perdidas += (1.- self.perdidas)/alpha\n",
    "        self.empates += (0.- self.empates)/alpha\n",
    "      else:\n",
    "        self.ganancias += (0.- self.ganancias)/alpha\n",
    "        self.perdidas += (0.- self.perdidas)/alpha\n",
    "        self.empates += (1.- self.empates)/alpha\n",
    "        \n",
    "      #print (quien_inicia,ganador,self.ganancias, self.perdidas, self.empates)  \n",
    "       \n",
    "      #print (ganador)\n",
    "      for conf,accion,exponente in zip(configuraciones,acciones,xrange(len(acciones)-1,-1,-1)):\n",
    "        alpha = 100\n",
    "        \n",
    "        \n",
    "        indice = tuple(conf + [accion,])\n",
    "        self.num_estado_accion[indice] += 1\n",
    "        #alpha = self.num_estado_accion[indice]\n",
    "        error = precio * (self.disc_factor ** exponente) - self.valor_estado_accion[indice] \n",
    "        self.valor_estado_accion[indice] += error/alpha\n",
    "        \n",
    "        #Apply symmetries\n",
    "        conf2 = reflejo_x_conf(conf)\n",
    "        accion2 = reflejo_x_accion(accion)\n",
    "        indice2 = tuple(conf2 + [accion2,])\n",
    "        self.num_estado_accion[indice2] += 1\n",
    "        #alpha = self.num_estado_accion[indice2]\n",
    "        error = precio * (self.disc_factor ** exponente) - self.valor_estado_accion[indice2] \n",
    "        self.valor_estado_accion[indice2] += error/alpha\n",
    "        \n",
    "        conf2 = reflejo_y_conf(conf)\n",
    "        accion2 = reflejo_y_accion(accion)\n",
    "        indice2 = tuple(conf2 + [accion2,])\n",
    "        self.num_estado_accion[indice2] += 1\n",
    "        #alpha = self.num_estado_accion[indice2]\n",
    "        error = precio * (self.disc_factor ** exponente) - self.valor_estado_accion[indice2] \n",
    "        self.valor_estado_accion[indice2] += error/alpha\n",
    "        \n",
    "        conf2 = reflejo_x_conf(reflejo_y_conf(conf))\n",
    "        accion2 = reflejo_x_accion(reflejo_y_accion(accion))\n",
    "        indice2 = tuple(conf2 + [accion2,])\n",
    "        self.num_estado_accion[indice2] += 1\n",
    "        #alpha = self.num_estado_accion[indice2]\n",
    "        error = precio * (self.disc_factor ** exponente) - self.valor_estado_accion[indice2] \n",
    "        self.valor_estado_accion[indice2] += error/alpha\n",
    "        \n",
    "        #Con transpuesta\n",
    "        conf3 = traspuesta_conf(conf)\n",
    "        accion3 = traspuesta_accion(accion)\n",
    "        indice2 = tuple(conf3 + [accion3,])\n",
    "        self.num_estado_accion[indice2] += 1\n",
    "        #alpha = self.num_estado_accion[indice2]\n",
    "        error = precio * (self.disc_factor ** exponente) - self.valor_estado_accion[indice2] \n",
    "        self.valor_estado_accion[indice2] += error/alpha\n",
    "        \n",
    "        \n",
    "        conf2 = reflejo_x_conf(conf3)\n",
    "        accion2 = reflejo_x_accion(accion3)\n",
    "        indice2 = tuple(conf2 + [accion2,])\n",
    "        self.num_estado_accion[indice2] += 1\n",
    "        #alpha = self.num_estado_accion[indice2]\n",
    "        error = precio * (self.disc_factor ** exponente) - self.valor_estado_accion[indice2] \n",
    "        self.valor_estado_accion[indice2] += error/alpha\n",
    "        \n",
    "        conf2 = reflejo_y_conf(conf3)\n",
    "        accion2 = reflejo_y_accion(accion3)\n",
    "        indice2 = tuple(conf2 + [accion2,])\n",
    "        self.num_estado_accion[indice2] += 1\n",
    "        #alpha = self.num_estado_accion[indice2]\n",
    "        error = precio * (self.disc_factor ** exponente) - self.valor_estado_accion[indice2] \n",
    "        self.valor_estado_accion[indice2] += error/alpha\n",
    "        \n",
    "        conf2 = reflejo_x_conf(reflejo_y_conf(conf3))\n",
    "        accion2 = reflejo_x_accion(reflejo_y_accion(accion3))\n",
    "        indice2 = tuple(conf2 + [accion2,])\n",
    "        self.num_estado_accion[indice2] += 1\n",
    "        #alpha = self.num_estado_accion[indice2]\n",
    "        error = precio * (self.disc_factor ** exponente) - self.valor_estado_accion[indice2] \n",
    "        self.valor_estado_accion[indice2] += error/alpha\n",
    "    \n",
    "      \n",
    "  def opcion_optima(self,configuracion):\n",
    "    \"\"\"Selecciona la mejor configuracion de acuerdo a la funcion de valor \n",
    "    segun estado y accion \"\"\"\n",
    "    #Recolectar el vector de acciones segun configuracion\n",
    "    val_acciones = self.valor_estado_accion[tuple(configuracion)] \n",
    "    \n",
    "    #Seleccionar las acciones posibles (una accion no es posible si la casilla \n",
    "    #esta llena)\n",
    "    \n",
    "    acciones = np.where( val_acciones > -2 )\n",
    "    acciones = acciones[0]\n",
    "    mejor_accion = 0\n",
    "    #epsilon-greedy\n",
    "    if len(acciones) > 0:\n",
    "      \n",
    "      u = random.random()\n",
    "      \n",
    "      if u * self.iteracion < 100.:\n",
    "        \n",
    "        mejor_accion = random.choice(acciones)\n",
    "    \n",
    "      else:\n",
    "    \n",
    "        mejor_valor = np.amax(val_acciones[acciones])\n",
    "        index_accion = np.where(val_acciones[acciones] == mejor_valor )\n",
    "        index_accion = index_accion[0]\n",
    "    \n",
    "        if len(index_accion)>1:\n",
    "          mejor_accion = acciones[random.choice(index_accion)]\n",
    "      \n",
    "        else: \n",
    "          mejor_accion = acciones[index_accion[0]]\n",
    "    \n",
    "    return mejor_accion\n",
    "    \n",
    "mi_aprendiz = juego_aprendiz_MC_2(valor_estado_accion,num_estado_accion,100000)\n",
    "mi_aprendiz.optimizar_funcion_objetivo()"
   ]
  },
  {
   "cell_type": "code",
   "execution_count": 38,
   "metadata": {
    "colab": {
     "autoexec": {
      "startup": false,
      "wait_interval": 0
     },
     "base_uri": "https://localhost:8080/",
     "height": 51
    },
    "colab_type": "code",
    "executionInfo": {
     "elapsed": 398,
     "status": "ok",
     "timestamp": 1527596750903,
     "user": {
      "displayName": "Cindy Orozco",
      "photoUrl": "//lh3.googleusercontent.com/-jAVKPv2uwtg/AAAAAAAAAAI/AAAAAAAAABI/m8_L3I7XWjU/s50-c-k-no/photo.jpg",
      "userId": "117886146899397189915"
     },
     "user_tz": 420
    },
    "id": "UCY6tRTPp2El",
    "outputId": "7110c69e-c36e-4c39-8078-24dcfd70ca22"
   },
   "outputs": [
    {
     "name": "stdout",
     "output_type": "stream",
     "text": [
      "[ 0.09613552  0.06064693  0.09613552  0.0153041   0.12351794  0.0153041\n",
      "  0.41764943 -2.          0.41764943]\n"
     ]
    }
   ],
   "source": [
    "print(mi_aprendiz.valor_estado_accion[(0,0,0,0,0,0,0,2,0)])"
   ]
  },
  {
   "cell_type": "code",
   "execution_count": 13,
   "metadata": {
    "colab": {
     "autoexec": {
      "startup": false,
      "wait_interval": 0
     },
     "base_uri": "https://localhost:8080/",
     "height": 51
    },
    "colab_type": "code",
    "executionInfo": {
     "elapsed": 534,
     "status": "ok",
     "timestamp": 1527578880378,
     "user": {
      "displayName": "Cindy Orozco",
      "photoUrl": "//lh3.googleusercontent.com/-jAVKPv2uwtg/AAAAAAAAAAI/AAAAAAAAABI/m8_L3I7XWjU/s50-c-k-no/photo.jpg",
      "userId": "117886146899397189915"
     },
     "user_tz": 420
    },
    "id": "4vK18AM_mEGA",
    "outputId": "97b0f932-9799-4e5f-d2b8-f37900a3a30b"
   },
   "outputs": [
    {
     "name": "stdout",
     "output_type": "stream",
     "text": [
      "[6.00000e+01 4.20000e+01 6.00000e+01 4.20000e+01 3.98856e+05 4.20000e+01\n",
      " 6.00000e+01 4.20000e+01 6.00000e+01]\n"
     ]
    }
   ],
   "source": [
    "print(mi_aprendiz.num_estado_accion[tuple([0,]*9)])"
   ]
  },
  {
   "cell_type": "code",
   "execution_count": 0,
   "metadata": {
    "colab": {
     "autoexec": {
      "startup": false,
      "wait_interval": 0
     }
    },
    "colab_type": "code",
    "collapsed": true,
    "id": "mfSraTuA3_tr"
   },
   "outputs": [],
   "source": [
    "def conjugada_configuracion(configuracion):\n",
    "  \"\"\"Cambia los 1 por 2 y viceversa\"\"\"\n",
    "  nueva_configuracion = []\n",
    "  for i in xrange(len(configuracion)):\n",
    "    if configuracion[i] == 1:\n",
    "      nueva_configuracion.append(2)\n",
    "    elif configuracion[i] == 2:\n",
    "      nueva_configuracion.append(1)\n",
    "    else:\n",
    "      nueva_configuracion.append(0)\n",
    "  return nueva_configuracion "
   ]
  },
  {
   "cell_type": "code",
   "execution_count": 55,
   "metadata": {
    "colab": {
     "autoexec": {
      "startup": false,
      "wait_interval": 0
     },
     "base_uri": "https://localhost:8080/",
     "height": 170
    },
    "colab_type": "code",
    "executionInfo": {
     "elapsed": 335,
     "status": "ok",
     "timestamp": 1527597926290,
     "user": {
      "displayName": "Cindy Orozco",
      "photoUrl": "//lh3.googleusercontent.com/-jAVKPv2uwtg/AAAAAAAAAAI/AAAAAAAAABI/m8_L3I7XWjU/s50-c-k-no/photo.jpg",
      "userId": "117886146899397189915"
     },
     "user_tz": 420
    },
    "id": "_QpU26H47Jpf",
    "outputId": "09bc14eb-2dd8-4b1f-ce43-58cc23caadb6"
   },
   "outputs": [
    {
     "name": "stdout",
     "output_type": "stream",
     "text": [
      "hola\n",
      "[0]\n",
      "[0, 2]\n",
      "[0, 2, 1]\n",
      "[0, 2, 1, 0]\n",
      "[0, 2, 1, 0, 0]\n",
      "[0, 2, 1, 0, 0, 0]\n",
      "[0, 2, 1, 0, 0, 0, 1]\n"
     ]
    },
    {
     "data": {
      "text/plain": [
       "[0, 2, 1, 0, 0, 0, 1]"
      ]
     },
     "execution_count": 55,
     "metadata": {
      "tags": []
     },
     "output_type": "execute_result"
    }
   ],
   "source": [
    "conjugada_configuracion(np.array([0,1,2,0,0,0,2]))"
   ]
  },
  {
   "cell_type": "code",
   "execution_count": 160,
   "metadata": {
    "colab": {
     "autoexec": {
      "startup": false,
      "wait_interval": 0
     },
     "base_uri": "https://localhost:8080/",
     "height": 106
    },
    "colab_type": "code",
    "executionInfo": {
     "elapsed": 374,
     "status": "ok",
     "timestamp": 1527603914159,
     "user": {
      "displayName": "Cindy Orozco",
      "photoUrl": "//lh3.googleusercontent.com/-jAVKPv2uwtg/AAAAAAAAAAI/AAAAAAAAABI/m8_L3I7XWjU/s50-c-k-no/photo.jpg",
      "userId": "117886146899397189915"
     },
     "user_tz": 420
    },
    "id": "UHIo0mi32ASo",
    "outputId": "cff4a403-b9f1-4f10-f3b0-3a947e688f72"
   },
   "outputs": [
    {
     "data": {
      "text/html": [
       "\n",
       "    Posiciones del juego, tu eres X, yo soy O: <br>\n",
       "    <button id='button0'>0</button>\n",
       "    <script>\n",
       "      document.querySelector('#button0').onclick = () => {\n",
       "        google.colab.kernel.invokeFunction('notebook.updatelist', [0], {});\n",
       "      };\n",
       "    </script>\n",
       "    <button id='button1'>1</button>\n",
       "    <script>\n",
       "      document.querySelector('#button1').onclick = () => {\n",
       "        google.colab.kernel.invokeFunction('notebook.updatelist', [1], {});\n",
       "      };\n",
       "    </script>\n",
       "    <button id='button2'>2</button>\n",
       "    <script>\n",
       "      document.querySelector('#button2').onclick = () => {\n",
       "        google.colab.kernel.invokeFunction('notebook.updatelist', [2], {});\n",
       "      };\n",
       "    </script><br>\n",
       "    <button id='button3'>3</button>\n",
       "    <script>\n",
       "      document.querySelector('#button3').onclick = () => {\n",
       "        google.colab.kernel.invokeFunction('notebook.updatelist', [3], {});\n",
       "      };\n",
       "    </script>\n",
       "    <button id='button4'>4</button>\n",
       "    <script>\n",
       "      document.querySelector('#button4').onclick = () => {\n",
       "        google.colab.kernel.invokeFunction('notebook.updatelist', [4], {});\n",
       "      };\n",
       "    </script>\n",
       "    <button id='button5'>5</button>\n",
       "    <script>\n",
       "      document.querySelector('#button5').onclick = () => {\n",
       "        google.colab.kernel.invokeFunction('notebook.updatelist', [5], {});\n",
       "      };\n",
       "    </script><br>\n",
       "    <button id='button6'>6</button>\n",
       "    <script>\n",
       "      document.querySelector('#button6').onclick = () => {\n",
       "        google.colab.kernel.invokeFunction('notebook.updatelist', [6], {});\n",
       "      };\n",
       "    </script>\n",
       "    <button id='button7'>7</button>\n",
       "    <script>\n",
       "      document.querySelector('#button7').onclick = () => {\n",
       "        google.colab.kernel.invokeFunction('notebook.updatelist', [7], {});\n",
       "      };\n",
       "    </script>\n",
       "    <button id='button8'>8</button>\n",
       "    <script>\n",
       "      document.querySelector('#button8').onclick = () => {\n",
       "        google.colab.kernel.invokeFunction('notebook.updatelist', [8], {});\n",
       "      };\n",
       "    </script><br>\n",
       "    <button id='buttonempezar'>Yo empiezo</button>\n",
       "    <script>\n",
       "      document.querySelector('#buttonempezar').onclick = () => {\n",
       "        google.colab.kernel.invokeFunction('notebook.empezar', [], {});\n",
       "      };\n",
       "    </script>\n",
       "    "
      ],
      "text/plain": [
       "<IPython.core.display.HTML object>"
      ]
     },
     "metadata": {
      "tags": []
     },
     "output_type": "display_data"
    }
   ],
   "source": [
    "#Interactuar con el nuevo jugador\n",
    "#Botones para las posiciones en el juego\n",
    "\n",
    "display.display(display.HTML('''\n",
    "    Posiciones del juego, tu eres X, yo soy O: <br>\n",
    "    <button id='button0'>0</button>\n",
    "    <script>\n",
    "      document.querySelector('#button0').onclick = () => {\n",
    "        google.colab.kernel.invokeFunction('notebook.updatelist', [0], {});\n",
    "      };\n",
    "    </script>\n",
    "    <button id='button1'>1</button>\n",
    "    <script>\n",
    "      document.querySelector('#button1').onclick = () => {\n",
    "        google.colab.kernel.invokeFunction('notebook.updatelist', [1], {});\n",
    "      };\n",
    "    </script>\n",
    "    <button id='button2'>2</button>\n",
    "    <script>\n",
    "      document.querySelector('#button2').onclick = () => {\n",
    "        google.colab.kernel.invokeFunction('notebook.updatelist', [2], {});\n",
    "      };\n",
    "    </script><br>\n",
    "    <button id='button3'>3</button>\n",
    "    <script>\n",
    "      document.querySelector('#button3').onclick = () => {\n",
    "        google.colab.kernel.invokeFunction('notebook.updatelist', [3], {});\n",
    "      };\n",
    "    </script>\n",
    "    <button id='button4'>4</button>\n",
    "    <script>\n",
    "      document.querySelector('#button4').onclick = () => {\n",
    "        google.colab.kernel.invokeFunction('notebook.updatelist', [4], {});\n",
    "      };\n",
    "    </script>\n",
    "    <button id='button5'>5</button>\n",
    "    <script>\n",
    "      document.querySelector('#button5').onclick = () => {\n",
    "        google.colab.kernel.invokeFunction('notebook.updatelist', [5], {});\n",
    "      };\n",
    "    </script><br>\n",
    "    <button id='button6'>6</button>\n",
    "    <script>\n",
    "      document.querySelector('#button6').onclick = () => {\n",
    "        google.colab.kernel.invokeFunction('notebook.updatelist', [6], {});\n",
    "      };\n",
    "    </script>\n",
    "    <button id='button7'>7</button>\n",
    "    <script>\n",
    "      document.querySelector('#button7').onclick = () => {\n",
    "        google.colab.kernel.invokeFunction('notebook.updatelist', [7], {});\n",
    "      };\n",
    "    </script>\n",
    "    <button id='button8'>8</button>\n",
    "    <script>\n",
    "      document.querySelector('#button8').onclick = () => {\n",
    "        google.colab.kernel.invokeFunction('notebook.updatelist', [8], {});\n",
    "      };\n",
    "    </script><br>\n",
    "    <button id='buttonempezar'>Yo empiezo</button>\n",
    "    <script>\n",
    "      document.querySelector('#buttonempezar').onclick = () => {\n",
    "        google.colab.kernel.invokeFunction('notebook.empezar', [], {});\n",
    "      };\n",
    "    </script>\n",
    "    '''))\n",
    "\n",
    "#Clase para manejar el juego\n",
    "class juego_interactuar_MC:\n",
    "  def __init__(self,juego_base):\n",
    "    #Guarda la configuracion inicial \n",
    "    self.configuracion = [0]*9\n",
    "    self.juego_base = juego_base\n",
    "    #Evita seguir jugando si ya existe un ganador\n",
    "    self.fin_juego = False\n",
    "    self.inicio_juego = False\n",
    " \n",
    "  def refrescar_enemigo(self,numero):\n",
    "    \"\"\"\n",
    "    Esta funcion refresca la configuracion incluyendo la posicion aceptada por\n",
    "    el jugador\n",
    "    @param[in] numero Posicion en 0:9 en el tablero definida por los botones en \n",
    "                      el juego\n",
    "    \"\"\"\n",
    "    self.inicio_juego = True\n",
    "    if not self.fin_juego:\n",
    "      #Primero agrego tu posicion si es valida\n",
    "      if self.configuracion[numero] == 0:\n",
    "        \n",
    "        self.configuracion[numero] = 1\n",
    "                \n",
    "        #Verifico si tu eres el ganador\n",
    "        ganador = quien_es_ganador(self.configuracion)\n",
    "        if ganador == 1:\n",
    "          self.imprimir()\n",
    "          print(\"¡Tu ganaste!\")\n",
    "          self.fin_juego = True\n",
    "          return 'OK'\n",
    "        \n",
    "        #Actualizo mi posicion\n",
    "        mi_estado = self.refrescar_me()\n",
    "        self.imprimir()\n",
    "        \n",
    "        #Verifico si yo soy el ganador\n",
    "        ganador = quien_es_ganador(self.configuracion)\n",
    "        if ganador == 2:\n",
    "          self.fin_juego = True\n",
    "          print(\"¡Yo gane!\")\n",
    "          return 'OK'\n",
    "        \n",
    "        #Si no puedo jugar es porque el tablero esta lleno \n",
    "        if mi_estado < 2:\n",
    "          self.fin_juego = True\n",
    "          print(\"Ya no hay un ganador\")\n",
    "          return 'OK'\n",
    "                \n",
    "      else:\n",
    "        print (\"%d :Esa posicion ya esta ocupada\"%(numero))\n",
    "        \n",
    "    return 'OK'\n",
    "  \n",
    "  def refrescar_me(self):\n",
    "    \"\"\"\n",
    "    Esta funcion refresca la configuracion incluyendo la posicion del computador\n",
    "    \"\"\"\n",
    "    #Verifico cuales son mis jugadas\n",
    "    mis_acciones = acciones_posibles(self.configuracion)\n",
    "    num_acciones = len(mis_acciones)\n",
    "    \n",
    "    #Si puedo jugar, selecciono una posicion al azar\n",
    "    if num_acciones > 0:\n",
    "      conj_conf = conjugada_configuracion(self.configuracion)\n",
    "      accion = self.opcion_optima(conj_conf)\n",
    "      self.configuracion[accion] = 2\n",
    "\n",
    "    return num_acciones\n",
    "  \n",
    "  def opcion_optima(self,configuracion):\n",
    "    \"\"\"Selecciona la mejor configuracion de acuerdo a la funcion de valor \n",
    "    segun estado y accion \"\"\"\n",
    "    #Recolectar el vector de acciones segun configuracion\n",
    "    val_acciones = self.juego_base.valor_estado_accion[tuple(configuracion)] \n",
    "    \n",
    "    #Seleccionar las acciones posibles (una accion no es posible si la casilla \n",
    "    #esta llena)\n",
    "    #print(val_acciones)\n",
    "    acciones = np.where( val_acciones > -2 )\n",
    "    acciones = acciones[0]\n",
    "    mejor_accion = 0\n",
    "    #greedy\n",
    "    if len(acciones) > 0:\n",
    "      mejor_valor = np.amax(val_acciones[acciones])\n",
    "      index_accion = np.where(val_acciones[acciones] == mejor_valor )\n",
    "      index_accion = index_accion[0]\n",
    "    \n",
    "      if len(index_accion)>1:\n",
    "        mejor_accion = acciones[random.choice(index_accion)]\n",
    "      \n",
    "      else: \n",
    "        mejor_accion = acciones[index_accion[0]]\n",
    "    \n",
    "    return mejor_accion\n",
    "  \n",
    "  def comenzar_juego(self):\n",
    "    if not self.inicio_juego:\n",
    "      print(\"Yo comienzo :)\")\n",
    "      self.refrescar_me()\n",
    "      self.imprimir()\n",
    "      \n",
    "  def imprimir(self):\n",
    "    \"\"\"\n",
    "    Esta funcion imprime el tablero en forma de matriz\n",
    "    \"\"\"\n",
    "    for i in xrange(3):\n",
    "      linea = \" \";\n",
    "      for j in xrange(3):\n",
    "        if self.configuracion[i*3+j] == 0:\n",
    "          linea += \" \"\n",
    "        if self.configuracion[i*3+j] == 1:\n",
    "          linea += \"X\"\n",
    "        if self.configuracion[i*3+j] == 2:\n",
    "          linea += \"O\"\n",
    "        if j < 2:\n",
    "          linea += \"|\"\n",
    "      print(linea)\n",
    "    print(\"-+-+-+-+-+\")\n",
    "\n",
    "#Creamos una nueva instancia de juego\n",
    "mijuego2 = juego_interactuar_MC(mi_aprendiz)\n",
    " \n",
    "output.register_callback('notebook.updatelist',mijuego2.refrescar_enemigo)\n",
    "output.register_callback('notebook.empezar',mijuego2.comenzar_juego)"
   ]
  },
  {
   "cell_type": "markdown",
   "metadata": {
    "colab_type": "text",
    "id": "F6XoVerDCJrO"
   },
   "source": [
    "Hasta el momento puede bloquear jugadas, pero no reacciona cuando yo inicio jugando y estoy a punto de hacer una jugada. que pasa si lo enfrentamos contra si mismo?"
   ]
  },
  {
   "cell_type": "markdown",
   "metadata": {
    "colab_type": "text",
    "id": "VnnmucxeDDDx"
   },
   "source": [
    "Vamos a hacer la clase juego_a_aprender mas general"
   ]
  },
  {
   "cell_type": "code",
   "execution_count": 0,
   "metadata": {
    "colab": {
     "autoexec": {
      "startup": false,
      "wait_interval": 0
     }
    },
    "colab_type": "code",
    "collapsed": true,
    "id": "DDx4FtIxDBzz"
   },
   "outputs": [],
   "source": [
    "#Clase para manejar el juego\n",
    "class juego_a_aprender_2:\n",
    "  def __init__(self, juego_base,quien_inicia = 1):\n",
    "    self.configuracion = [0]*9\n",
    "    self.juego_base = juego_base\n",
    "    \n",
    "    #Si se decide quien inicia es la computadora\n",
    "    if quien_inicia == 2:\n",
    "      self.refrescar_me()\n",
    "    \n",
    "    #Evita seguir jugando si ya existe un ganador\n",
    "    self.fin_juego = False\n",
    "    #Guarda la lista de configuraciones\n",
    "    self.conj_configuracion = [copy.deepcopy(self.configuracion)];\n",
    "    #Guarda la lista de acciones\n",
    "    self.acciones = []\n",
    "  def refrescar_enemigo(self,numero):\n",
    "    \"\"\"\n",
    "    Esta funcion refresca la configuracion incluyendo la posicion aceptada por\n",
    "    el jugador\n",
    "    @param[in] numero Posicion en 0:9 definida por el otro jugador\n",
    "    \"\"\"\n",
    "    if not self.fin_juego:\n",
    "      #Primero agrego tu posicion si es valida\n",
    "      if self.configuracion[numero] == 0:\n",
    "        \n",
    "        self.configuracion[numero] = 1\n",
    "        #Agrego tus acciones a la lista\n",
    "        self.acciones.append(numero)\n",
    "        \n",
    "        #Verifico si tu eres el ganador\n",
    "        ganador = quien_es_ganador(self.configuracion)\n",
    "        if ganador == 1:\n",
    "          self.fin_juego = True\n",
    "          return ganador\n",
    "        \n",
    "        #Actualizo mi posicion\n",
    "        mi_estado = self.refrescar_me()\n",
    "        \n",
    "        #Si no puedo jugar es porque el tablero esta lleno \n",
    "        if mi_estado < 2:\n",
    "          self.fin_juego = True\n",
    "          if mi_estado == 0:\n",
    "            return 0\n",
    "        \n",
    "        self.conj_configuracion.append(copy.deepcopy(self.configuracion))\n",
    "        \n",
    "        #Verifico si yo soy el ganador\n",
    "        ganador = quien_es_ganador(self.configuracion)\n",
    "        if ganador == 2:\n",
    "          self.fin_juego = True\n",
    "          return ganador\n",
    "       \n",
    "    return 0\n",
    "  def opcion_optima(self,configuracion):\n",
    "    \"\"\"Selecciona la mejor configuracion de acuerdo a la funcion de valor \n",
    "    segun estado y accion \"\"\"\n",
    "    #Recolectar el vector de acciones segun configuracion\n",
    "    val_acciones = self.juego_base.valor_estado_accion[tuple(configuracion)] \n",
    "    \n",
    "    #Seleccionar las acciones posibles (una accion no es posible si la casilla \n",
    "    #esta llena)\n",
    "    \n",
    "    acciones = np.where( val_acciones > -2 )\n",
    "    acciones = acciones[0]\n",
    "    mejor_accion = 0\n",
    "    #greedy\n",
    "    if len(acciones) > 0:\n",
    "      mejor_valor = np.amax(val_acciones[acciones])\n",
    "      index_accion = np.where(val_acciones[acciones] == mejor_valor )\n",
    "      index_accion = index_accion[0]\n",
    "    \n",
    "      if len(index_accion)>1:\n",
    "        mejor_accion = acciones[random.choice(index_accion)]\n",
    "      \n",
    "      else: \n",
    "        mejor_accion = acciones[index_accion[0]]\n",
    "    \n",
    "    return mejor_accion\n",
    "  def refrescar_me(self):\n",
    "    \"\"\"\n",
    "    Esta funcion refresca la configuracion incluyendo la posicion del computador\n",
    "    \"\"\"\n",
    "    #Verifico cuales son mis jugadas\n",
    "    mis_acciones = acciones_posibles(self.configuracion)\n",
    "    num_acciones = len(mis_acciones)\n",
    "    \n",
    "    #Si puedo jugar, selecciono una posicion al azar\n",
    "    if num_acciones > 0:\n",
    "      conj_conf = conjugada_configuracion(self.configuracion)\n",
    "      accion = self.opcion_optima(conj_conf)\n",
    "      self.configuracion[accion] = 2\n",
    "      \n",
    "    return num_acciones\n",
    "\n",
    "#Creamos una nueva instancia de juego\n",
    "mijuego_profesor = juego_a_aprender_2(mi_aprendiz);  "
   ]
  },
  {
   "cell_type": "code",
   "execution_count": 0,
   "metadata": {
    "colab": {
     "autoexec": {
      "startup": false,
      "wait_interval": 0
     }
    },
    "colab_type": "code",
    "collapsed": true,
    "id": "YuF5JPmmEdgA"
   },
   "outputs": [],
   "source": [
    "def jugar_2(juego_base,quien_inicia,opcion_optima):\n",
    "  \"\"\"\n",
    "  Esta función interactua con refrescar enemigo del juego a aprender\n",
    "  \"\"\"\n",
    "  enemigo = juego_a_aprender_2(juego_base,quien_inicia)\n",
    "  while not enemigo.fin_juego:\n",
    "    #Vamos a seleccionar una opcion optima de acuerdo a la configuracion actual\n",
    "    accion = opcion_optima(enemigo.configuracion)\n",
    "    \n",
    "    if accion == -1:\n",
    "      break\n",
    "      \n",
    "    #Vamos a jugar con el enemigo\n",
    "    ganador = enemigo.refrescar_enemigo(accion)\n",
    "    \n",
    "  return (ganador, enemigo.conj_configuracion, enemigo.acciones)"
   ]
  },
  {
   "cell_type": "code",
   "execution_count": 105,
   "metadata": {
    "colab": {
     "autoexec": {
      "startup": false,
      "wait_interval": 0
     },
     "base_uri": "https://localhost:8080/",
     "height": 34
    },
    "colab_type": "code",
    "executionInfo": {
     "elapsed": 47713,
     "status": "ok",
     "timestamp": 1527600607013,
     "user": {
      "displayName": "Cindy Orozco",
      "photoUrl": "//lh3.googleusercontent.com/-jAVKPv2uwtg/AAAAAAAAAAI/AAAAAAAAABI/m8_L3I7XWjU/s50-c-k-no/photo.jpg",
      "userId": "117886146899397189915"
     },
     "user_tz": 420
    },
    "id": "JDhyxwO1CGrF",
    "outputId": "1436e79d-0bb7-41e8-82ed-43d3d41f2b33"
   },
   "outputs": [
    {
     "name": "stdout",
     "output_type": "stream",
     "text": [
      "177147\n"
     ]
    }
   ],
   "source": [
    "valor_estado_accion = np.ones((3,)*9+(9,))*-2\n",
    "print(np.size(valor_estado_accion))\n",
    "\n",
    "\n",
    "valor_estado_accion = inicializar_valor_estado_accion(valor_estado_accion)\n",
    "  \n",
    "num_estado_accion = np.zeros((3,)*9+(9,))\n",
    "\n",
    "class juego_aprendiz_MC_3:\n",
    "  def __init__(self,juego_base,valor_estado_accion,num_estado_accion,num_iteraciones = 100,disc_factor = 0.8):\n",
    "    self.juego_base = juego_base\n",
    "    self.valor_estado_accion = copy.deepcopy(valor_estado_accion)\n",
    "    self.num_estado_accion = copy.deepcopy(num_estado_accion)\n",
    "    self.num_iteraciones = num_iteraciones\n",
    "    self.iteracion = 0\n",
    "    self.ganancias = 0\n",
    "    self.perdidas = 0\n",
    "    self.empates = 0\n",
    "    self.disc_factor = disc_factor\n",
    "    \n",
    "  def optimizar_funcion_objetivo(self):\n",
    "    \"\"\"\n",
    "    Utilizar MC para mejorar la funcion objetivo\n",
    "    \"\"\"\n",
    "    for i in xrange(self.num_iteraciones):\n",
    "      self.iteracion = i\n",
    "      quien_inicia = random.choice([1,2])\n",
    "      [ganador,configuraciones,acciones] = jugar_2(self.juego_base,quien_inicia, self.opcion_optima)\n",
    "      precio = 0\n",
    "    \n",
    "      alpha = 100.\n",
    "      if ganador == 1:\n",
    "        precio = 1\n",
    "        self.ganancias += (1.- self.ganancias)/alpha\n",
    "        self.perdidas += (0.- self.perdidas)/alpha\n",
    "        self.empates += (0.- self.empates)/alpha\n",
    "      elif ganador == 2:\n",
    "        precio = -1\n",
    "        self.ganancias += (0.- self.ganancias)/alpha\n",
    "        self.perdidas += (1.- self.perdidas)/alpha\n",
    "        self.empates += (0.- self.empates)/alpha\n",
    "      else:\n",
    "        self.ganancias += (0.- self.ganancias)/alpha\n",
    "        self.perdidas += (0.- self.perdidas)/alpha\n",
    "        self.empates += (1.- self.empates)/alpha\n",
    "        \n",
    "      #print (quien_inicia,ganador,self.ganancias, self.perdidas, self.empates)  \n",
    "       \n",
    "      #print (ganador)\n",
    "      for conf,accion,exponente in zip(configuraciones,acciones,xrange(len(acciones)-1,-1,-1)):\n",
    "        alpha = 100\n",
    "        \n",
    "        \n",
    "        indice = tuple(conf + [accion,])\n",
    "        self.num_estado_accion[indice] += 1\n",
    "        #alpha = self.num_estado_accion[indice]\n",
    "        error = precio * (self.disc_factor ** exponente) - self.valor_estado_accion[indice] \n",
    "        self.valor_estado_accion[indice] += error/alpha\n",
    "        \n",
    "        #Apply symmetries\n",
    "        conf2 = reflejo_x_conf(conf)\n",
    "        accion2 = reflejo_x_accion(accion)\n",
    "        indice2 = tuple(conf2 + [accion2,])\n",
    "        self.num_estado_accion[indice2] += 1\n",
    "        #alpha = self.num_estado_accion[indice2]\n",
    "        error = precio * (self.disc_factor ** exponente) - self.valor_estado_accion[indice2] \n",
    "        self.valor_estado_accion[indice2] += error/alpha\n",
    "        \n",
    "        conf2 = reflejo_y_conf(conf)\n",
    "        accion2 = reflejo_y_accion(accion)\n",
    "        indice2 = tuple(conf2 + [accion2,])\n",
    "        self.num_estado_accion[indice2] += 1\n",
    "        #alpha = self.num_estado_accion[indice2]\n",
    "        error = precio * (self.disc_factor ** exponente) - self.valor_estado_accion[indice2] \n",
    "        self.valor_estado_accion[indice2] += error/alpha\n",
    "        \n",
    "        conf2 = reflejo_x_conf(reflejo_y_conf(conf))\n",
    "        accion2 = reflejo_x_accion(reflejo_y_accion(accion))\n",
    "        indice2 = tuple(conf2 + [accion2,])\n",
    "        self.num_estado_accion[indice2] += 1\n",
    "        #alpha = self.num_estado_accion[indice2]\n",
    "        error = precio * (self.disc_factor ** exponente) - self.valor_estado_accion[indice2] \n",
    "        self.valor_estado_accion[indice2] += error/alpha\n",
    "        \n",
    "        #Con transpuesta\n",
    "        conf3 = traspuesta_conf(conf)\n",
    "        accion3 = traspuesta_accion(accion)\n",
    "        indice2 = tuple(conf3 + [accion3,])\n",
    "        self.num_estado_accion[indice2] += 1\n",
    "        #alpha = self.num_estado_accion[indice2]\n",
    "        error = precio * (self.disc_factor ** exponente) - self.valor_estado_accion[indice2] \n",
    "        self.valor_estado_accion[indice2] += error/alpha\n",
    "        \n",
    "        \n",
    "        conf2 = reflejo_x_conf(conf3)\n",
    "        accion2 = reflejo_x_accion(accion3)\n",
    "        indice2 = tuple(conf2 + [accion2,])\n",
    "        self.num_estado_accion[indice2] += 1\n",
    "        #alpha = self.num_estado_accion[indice2]\n",
    "        error = precio * (self.disc_factor ** exponente) - self.valor_estado_accion[indice2] \n",
    "        self.valor_estado_accion[indice2] += error/alpha\n",
    "        \n",
    "        conf2 = reflejo_y_conf(conf3)\n",
    "        accion2 = reflejo_y_accion(accion3)\n",
    "        indice2 = tuple(conf2 + [accion2,])\n",
    "        self.num_estado_accion[indice2] += 1\n",
    "        #alpha = self.num_estado_accion[indice2]\n",
    "        error = precio * (self.disc_factor ** exponente) - self.valor_estado_accion[indice2] \n",
    "        self.valor_estado_accion[indice2] += error/alpha\n",
    "        \n",
    "        conf2 = reflejo_x_conf(reflejo_y_conf(conf3))\n",
    "        accion2 = reflejo_x_accion(reflejo_y_accion(accion3))\n",
    "        indice2 = tuple(conf2 + [accion2,])\n",
    "        self.num_estado_accion[indice2] += 1\n",
    "        #alpha = self.num_estado_accion[indice2]\n",
    "        error = precio * (self.disc_factor ** exponente) - self.valor_estado_accion[indice2] \n",
    "        self.valor_estado_accion[indice2] += error/alpha\n",
    "    \n",
    "      \n",
    "  def opcion_optima(self,configuracion):\n",
    "    \"\"\"Selecciona la mejor configuracion de acuerdo a la funcion de valor \n",
    "    segun estado y accion \"\"\"\n",
    "    #Recolectar el vector de acciones segun configuracion\n",
    "    val_acciones = self.valor_estado_accion[tuple(configuracion)] \n",
    "    \n",
    "    #Seleccionar las acciones posibles (una accion no es posible si la casilla \n",
    "    #esta llena)\n",
    "    \n",
    "    acciones = np.where( val_acciones > -2 )\n",
    "    acciones = acciones[0]\n",
    "    mejor_accion = 0\n",
    "    #epsilon-greedy\n",
    "    if len(acciones) > 0:\n",
    "      \n",
    "      u = random.random()\n",
    "      \n",
    "      if u * self.iteracion < 100.:\n",
    "        \n",
    "        mejor_accion = random.choice(acciones)\n",
    "    \n",
    "      else:\n",
    "    \n",
    "        mejor_valor = np.amax(val_acciones[acciones])\n",
    "        index_accion = np.where(val_acciones[acciones] == mejor_valor )\n",
    "        index_accion = index_accion[0]\n",
    "    \n",
    "        if len(index_accion)>1:\n",
    "          mejor_accion = acciones[random.choice(index_accion)]\n",
    "      \n",
    "        else: \n",
    "          mejor_accion = acciones[index_accion[0]]\n",
    "    \n",
    "    return mejor_accion\n",
    "    \n",
    "mi_aprendiz2 = juego_aprendiz_MC_3(mi_aprendiz,valor_estado_accion,num_estado_accion,100000)\n",
    "mi_aprendiz2.optimizar_funcion_objetivo()"
   ]
  },
  {
   "cell_type": "code",
   "execution_count": 111,
   "metadata": {
    "colab": {
     "autoexec": {
      "startup": false,
      "wait_interval": 0
     },
     "base_uri": "https://localhost:8080/",
     "height": 51
    },
    "colab_type": "code",
    "executionInfo": {
     "elapsed": 364,
     "status": "ok",
     "timestamp": 1527600701553,
     "user": {
      "displayName": "Cindy Orozco",
      "photoUrl": "//lh3.googleusercontent.com/-jAVKPv2uwtg/AAAAAAAAAAI/AAAAAAAAABI/m8_L3I7XWjU/s50-c-k-no/photo.jpg",
      "userId": "117886146899397189915"
     },
     "user_tz": 420
    },
    "id": "DUCk3yItFs0o",
    "outputId": "d334fc9b-4e71-462b-8396-210f93f84d25"
   },
   "outputs": [
    {
     "name": "stdout",
     "output_type": "stream",
     "text": [
      "[-0.1052203  -0.10740668 -2.          0.63999993 -0.11614075 -0.10740668\n",
      " -0.08733162  0.63999993 -0.1052203 ]\n"
     ]
    }
   ],
   "source": [
    "print(mi_aprendiz2.valor_estado_accion[(0,0,2,0,0,0,0,0,0)])"
   ]
  },
  {
   "cell_type": "code",
   "execution_count": 128,
   "metadata": {
    "colab": {
     "autoexec": {
      "startup": false,
      "wait_interval": 0
     },
     "base_uri": "https://localhost:8080/",
     "height": 293
    },
    "colab_type": "code",
    "executionInfo": {
     "elapsed": 334,
     "status": "ok",
     "timestamp": 1527601354111,
     "user": {
      "displayName": "Cindy Orozco",
      "photoUrl": "//lh3.googleusercontent.com/-jAVKPv2uwtg/AAAAAAAAAAI/AAAAAAAAABI/m8_L3I7XWjU/s50-c-k-no/photo.jpg",
      "userId": "117886146899397189915"
     },
     "user_tz": 420
    },
    "id": "nSkIuXfmF0FP",
    "outputId": "a8d8c971-c588-47f8-dd11-145ad512cc7b"
   },
   "outputs": [
    {
     "data": {
      "text/html": [
       "\n",
       "    Posiciones del juego, tu eres X, yo soy O: <br>\n",
       "    <button id='button0'>0</button>\n",
       "    <script>\n",
       "      document.querySelector('#button0').onclick = () => {\n",
       "        google.colab.kernel.invokeFunction('notebook.updatelist', [0], {});\n",
       "      };\n",
       "    </script>\n",
       "    <button id='button1'>1</button>\n",
       "    <script>\n",
       "      document.querySelector('#button1').onclick = () => {\n",
       "        google.colab.kernel.invokeFunction('notebook.updatelist', [1], {});\n",
       "      };\n",
       "    </script>\n",
       "    <button id='button2'>2</button>\n",
       "    <script>\n",
       "      document.querySelector('#button2').onclick = () => {\n",
       "        google.colab.kernel.invokeFunction('notebook.updatelist', [2], {});\n",
       "      };\n",
       "    </script><br>\n",
       "    <button id='button3'>3</button>\n",
       "    <script>\n",
       "      document.querySelector('#button3').onclick = () => {\n",
       "        google.colab.kernel.invokeFunction('notebook.updatelist', [3], {});\n",
       "      };\n",
       "    </script>\n",
       "    <button id='button4'>4</button>\n",
       "    <script>\n",
       "      document.querySelector('#button4').onclick = () => {\n",
       "        google.colab.kernel.invokeFunction('notebook.updatelist', [4], {});\n",
       "      };\n",
       "    </script>\n",
       "    <button id='button5'>5</button>\n",
       "    <script>\n",
       "      document.querySelector('#button5').onclick = () => {\n",
       "        google.colab.kernel.invokeFunction('notebook.updatelist', [5], {});\n",
       "      };\n",
       "    </script><br>\n",
       "    <button id='button6'>6</button>\n",
       "    <script>\n",
       "      document.querySelector('#button6').onclick = () => {\n",
       "        google.colab.kernel.invokeFunction('notebook.updatelist', [6], {});\n",
       "      };\n",
       "    </script>\n",
       "    <button id='button7'>7</button>\n",
       "    <script>\n",
       "      document.querySelector('#button7').onclick = () => {\n",
       "        google.colab.kernel.invokeFunction('notebook.updatelist', [7], {});\n",
       "      };\n",
       "    </script>\n",
       "    <button id='button8'>8</button>\n",
       "    <script>\n",
       "      document.querySelector('#button8').onclick = () => {\n",
       "        google.colab.kernel.invokeFunction('notebook.updatelist', [8], {});\n",
       "      };\n",
       "    </script><br>\n",
       "    <button id='buttonempezar'>Yo empiezo</button>\n",
       "    <script>\n",
       "      document.querySelector('#buttonempezar').onclick = () => {\n",
       "        google.colab.kernel.invokeFunction('notebook.empezar', [], {});\n",
       "      };\n",
       "    </script>\n",
       "    "
      ],
      "text/plain": [
       "<IPython.core.display.HTML object>"
      ]
     },
     "metadata": {
      "tags": []
     },
     "output_type": "display_data"
    },
    {
     "name": "stdout",
     "output_type": "stream",
     "text": [
      "[-2.         -0.10740668 -0.1052203  -0.10740668 -0.11614075  0.63999993\n",
      " -0.1052203   0.63999993 -0.08733162]\n",
      " X| | \n",
      "  | |O\n",
      "  | | \n",
      "-+-+-+-+-+\n",
      "[-2.  0.  0. -2.  0. -2.  0.  0.  0.]\n",
      " X| | \n",
      " X| |O\n",
      "  |O| \n",
      "-+-+-+-+-+\n"
     ]
    }
   ],
   "source": [
    "#Interactuar con el nuevo jugador\n",
    "#Botones para las posiciones en el juego\n",
    "\n",
    "display.display(display.HTML('''\n",
    "    Posiciones del juego, tu eres X, yo soy O: <br>\n",
    "    <button id='button0'>0</button>\n",
    "    <script>\n",
    "      document.querySelector('#button0').onclick = () => {\n",
    "        google.colab.kernel.invokeFunction('notebook.updatelist', [0], {});\n",
    "      };\n",
    "    </script>\n",
    "    <button id='button1'>1</button>\n",
    "    <script>\n",
    "      document.querySelector('#button1').onclick = () => {\n",
    "        google.colab.kernel.invokeFunction('notebook.updatelist', [1], {});\n",
    "      };\n",
    "    </script>\n",
    "    <button id='button2'>2</button>\n",
    "    <script>\n",
    "      document.querySelector('#button2').onclick = () => {\n",
    "        google.colab.kernel.invokeFunction('notebook.updatelist', [2], {});\n",
    "      };\n",
    "    </script><br>\n",
    "    <button id='button3'>3</button>\n",
    "    <script>\n",
    "      document.querySelector('#button3').onclick = () => {\n",
    "        google.colab.kernel.invokeFunction('notebook.updatelist', [3], {});\n",
    "      };\n",
    "    </script>\n",
    "    <button id='button4'>4</button>\n",
    "    <script>\n",
    "      document.querySelector('#button4').onclick = () => {\n",
    "        google.colab.kernel.invokeFunction('notebook.updatelist', [4], {});\n",
    "      };\n",
    "    </script>\n",
    "    <button id='button5'>5</button>\n",
    "    <script>\n",
    "      document.querySelector('#button5').onclick = () => {\n",
    "        google.colab.kernel.invokeFunction('notebook.updatelist', [5], {});\n",
    "      };\n",
    "    </script><br>\n",
    "    <button id='button6'>6</button>\n",
    "    <script>\n",
    "      document.querySelector('#button6').onclick = () => {\n",
    "        google.colab.kernel.invokeFunction('notebook.updatelist', [6], {});\n",
    "      };\n",
    "    </script>\n",
    "    <button id='button7'>7</button>\n",
    "    <script>\n",
    "      document.querySelector('#button7').onclick = () => {\n",
    "        google.colab.kernel.invokeFunction('notebook.updatelist', [7], {});\n",
    "      };\n",
    "    </script>\n",
    "    <button id='button8'>8</button>\n",
    "    <script>\n",
    "      document.querySelector('#button8').onclick = () => {\n",
    "        google.colab.kernel.invokeFunction('notebook.updatelist', [8], {});\n",
    "      };\n",
    "    </script><br>\n",
    "    <button id='buttonempezar'>Yo empiezo</button>\n",
    "    <script>\n",
    "      document.querySelector('#buttonempezar').onclick = () => {\n",
    "        google.colab.kernel.invokeFunction('notebook.empezar', [], {});\n",
    "      };\n",
    "    </script>\n",
    "    '''))\n",
    "\n",
    "\n",
    "#Creamos una nueva instancia de juego\n",
    "mijuego3 = juego_interactuar_MC(mi_aprendiz2)\n",
    " \n",
    "output.register_callback('notebook.updatelist',mijuego3.refrescar_enemigo)\n",
    "output.register_callback('notebook.empezar',mijuego3.comenzar_juego)"
   ]
  },
  {
   "cell_type": "markdown",
   "metadata": {
    "colab_type": "text",
    "id": "A3ZjWAagIzZv"
   },
   "source": [
    "El juego sigue sin reconocer cuando casi el opuesto va a ganar, por lo tanto vamos a entrenarlo con el mismo jugador aleatorio, pero forzando a que cuando este pueda ganar en una jugada, lo haga."
   ]
  },
  {
   "cell_type": "code",
   "execution_count": 0,
   "metadata": {
    "colab": {
     "autoexec": {
      "startup": false,
      "wait_interval": 0
     }
    },
    "colab_type": "code",
    "collapsed": true,
    "id": "WIjZ0yF_IyxZ"
   },
   "outputs": [],
   "source": [
    "#Clase para manejar el juego\n",
    "class juego_a_aprender_3:\n",
    "  def __init__(self, quien_inicia = 1):\n",
    "    self.configuracion = [0]*9\n",
    "    \n",
    "    #Si se decide quien inicia es la computadora\n",
    "    if quien_inicia == 2:\n",
    "      self.refrescar_me()\n",
    "    \n",
    "    #Evita seguir jugando si ya existe un ganador\n",
    "    self.fin_juego = False\n",
    "    #Guarda la lista de configuraciones\n",
    "    self.conj_configuracion = [copy.deepcopy(self.configuracion)];\n",
    "    #Guarda la lista de acciones\n",
    "    self.acciones = []\n",
    "  def refrescar_enemigo(self,numero):\n",
    "    \"\"\"\n",
    "    Esta funcion refresca la configuracion incluyendo la posicion aceptada por\n",
    "    el jugador\n",
    "    @param[in] numero Posicion en 0:9 definida por el otro jugador\n",
    "    \"\"\"\n",
    "    if not self.fin_juego:\n",
    "      #Primero agrego tu posicion si es valida\n",
    "      if self.configuracion[numero] == 0:\n",
    "        \n",
    "        self.configuracion[numero] = 1\n",
    "        #Agrego tus acciones a la lista\n",
    "        self.acciones.append(numero)\n",
    "        \n",
    "        #Verifico si tu eres el ganador\n",
    "        ganador = quien_es_ganador(self.configuracion)\n",
    "        if ganador == 1:\n",
    "          self.fin_juego = True\n",
    "          return ganador\n",
    "        \n",
    "        #Actualizo mi posicion\n",
    "        mi_estado = self.refrescar_me()\n",
    "        \n",
    "        #Si no puedo jugar es porque el tablero esta lleno \n",
    "        if mi_estado < 2:\n",
    "          self.fin_juego = True\n",
    "          if mi_estado == 0:\n",
    "            return 0\n",
    "        \n",
    "        self.conj_configuracion.append(copy.deepcopy(self.configuracion))\n",
    "        \n",
    "        #Verifico si yo soy el ganador\n",
    "        ganador = quien_es_ganador(self.configuracion)\n",
    "        if ganador == 2:\n",
    "          self.fin_juego = True\n",
    "          return ganador\n",
    "       \n",
    "    return 0\n",
    "  def opcion_optima(self,acciones):\n",
    "    \"\"\"Selecciona la mejor configuracion de acuerdo a la funcion de valor \n",
    "    segun estado y accion \"\"\"\n",
    "    #Recolectar el vector de acciones segun configuracion\n",
    "    pos_acciones = []\n",
    "    for accion in acciones:\n",
    "      pos_configuracion = copy.deepcopy(self.configuracion)\n",
    "      pos_configuracion[accion] = 2\n",
    "      if quien_es_ganador(pos_configuracion) == 2:\n",
    "        pos_acciones.append(accion)\n",
    "    \n",
    "    if len(pos_acciones)>1:\n",
    "      return random.choice(pos_acciones)\n",
    "      \n",
    "    elif len(pos_acciones)==1: \n",
    "      return pos_acciones[0]\n",
    "    else:\n",
    "      return random.choice(acciones)\n",
    "    \n",
    "  def refrescar_me(self):\n",
    "    \"\"\"\n",
    "    Esta funcion refresca la configuracion incluyendo la posicion del computador\n",
    "    \"\"\"\n",
    "    #Verifico cuales son mis jugadas\n",
    "    mis_acciones = acciones_posibles(self.configuracion)\n",
    "    num_acciones = len(mis_acciones)\n",
    "    \n",
    "    #Si puedo jugar, selecciono una posicion al azar\n",
    "    if num_acciones > 0:\n",
    "      accion = self.opcion_optima(mis_acciones)\n",
    "      self.configuracion[accion] = 2\n",
    "      \n",
    "    return num_acciones\n",
    "\n",
    "#Creamos una nueva instancia de juego\n",
    "mijuego_profesor2 = juego_a_aprender_3();  "
   ]
  },
  {
   "cell_type": "code",
   "execution_count": 0,
   "metadata": {
    "colab": {
     "autoexec": {
      "startup": false,
      "wait_interval": 0
     }
    },
    "colab_type": "code",
    "collapsed": true,
    "id": "CLthZ80JMsZG"
   },
   "outputs": [],
   "source": [
    "def jugar_3(quien_inicia,opcion_optima):\n",
    "  \"\"\"\n",
    "  Esta función interactua con refrescar enemigo del juego a aprender\n",
    "  \"\"\"\n",
    "  enemigo = juego_a_aprender_3(quien_inicia)\n",
    "  while not enemigo.fin_juego:\n",
    "    #Vamos a seleccionar una opcion optima de acuerdo a la configuracion actual\n",
    "    accion = opcion_optima(enemigo.configuracion)\n",
    "    \n",
    "    if accion == -1:\n",
    "      break\n",
    "      \n",
    "    #Vamos a jugar con el enemigo\n",
    "    ganador = enemigo.refrescar_enemigo(accion)\n",
    "    \n",
    "  return (ganador, enemigo.conj_configuracion, enemigo.acciones)"
   ]
  },
  {
   "cell_type": "code",
   "execution_count": 132,
   "metadata": {
    "colab": {
     "autoexec": {
      "startup": false,
      "wait_interval": 0
     },
     "base_uri": "https://localhost:8080/",
     "height": 34
    },
    "colab_type": "code",
    "executionInfo": {
     "elapsed": 76736,
     "status": "ok",
     "timestamp": 1527602565669,
     "user": {
      "displayName": "Cindy Orozco",
      "photoUrl": "//lh3.googleusercontent.com/-jAVKPv2uwtg/AAAAAAAAAAI/AAAAAAAAABI/m8_L3I7XWjU/s50-c-k-no/photo.jpg",
      "userId": "117886146899397189915"
     },
     "user_tz": 420
    },
    "id": "NbsR_G4nM0k9",
    "outputId": "e96297b3-7f89-4608-c16d-76460725cba7"
   },
   "outputs": [
    {
     "name": "stdout",
     "output_type": "stream",
     "text": [
      "177147\n"
     ]
    }
   ],
   "source": [
    "valor_estado_accion = np.ones((3,)*9+(9,))*-2\n",
    "print(np.size(valor_estado_accion))\n",
    "\n",
    "\n",
    "valor_estado_accion = inicializar_valor_estado_accion(valor_estado_accion)\n",
    "  \n",
    "num_estado_accion = np.zeros((3,)*9+(9,))\n",
    "\n",
    "class juego_aprendiz_MC_4:\n",
    "  def __init__(self,valor_estado_accion,num_estado_accion,num_iteraciones = 100,disc_factor = 0.8):\n",
    "    self.valor_estado_accion = copy.deepcopy(valor_estado_accion)\n",
    "    self.num_estado_accion = copy.deepcopy(num_estado_accion)\n",
    "    self.num_iteraciones = num_iteraciones\n",
    "    self.iteracion = 0\n",
    "    self.ganancias = 0\n",
    "    self.perdidas = 0\n",
    "    self.empates = 0\n",
    "    self.disc_factor = disc_factor\n",
    "    \n",
    "  def optimizar_funcion_objetivo(self):\n",
    "    \"\"\"\n",
    "    Utilizar MC para mejorar la funcion objetivo\n",
    "    \"\"\"\n",
    "    for i in xrange(self.num_iteraciones):\n",
    "      self.iteracion = i\n",
    "      quien_inicia = random.choice([1,2])\n",
    "      [ganador,configuraciones,acciones] = jugar_3(quien_inicia, self.opcion_optima)\n",
    "      precio = 0\n",
    "    \n",
    "      alpha = 100.\n",
    "      if ganador == 1:\n",
    "        precio = 1\n",
    "        self.ganancias += (1.- self.ganancias)/alpha\n",
    "        self.perdidas += (0.- self.perdidas)/alpha\n",
    "        self.empates += (0.- self.empates)/alpha\n",
    "      elif ganador == 2:\n",
    "        precio = -1\n",
    "        self.ganancias += (0.- self.ganancias)/alpha\n",
    "        self.perdidas += (1.- self.perdidas)/alpha\n",
    "        self.empates += (0.- self.empates)/alpha\n",
    "      else:\n",
    "        self.ganancias += (0.- self.ganancias)/alpha\n",
    "        self.perdidas += (0.- self.perdidas)/alpha\n",
    "        self.empates += (1.- self.empates)/alpha\n",
    "        \n",
    "      #print (quien_inicia,ganador,self.ganancias, self.perdidas, self.empates)  \n",
    "       \n",
    "      #print (ganador)\n",
    "      for conf,accion,exponente in zip(configuraciones,acciones,xrange(len(acciones)-1,-1,-1)):\n",
    "        alpha = 100\n",
    "        \n",
    "        \n",
    "        indice = tuple(conf + [accion,])\n",
    "        self.num_estado_accion[indice] += 1\n",
    "        #alpha = self.num_estado_accion[indice]\n",
    "        error = precio * (self.disc_factor ** exponente) - self.valor_estado_accion[indice] \n",
    "        self.valor_estado_accion[indice] += error/alpha\n",
    "        \n",
    "        #Apply symmetries\n",
    "        conf2 = reflejo_x_conf(conf)\n",
    "        accion2 = reflejo_x_accion(accion)\n",
    "        indice2 = tuple(conf2 + [accion2,])\n",
    "        self.num_estado_accion[indice2] += 1\n",
    "        #alpha = self.num_estado_accion[indice2]\n",
    "        error = precio * (self.disc_factor ** exponente) - self.valor_estado_accion[indice2] \n",
    "        self.valor_estado_accion[indice2] += error/alpha\n",
    "        \n",
    "        conf2 = reflejo_y_conf(conf)\n",
    "        accion2 = reflejo_y_accion(accion)\n",
    "        indice2 = tuple(conf2 + [accion2,])\n",
    "        self.num_estado_accion[indice2] += 1\n",
    "        #alpha = self.num_estado_accion[indice2]\n",
    "        error = precio * (self.disc_factor ** exponente) - self.valor_estado_accion[indice2] \n",
    "        self.valor_estado_accion[indice2] += error/alpha\n",
    "        \n",
    "        conf2 = reflejo_x_conf(reflejo_y_conf(conf))\n",
    "        accion2 = reflejo_x_accion(reflejo_y_accion(accion))\n",
    "        indice2 = tuple(conf2 + [accion2,])\n",
    "        self.num_estado_accion[indice2] += 1\n",
    "        #alpha = self.num_estado_accion[indice2]\n",
    "        error = precio * (self.disc_factor ** exponente) - self.valor_estado_accion[indice2] \n",
    "        self.valor_estado_accion[indice2] += error/alpha\n",
    "        \n",
    "        #Con transpuesta\n",
    "        conf3 = traspuesta_conf(conf)\n",
    "        accion3 = traspuesta_accion(accion)\n",
    "        indice2 = tuple(conf3 + [accion3,])\n",
    "        self.num_estado_accion[indice2] += 1\n",
    "        #alpha = self.num_estado_accion[indice2]\n",
    "        error = precio * (self.disc_factor ** exponente) - self.valor_estado_accion[indice2] \n",
    "        self.valor_estado_accion[indice2] += error/alpha\n",
    "        \n",
    "        \n",
    "        conf2 = reflejo_x_conf(conf3)\n",
    "        accion2 = reflejo_x_accion(accion3)\n",
    "        indice2 = tuple(conf2 + [accion2,])\n",
    "        self.num_estado_accion[indice2] += 1\n",
    "        #alpha = self.num_estado_accion[indice2]\n",
    "        error = precio * (self.disc_factor ** exponente) - self.valor_estado_accion[indice2] \n",
    "        self.valor_estado_accion[indice2] += error/alpha\n",
    "        \n",
    "        conf2 = reflejo_y_conf(conf3)\n",
    "        accion2 = reflejo_y_accion(accion3)\n",
    "        indice2 = tuple(conf2 + [accion2,])\n",
    "        self.num_estado_accion[indice2] += 1\n",
    "        #alpha = self.num_estado_accion[indice2]\n",
    "        error = precio * (self.disc_factor ** exponente) - self.valor_estado_accion[indice2] \n",
    "        self.valor_estado_accion[indice2] += error/alpha\n",
    "        \n",
    "        conf2 = reflejo_x_conf(reflejo_y_conf(conf3))\n",
    "        accion2 = reflejo_x_accion(reflejo_y_accion(accion3))\n",
    "        indice2 = tuple(conf2 + [accion2,])\n",
    "        self.num_estado_accion[indice2] += 1\n",
    "        #alpha = self.num_estado_accion[indice2]\n",
    "        error = precio * (self.disc_factor ** exponente) - self.valor_estado_accion[indice2] \n",
    "        self.valor_estado_accion[indice2] += error/alpha\n",
    "    \n",
    "      \n",
    "  def opcion_optima(self,configuracion):\n",
    "    \"\"\"Selecciona la mejor configuracion de acuerdo a la funcion de valor \n",
    "    segun estado y accion \"\"\"\n",
    "    #Recolectar el vector de acciones segun configuracion\n",
    "    val_acciones = self.valor_estado_accion[tuple(configuracion)] \n",
    "    \n",
    "    #Seleccionar las acciones posibles (una accion no es posible si la casilla \n",
    "    #esta llena)\n",
    "    \n",
    "    acciones = np.where( val_acciones > -2 )\n",
    "    acciones = acciones[0]\n",
    "    mejor_accion = 0\n",
    "    #epsilon-greedy\n",
    "    if len(acciones) > 0:\n",
    "      \n",
    "      u = random.random()\n",
    "      \n",
    "      if u * self.iteracion < 100.:\n",
    "        \n",
    "        mejor_accion = random.choice(acciones)\n",
    "    \n",
    "      else:\n",
    "    \n",
    "        mejor_valor = np.amax(val_acciones[acciones])\n",
    "        index_accion = np.where(val_acciones[acciones] == mejor_valor )\n",
    "        index_accion = index_accion[0]\n",
    "    \n",
    "        if len(index_accion)>1:\n",
    "          mejor_accion = acciones[random.choice(index_accion)]\n",
    "      \n",
    "        else: \n",
    "          mejor_accion = acciones[index_accion[0]]\n",
    "    \n",
    "    return mejor_accion\n",
    "    \n",
    "mi_aprendiz3 = juego_aprendiz_MC_4(valor_estado_accion,num_estado_accion,100000)\n",
    "mi_aprendiz3.optimizar_funcion_objetivo()"
   ]
  },
  {
   "cell_type": "code",
   "execution_count": 163,
   "metadata": {
    "colab": {
     "autoexec": {
      "startup": false,
      "wait_interval": 0
     },
     "base_uri": "https://localhost:8080/",
     "height": 395
    },
    "colab_type": "code",
    "executionInfo": {
     "elapsed": 638,
     "status": "ok",
     "timestamp": 1527609204510,
     "user": {
      "displayName": "Cindy Orozco",
      "photoUrl": "//lh3.googleusercontent.com/-jAVKPv2uwtg/AAAAAAAAAAI/AAAAAAAAABI/m8_L3I7XWjU/s50-c-k-no/photo.jpg",
      "userId": "117886146899397189915"
     },
     "user_tz": 420
    },
    "id": "jR_Q4nDiNGHd",
    "outputId": "ebd6a36d-0b58-492d-a3f2-d96c275e9c20"
   },
   "outputs": [
    {
     "data": {
      "text/html": [
       "\n",
       "    Posiciones del juego, tu eres X, yo soy O: <br>\n",
       "    <button id='button0'>0</button>\n",
       "    <script>\n",
       "      document.querySelector('#button0').onclick = () => {\n",
       "        google.colab.kernel.invokeFunction('notebook.updatelist', [0], {});\n",
       "      };\n",
       "    </script>\n",
       "    <button id='button1'>1</button>\n",
       "    <script>\n",
       "      document.querySelector('#button1').onclick = () => {\n",
       "        google.colab.kernel.invokeFunction('notebook.updatelist', [1], {});\n",
       "      };\n",
       "    </script>\n",
       "    <button id='button2'>2</button>\n",
       "    <script>\n",
       "      document.querySelector('#button2').onclick = () => {\n",
       "        google.colab.kernel.invokeFunction('notebook.updatelist', [2], {});\n",
       "      };\n",
       "    </script><br>\n",
       "    <button id='button3'>3</button>\n",
       "    <script>\n",
       "      document.querySelector('#button3').onclick = () => {\n",
       "        google.colab.kernel.invokeFunction('notebook.updatelist', [3], {});\n",
       "      };\n",
       "    </script>\n",
       "    <button id='button4'>4</button>\n",
       "    <script>\n",
       "      document.querySelector('#button4').onclick = () => {\n",
       "        google.colab.kernel.invokeFunction('notebook.updatelist', [4], {});\n",
       "      };\n",
       "    </script>\n",
       "    <button id='button5'>5</button>\n",
       "    <script>\n",
       "      document.querySelector('#button5').onclick = () => {\n",
       "        google.colab.kernel.invokeFunction('notebook.updatelist', [5], {});\n",
       "      };\n",
       "    </script><br>\n",
       "    <button id='button6'>6</button>\n",
       "    <script>\n",
       "      document.querySelector('#button6').onclick = () => {\n",
       "        google.colab.kernel.invokeFunction('notebook.updatelist', [6], {});\n",
       "      };\n",
       "    </script>\n",
       "    <button id='button7'>7</button>\n",
       "    <script>\n",
       "      document.querySelector('#button7').onclick = () => {\n",
       "        google.colab.kernel.invokeFunction('notebook.updatelist', [7], {});\n",
       "      };\n",
       "    </script>\n",
       "    <button id='button8'>8</button>\n",
       "    <script>\n",
       "      document.querySelector('#button8').onclick = () => {\n",
       "        google.colab.kernel.invokeFunction('notebook.updatelist', [8], {});\n",
       "      };\n",
       "    </script><br>\n",
       "    <button id='buttonempezar'>Yo empiezo</button>\n",
       "    <script>\n",
       "      document.querySelector('#buttonempezar').onclick = () => {\n",
       "        google.colab.kernel.invokeFunction('notebook.empezar', [], {});\n",
       "      };\n",
       "    </script>\n",
       "    "
      ],
      "text/plain": [
       "<IPython.core.display.HTML object>"
      ]
     },
     "metadata": {
      "tags": []
     },
     "output_type": "display_data"
    },
    {
     "name": "stdout",
     "output_type": "stream",
     "text": [
      " O|X| \n",
      "  | | \n",
      "  | | \n",
      "-+-+-+-+-+\n",
      " O|X| \n",
      "  |X| \n",
      "  |O| \n",
      "-+-+-+-+-+\n",
      " O|X| \n",
      " O|X| \n",
      "  |O|X\n",
      "-+-+-+-+-+\n",
      " O|X| \n",
      " O|X|X\n",
      " O|O|X\n",
      "-+-+-+-+-+\n",
      "¡Yo gane!\n"
     ]
    }
   ],
   "source": [
    "#Interactuar con el nuevo jugador\n",
    "#Botones para las posiciones en el juego\n",
    "\n",
    "display.display(display.HTML('''\n",
    "    Posiciones del juego, tu eres X, yo soy O: <br>\n",
    "    <button id='button0'>0</button>\n",
    "    <script>\n",
    "      document.querySelector('#button0').onclick = () => {\n",
    "        google.colab.kernel.invokeFunction('notebook.updatelist', [0], {});\n",
    "      };\n",
    "    </script>\n",
    "    <button id='button1'>1</button>\n",
    "    <script>\n",
    "      document.querySelector('#button1').onclick = () => {\n",
    "        google.colab.kernel.invokeFunction('notebook.updatelist', [1], {});\n",
    "      };\n",
    "    </script>\n",
    "    <button id='button2'>2</button>\n",
    "    <script>\n",
    "      document.querySelector('#button2').onclick = () => {\n",
    "        google.colab.kernel.invokeFunction('notebook.updatelist', [2], {});\n",
    "      };\n",
    "    </script><br>\n",
    "    <button id='button3'>3</button>\n",
    "    <script>\n",
    "      document.querySelector('#button3').onclick = () => {\n",
    "        google.colab.kernel.invokeFunction('notebook.updatelist', [3], {});\n",
    "      };\n",
    "    </script>\n",
    "    <button id='button4'>4</button>\n",
    "    <script>\n",
    "      document.querySelector('#button4').onclick = () => {\n",
    "        google.colab.kernel.invokeFunction('notebook.updatelist', [4], {});\n",
    "      };\n",
    "    </script>\n",
    "    <button id='button5'>5</button>\n",
    "    <script>\n",
    "      document.querySelector('#button5').onclick = () => {\n",
    "        google.colab.kernel.invokeFunction('notebook.updatelist', [5], {});\n",
    "      };\n",
    "    </script><br>\n",
    "    <button id='button6'>6</button>\n",
    "    <script>\n",
    "      document.querySelector('#button6').onclick = () => {\n",
    "        google.colab.kernel.invokeFunction('notebook.updatelist', [6], {});\n",
    "      };\n",
    "    </script>\n",
    "    <button id='button7'>7</button>\n",
    "    <script>\n",
    "      document.querySelector('#button7').onclick = () => {\n",
    "        google.colab.kernel.invokeFunction('notebook.updatelist', [7], {});\n",
    "      };\n",
    "    </script>\n",
    "    <button id='button8'>8</button>\n",
    "    <script>\n",
    "      document.querySelector('#button8').onclick = () => {\n",
    "        google.colab.kernel.invokeFunction('notebook.updatelist', [8], {});\n",
    "      };\n",
    "    </script><br>\n",
    "    <button id='buttonempezar'>Yo empiezo</button>\n",
    "    <script>\n",
    "      document.querySelector('#buttonempezar').onclick = () => {\n",
    "        google.colab.kernel.invokeFunction('notebook.empezar', [], {});\n",
    "      };\n",
    "    </script>\n",
    "    '''))\n",
    "\n",
    "\n",
    "#Creamos una nueva instancia de juego\n",
    "mijuego4 = juego_interactuar_MC(mi_aprendiz3)\n",
    " \n",
    "output.register_callback('notebook.updatelist',mijuego4.refrescar_enemigo)\n",
    "output.register_callback('notebook.empezar',mijuego4.comenzar_juego)"
   ]
  }
 ],
 "metadata": {
  "colab": {
   "collapsed_sections": [],
   "default_view": {},
   "name": "Triqui1",
   "provenance": [],
   "version": "0.3.2",
   "views": {}
  },
  "kernelspec": {
   "display_name": "Python(W&J_analytics)",
   "language": "python",
   "name": "wandj"
  },
  "language_info": {
   "codemirror_mode": {
    "name": "ipython",
    "version": 3
   },
   "file_extension": ".py",
   "mimetype": "text/x-python",
   "name": "python",
   "nbconvert_exporter": "python",
   "pygments_lexer": "ipython3",
   "version": "3.6.4"
  }
 },
 "nbformat": 4,
 "nbformat_minor": 1
}
