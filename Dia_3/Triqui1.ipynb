{
  "nbformat": 4,
  "nbformat_minor": 0,
  "metadata": {
    "colab": {
      "name": "Triqui1",
      "version": "0.3.2",
      "views": {},
      "default_view": {},
      "provenance": [],
      "collapsed_sections": []
    },
    "kernelspec": {
      "name": "python2",
      "display_name": "Python 2"
    }
  },
  "cells": [
    {
      "metadata": {
        "id": "4G-bY8WiADM7",
        "colab_type": "code",
        "colab": {
          "autoexec": {
            "startup": false,
            "wait_interval": 0
          }
        }
      },
      "cell_type": "code",
      "source": [
        "import numpy as np\n",
        "import matplotlib.pyplot as plt\n",
        "from google.colab import output\n",
        "from IPython import display\n",
        "import random\n",
        "import copy"
      ],
      "execution_count": 0,
      "outputs": []
    },
    {
      "metadata": {
        "id": "zBioEbsaGvEL",
        "colab_type": "code",
        "colab": {
          "autoexec": {
            "startup": false,
            "wait_interval": 0
          },
          "base_uri": "https://localhost:8080/",
          "height": 34
        },
        "outputId": "c1654d32-eae7-4905-fccf-482967828270",
        "executionInfo": {
          "status": "ok",
          "timestamp": 1527550622152,
          "user_tz": 420,
          "elapsed": 1277,
          "user": {
            "displayName": "Cindy Orozco",
            "photoUrl": "//lh3.googleusercontent.com/-jAVKPv2uwtg/AAAAAAAAAAI/AAAAAAAAABI/m8_L3I7XWjU/s50-c-k-no/photo.jpg",
            "userId": "117886146899397189915"
          }
        }
      },
      "cell_type": "code",
      "source": [
        "from tqdm import trange\n",
        "from time import sleep\n",
        "for _ in trange(10):\n",
        "  sleep(0.1)"
      ],
      "execution_count": 44,
      "outputs": [
        {
          "output_type": "stream",
          "text": [
            "100%|██████████| 10/10 [00:01<00:00,  9.87it/s]\n"
          ],
          "name": "stderr"
        }
      ]
    },
    {
      "metadata": {
        "id": "yCKsO1AE9aGu",
        "colab_type": "text"
      },
      "cell_type": "markdown",
      "source": [
        "# Aprendizaje por refuerzo: Jugando Triqui\n",
        "\n",
        "---\n",
        "\n"
      ]
    },
    {
      "metadata": {
        "id": "RBrhFqLh9jDl",
        "colab_type": "text"
      },
      "cell_type": "markdown",
      "source": [
        "## Programando las reglas de juego\n",
        "\n",
        "Para que un computador pueda entender un juego, primero debemos codificarlo usando números. Antes de empezar, recordemos un poco ¿Cuáles son las reglas de juego? \n",
        "\n",
        "1. ¿Cuántos jugadores hay? <font color='blue'>*2, uno __X__ y otro __O__* </font>   \n",
        "2. ¿Cuántas casillas hay? <font color='blue'>*9* </font> \n",
        "3. ¿Cuántos posibles estados tiene cada casilla? <font color='blue'>* 3: en blanco, __X__, o __O__*</font>\n",
        "4. ¿Cuántas configuraciones de tablero tenemos? <font color='blue'>* (3 estados) ^ (9 casillas) =19683 configuraciones*</font>\n",
        "5. ¿Cómo podemos representarlas? <font color='blue'>* Con un vector, en el que cada entrada puede ser 0 = en blanco, 1 =  __X__ , 2 = __O__, y decidiremos que el computador siempre jugará con __X__*</font>\n",
        "5. Dada una configuración, ¿Cuántas acciones podemos tomar? <font color='blue'>* Podemos poner una figura en cualquiera de las casillas libres. A lo más tenemos 9 acciones*</font> \n",
        "\n",
        "![Triqui](https://i.imgur.com/xZ7VyQ4.png)\n"
      ]
    },
    {
      "metadata": {
        "id": "jDKZTfh8KkOw",
        "colab_type": "text"
      },
      "cell_type": "markdown",
      "source": [
        "Tambien registraremos nuestro estado en un vector con 9 entradas, cada una con  valores 0, 1 o 2 que corresponderan a las configuraciones 0 = en blanco, 1 = __X__ , 2 = __O__, y así podemos usar este vector para acceder a la tabla ```estado_accion```, es decir ```estado_accion[estado]``` nos dará un vector con 9 posiciones en la que cada valor nos dirá cuanto esperamos obtener si ponemos nuestra __O__  en esa posición\n",
        "\n"
      ]
    },
    {
      "metadata": {
        "id": "1hh_DdifMLIq",
        "colab_type": "code",
        "colab": {
          "autoexec": {
            "startup": false,
            "wait_interval": 0
          },
          "base_uri": "https://localhost:8080/",
          "height": 34
        },
        "outputId": "47e37639-5f8e-407a-eea2-786f396e760e",
        "executionInfo": {
          "status": "ok",
          "timestamp": 1527546966868,
          "user_tz": 420,
          "elapsed": 341,
          "user": {
            "displayName": "Cindy Orozco",
            "photoUrl": "//lh3.googleusercontent.com/-jAVKPv2uwtg/AAAAAAAAAAI/AAAAAAAAABI/m8_L3I7XWjU/s50-c-k-no/photo.jpg",
            "userId": "117886146899397189915"
          }
        }
      },
      "cell_type": "code",
      "source": [
        "# Creamos 9 posiciones en 0, y nos aseguramos sean numeros enteros\n",
        "estado = [0]*9\n",
        "print(np.size(estado))"
      ],
      "execution_count": 30,
      "outputs": [
        {
          "output_type": "stream",
          "text": [
            "9\n"
          ],
          "name": "stdout"
        }
      ]
    },
    {
      "metadata": {
        "id": "8fiyaWFlMZAW",
        "colab_type": "text"
      },
      "cell_type": "markdown",
      "source": [
        "Dado que no todas las posiciones son factibles, las acciones posibles dependen de la configuración actual y saber si hay un ganador depende del juego, debemos crear funciones que miren a una configuración y nos digan si hay un ganador o no"
      ]
    },
    {
      "metadata": {
        "id": "z8l5eFXaMvAr",
        "colab_type": "code",
        "colab": {
          "autoexec": {
            "startup": false,
            "wait_interval": 0
          }
        },
        "cellView": "both"
      },
      "cell_type": "code",
      "source": [
        "def acciones_posibles(estado):\n",
        "  \"\"\"\n",
        "  Esta funcion decide que casillas estan libres para poner O \n",
        "    @param[in] estado   Vector con entradas de 0, 1 o 2 que define la \n",
        "                        configuración actual\n",
        "    @return    acciones Subconjunto de indices de (0,1,2,3,4,5,6,7,8) en los que\n",
        "                        se puede poner una nueva O, es decir en la configuracion\n",
        "                        actual estan en blanco\n",
        "  \"\"\"\n",
        "  acciones = np.where( np.array(estado) == 0 )\n",
        "  return acciones[0]"
      ],
      "execution_count": 0,
      "outputs": []
    },
    {
      "metadata": {
        "id": "-5W6iMYr4PH8",
        "colab_type": "text"
      },
      "cell_type": "markdown",
      "source": [
        "Para corroborar que nuestra función retorna lo que necesitamos podemos hacer la prueba con diferentes estados"
      ]
    },
    {
      "metadata": {
        "id": "_NO6tC9O4Ogd",
        "colab_type": "code",
        "colab": {
          "autoexec": {
            "startup": false,
            "wait_interval": 0
          },
          "base_uri": "https://localhost:8080/",
          "height": 51
        },
        "outputId": "a439bada-2a5e-4218-aeec-3818b03f9bec",
        "executionInfo": {
          "status": "ok",
          "timestamp": 1527556036084,
          "user_tz": 420,
          "elapsed": 359,
          "user": {
            "displayName": "Cindy Orozco",
            "photoUrl": "//lh3.googleusercontent.com/-jAVKPv2uwtg/AAAAAAAAAAI/AAAAAAAAABI/m8_L3I7XWjU/s50-c-k-no/photo.jpg",
            "userId": "117886146899397189915"
          }
        }
      },
      "cell_type": "code",
      "source": [
        "#Este es la configuracion inicial, debemos poder ponerlos en todos\n",
        "print(acciones_posibles(estado)) \n",
        "#Probar otras configuraciones\n",
        "print(acciones_posibles([0,2,1,0,0,1,0,0,0]))"
      ],
      "execution_count": 117,
      "outputs": [
        {
          "output_type": "stream",
          "text": [
            "[0 1 2 3 4 5 6 7 8]\n",
            "[0 3 4 6 7 8]\n"
          ],
          "name": "stdout"
        }
      ]
    },
    {
      "metadata": {
        "id": "mFt5S4fEQ1M0",
        "colab_type": "text"
      },
      "cell_type": "markdown",
      "source": [
        "Para saber quien es el ganador, debemos definir las condiciones en las que una configuración hay un ganador. Sabemos si todas las entradas de \n",
        "\n",
        "*   una fila \n",
        "*   una columna\n",
        "*   una diagonal\n",
        "\n",
        "están llenas del mismo símbolo, entonces ese es el ganador. Pero si consideramos todas las posibles configuraciones ¿Qué problemas podemos tener?\n",
        "\n",
        "<font color='blue'>* Pueden haber configuraciones con más de un ganador, por ejemplo una fila de __X__ y otra fila de __O__*</font>\n",
        "\n",
        "¿Cómo los podemos solucionar? ¿Qué tan importantes son estos problemas? \n",
        "<font color='blue'>*Una opción es restringirnos a las configuraciones que solo son posibles, pero eso significa que debemos ver las 19683 opciones a mano y hacer una tabla que diga cuales son las válidas. Esto es muy extenuante. Otra forma simplemente es definir un ganador incluso para las configuraciones que no son válidas, y asegurar en otras funciones que el juego nunca llegará allí, en nuestro caso definimos que el ganador es el primero en tener toda una fila, columna o diagonal llena (en ese orden)*</font>"
      ]
    },
    {
      "metadata": {
        "id": "jMRtWWGAPX0M",
        "colab_type": "code",
        "colab": {
          "autoexec": {
            "startup": false,
            "wait_interval": 0
          }
        }
      },
      "cell_type": "code",
      "source": [
        "def quien_es_ganador(estado):\n",
        "  \"\"\"\n",
        "  Esta función decide si en una configuracion hay un ganador\n",
        "    @param[in] estado   Vector con entradas de 0, 1 o 2 que define la \n",
        "                        configuración actual\n",
        "    @return    ganador  Regresa 0 si no hay ganador, 1 si X es ganador y 2 si O \n",
        "                        es ganador \n",
        "  \"\"\"\n",
        "  #Reorganizar la configuracion como el tablero de triqui\n",
        "  matriz_estado = np.reshape(np.array(estado),(3,3))\n",
        "  # Esta variable dira quien es el ganador\n",
        "  ganador = 0 \n",
        "  # 1. Revisar filas\n",
        "  for i in xrange(3):\n",
        "    #Si la fila no esta vacia\n",
        "    if (matriz_estado[i,0] > 0):\n",
        "      \n",
        "      #Verificar que las 3 entradas de la fila son iguales\n",
        "      if ((matriz_estado[i,0] == matriz_estado[i,1]) and \n",
        "          (matriz_estado[i,0] == matriz_estado[i,2])):\n",
        "        ganador = matriz_estado[i,0]\n",
        "        return ganador\n",
        "  \n",
        "  # 2. Revisar Columnas\n",
        "  for i in xrange(3):\n",
        "    #Si la columna no esta vacia\n",
        "    if (matriz_estado[0,i] > 0):\n",
        "      \n",
        "      #Verificar que las 3 entradas de la fila son iguales\n",
        "      if ((matriz_estado[0,i] == matriz_estado[1,i]) and \n",
        "          (matriz_estado[0,i] == matriz_estado[2,i])):\n",
        "        ganador = matriz_estado[0,i]\n",
        "        return ganador  \n",
        "      \n",
        "  # 3. Revisar diagonal principal\n",
        "  #Si la diagonal no esta vacia\n",
        "  if (matriz_estado[0,0] > 0):\n",
        "    #Verificar que las 3 entradas de la fila son iguales\n",
        "    if ((matriz_estado[0,0] == matriz_estado[1,1]) and \n",
        "        (matriz_estado[0,0] == matriz_estado[2,2])):\n",
        "      ganador = matriz_estado[0,0]\n",
        "      return ganador \n",
        "    \n",
        "        \n",
        "  # 3. Revisar diagonal secundaria\n",
        "  #Si la diagonal no esta vacia\n",
        "  if (matriz_estado[0,2] > 0):\n",
        "    #Verificar que las 3 entradas de la fila son iguales\n",
        "    if ((matriz_estado[0,2] == matriz_estado[1,1]) and \n",
        "        (matriz_estado[0,2] == matriz_estado[2,0])):\n",
        "      ganador = matriz_estado[0,2]\n",
        "      return ganador \n",
        "  \n",
        "  #Si llegamos a este punto es que no hay ganador\n",
        "  return ganador"
      ],
      "execution_count": 0,
      "outputs": []
    },
    {
      "metadata": {
        "id": "2DOyI6wm3C_g",
        "colab_type": "text"
      },
      "cell_type": "markdown",
      "source": [
        "Para corroborar que nuestra función retorna lo que necesitamos podemos hacer la prueba con diferentes estados"
      ]
    },
    {
      "metadata": {
        "id": "XgX2ay9v2VxU",
        "colab_type": "code",
        "colab": {
          "autoexec": {
            "startup": false,
            "wait_interval": 0
          },
          "base_uri": "https://localhost:8080/",
          "height": 68
        },
        "outputId": "ee3dcd82-558d-42fc-b285-cf705845dcf1",
        "executionInfo": {
          "status": "ok",
          "timestamp": 1527546948651,
          "user_tz": 420,
          "elapsed": 368,
          "user": {
            "displayName": "Cindy Orozco",
            "photoUrl": "//lh3.googleusercontent.com/-jAVKPv2uwtg/AAAAAAAAAAI/AAAAAAAAABI/m8_L3I7XWjU/s50-c-k-no/photo.jpg",
            "userId": "117886146899397189915"
          }
        }
      },
      "cell_type": "code",
      "source": [
        "print(\"El ganador es %d\"%(quien_es_ganador([1,2,1,0,2,1,0,2,1]))) #El Ganador es 2 \n",
        "print(\"El ganador es %d\"%(quien_es_ganador([0,0,0,1,1,1,2,2,2]))) #El Ganador es 1 \n",
        "print(\"El ganador es %d\"%(quien_es_ganador([1,0,1,0,2,0,0,2,1]))) #El Ganador es 0 (i.e. no hay ganador)"
      ],
      "execution_count": 29,
      "outputs": [
        {
          "output_type": "stream",
          "text": [
            "El ganador es 2\n",
            "El ganador es 1\n",
            "El ganador es 0\n"
          ],
          "name": "stdout"
        }
      ]
    },
    {
      "metadata": {
        "id": "5AcXz-dei_NJ",
        "colab_type": "text"
      },
      "cell_type": "markdown",
      "source": [
        "## Haciendo un Jugador Aleatorio"
      ]
    },
    {
      "metadata": {
        "id": "D1bbuIbT56lW",
        "colab_type": "text"
      },
      "cell_type": "markdown",
      "source": [
        "Ahora ya podemos crear un jugador aleatorio, es decir, uno que dada una configuracion, selecciona cualquiera de las posibles acciones con la misma probabilidad, e identifica cuando el o su contrincante han ganado"
      ]
    },
    {
      "metadata": {
        "id": "fJUtsXqr6Ni0",
        "colab_type": "code",
        "colab": {
          "autoexec": {
            "startup": false,
            "wait_interval": 0
          },
          "base_uri": "https://localhost:8080/",
          "height": 88
        },
        "outputId": "be1dedc6-a010-455a-9bf5-e97bcb24498c",
        "executionInfo": {
          "status": "ok",
          "timestamp": 1527557809839,
          "user_tz": 420,
          "elapsed": 372,
          "user": {
            "displayName": "Cindy Orozco",
            "photoUrl": "//lh3.googleusercontent.com/-jAVKPv2uwtg/AAAAAAAAAAI/AAAAAAAAABI/m8_L3I7XWjU/s50-c-k-no/photo.jpg",
            "userId": "117886146899397189915"
          }
        }
      },
      "cell_type": "code",
      "source": [
        "#Botones para las posiciones en el juego\n",
        "\n",
        "display.display(display.HTML('''\n",
        "    Posiciones del juego, tu eres X, yo soy O: <br>\n",
        "    <button id='button0'>0</button>\n",
        "    <script>\n",
        "      document.querySelector('#button0').onclick = () => {\n",
        "        google.colab.kernel.invokeFunction('notebook.updatelist', [0], {});\n",
        "      };\n",
        "    </script>\n",
        "    <button id='button1'>1</button>\n",
        "    <script>\n",
        "      document.querySelector('#button1').onclick = () => {\n",
        "        google.colab.kernel.invokeFunction('notebook.updatelist', [1], {});\n",
        "      };\n",
        "    </script>\n",
        "    <button id='button2'>2</button>\n",
        "    <script>\n",
        "      document.querySelector('#button2').onclick = () => {\n",
        "        google.colab.kernel.invokeFunction('notebook.updatelist', [2], {});\n",
        "      };\n",
        "    </script><br>\n",
        "    <button id='button3'>3</button>\n",
        "    <script>\n",
        "      document.querySelector('#button3').onclick = () => {\n",
        "        google.colab.kernel.invokeFunction('notebook.updatelist', [3], {});\n",
        "      };\n",
        "    </script>\n",
        "    <button id='button4'>4</button>\n",
        "    <script>\n",
        "      document.querySelector('#button4').onclick = () => {\n",
        "        google.colab.kernel.invokeFunction('notebook.updatelist', [4], {});\n",
        "      };\n",
        "    </script>\n",
        "    <button id='button5'>5</button>\n",
        "    <script>\n",
        "      document.querySelector('#button5').onclick = () => {\n",
        "        google.colab.kernel.invokeFunction('notebook.updatelist', [5], {});\n",
        "      };\n",
        "    </script><br>\n",
        "    <button id='button6'>6</button>\n",
        "    <script>\n",
        "      document.querySelector('#button6').onclick = () => {\n",
        "        google.colab.kernel.invokeFunction('notebook.updatelist', [6], {});\n",
        "      };\n",
        "    </script>\n",
        "    <button id='button7'>7</button>\n",
        "    <script>\n",
        "      document.querySelector('#button7').onclick = () => {\n",
        "        google.colab.kernel.invokeFunction('notebook.updatelist', [7], {});\n",
        "      };\n",
        "    </script>\n",
        "    <button id='button8'>8</button>\n",
        "    <script>\n",
        "      document.querySelector('#button8').onclick = () => {\n",
        "        google.colab.kernel.invokeFunction('notebook.updatelist', [8], {});\n",
        "      };\n",
        "    </script>\n",
        "    '''))\n",
        "\n",
        "#Clase para manejar el juego\n",
        "class juego:\n",
        "  def __init__(self):\n",
        "    #Guarda la configuracion inicial \n",
        "    self.configuracion = [0]*9\n",
        "    #Evita seguir jugando si ya existe un ganador\n",
        "    self.fin_juego = False\n",
        " \n",
        "  def refrescar_enemigo(self,numero):\n",
        "    \"\"\"\n",
        "    Esta funcion refresca la configuracion incluyendo la posicion aceptada por\n",
        "    el jugador\n",
        "    @param[in] numero Posicion en 0:9 en el tablero definida por los botones en \n",
        "                      el juego\n",
        "    \"\"\"\n",
        "    if not self.fin_juego:\n",
        "      #Primero agrego tu posicion si es valida\n",
        "      if self.configuracion[numero] == 0:\n",
        "        \n",
        "        self.configuracion[numero] = 1\n",
        "                \n",
        "        #Verifico si tu eres el ganador\n",
        "        ganador = quien_es_ganador(self.configuracion)\n",
        "        if ganador == 1:\n",
        "          self.imprimir()\n",
        "          print(\"¡Tu ganaste!\")\n",
        "          self.fin_juego = True\n",
        "          return 'OK'\n",
        "        #Actualizo mi posicion\n",
        "        self.refrescar_me()\n",
        "        self.imprimir()\n",
        "        \n",
        "        #Verifico si yo soy el ganador\n",
        "        ganador = quien_es_ganador(self.configuracion)\n",
        "        if ganador == 2:\n",
        "          self.imprimir()\n",
        "          print(\"¡Yo gane!\")\n",
        "          self.fin_juego = True\n",
        "   \n",
        "      else:\n",
        "        print (\"%d :Esa posicion ya esta ocupada\"%(numero))\n",
        "        \n",
        "    return 'OK'\n",
        "  \n",
        "  def refrescar_me(self):\n",
        "    \"\"\"\n",
        "    Esta funcion refresca la configuracion incluyendo la posicion del computador\n",
        "    \"\"\"\n",
        "    #Verifico cuales son mis jugadas\n",
        "    mis_acciones = acciones_posibles(self.configuracion)\n",
        "    num_acciones = len(mis_acciones)\n",
        "    \n",
        "    #Si puedo jugar, selecciono una posicion al azar\n",
        "    if num_acciones > 0:\n",
        "      accion = random.choice(mis_acciones)\n",
        "      self.configuracion[accion] = 2\n",
        "    #Si no puedo jugar es porque el tablero esta lleno \n",
        "    else:\n",
        "      print(\"Ya no hay un ganador\")\n",
        "      self.fin_juego = True\n",
        "  \n",
        "  def imprimir(self):\n",
        "    \"\"\"\n",
        "    Esta funcion imprime el tablero en forma de matriz\n",
        "    \"\"\"\n",
        "    for i in xrange(3):\n",
        "      linea = \" \";\n",
        "      for j in xrange(3):\n",
        "        if self.configuracion[i*3+j] == 0:\n",
        "          linea += \" \"\n",
        "        if self.configuracion[i*3+j] == 1:\n",
        "          linea += \"X\"\n",
        "        if self.configuracion[i*3+j] == 2:\n",
        "          linea += \"O\"\n",
        "        if j < 2:\n",
        "          linea += \"|\"\n",
        "      print(linea)\n",
        "    print(\"-+-+-+-+-+\")\n",
        "\n",
        "#Creamos una nueva instancia de juego\n",
        "mijuego = juego();  \n",
        " \n",
        "#print(mijuego.configuracion)\n",
        "output.register_callback('notebook.updatelist',mijuego.refrescar_enemigo)"
      ],
      "execution_count": 146,
      "outputs": [
        {
          "output_type": "display_data",
          "data": {
            "text/plain": [
              "<IPython.core.display.HTML object>"
            ],
            "text/html": [
              "\n",
              "    Posiciones del juego, tu eres X, yo soy O: <br>\n",
              "    <button id='button0'>0</button>\n",
              "    <script>\n",
              "      document.querySelector('#button0').onclick = () => {\n",
              "        google.colab.kernel.invokeFunction('notebook.updatelist', [0], {});\n",
              "      };\n",
              "    </script>\n",
              "    <button id='button1'>1</button>\n",
              "    <script>\n",
              "      document.querySelector('#button1').onclick = () => {\n",
              "        google.colab.kernel.invokeFunction('notebook.updatelist', [1], {});\n",
              "      };\n",
              "    </script>\n",
              "    <button id='button2'>2</button>\n",
              "    <script>\n",
              "      document.querySelector('#button2').onclick = () => {\n",
              "        google.colab.kernel.invokeFunction('notebook.updatelist', [2], {});\n",
              "      };\n",
              "    </script><br>\n",
              "    <button id='button3'>3</button>\n",
              "    <script>\n",
              "      document.querySelector('#button3').onclick = () => {\n",
              "        google.colab.kernel.invokeFunction('notebook.updatelist', [3], {});\n",
              "      };\n",
              "    </script>\n",
              "    <button id='button4'>4</button>\n",
              "    <script>\n",
              "      document.querySelector('#button4').onclick = () => {\n",
              "        google.colab.kernel.invokeFunction('notebook.updatelist', [4], {});\n",
              "      };\n",
              "    </script>\n",
              "    <button id='button5'>5</button>\n",
              "    <script>\n",
              "      document.querySelector('#button5').onclick = () => {\n",
              "        google.colab.kernel.invokeFunction('notebook.updatelist', [5], {});\n",
              "      };\n",
              "    </script><br>\n",
              "    <button id='button6'>6</button>\n",
              "    <script>\n",
              "      document.querySelector('#button6').onclick = () => {\n",
              "        google.colab.kernel.invokeFunction('notebook.updatelist', [6], {});\n",
              "      };\n",
              "    </script>\n",
              "    <button id='button7'>7</button>\n",
              "    <script>\n",
              "      document.querySelector('#button7').onclick = () => {\n",
              "        google.colab.kernel.invokeFunction('notebook.updatelist', [7], {});\n",
              "      };\n",
              "    </script>\n",
              "    <button id='button8'>8</button>\n",
              "    <script>\n",
              "      document.querySelector('#button8').onclick = () => {\n",
              "        google.colab.kernel.invokeFunction('notebook.updatelist', [8], {});\n",
              "      };\n",
              "    </script>\n",
              "    "
            ]
          },
          "metadata": {
            "tags": []
          }
        }
      ]
    },
    {
      "metadata": {
        "id": "-DSpmJP2iqj9",
        "colab_type": "text"
      },
      "cell_type": "markdown",
      "source": [
        "En este codigo nos podemos dar cuenta que existe un gran trabajo detrás de hacer botones funcionales, y utilizamos una clase para manejar toda la información del juego, asi podemos llamar una función varias veces que modifica un objeto específico, en este caso la configuración del juego. \n",
        "\n",
        "Mira que los botones solo lo hacemos para que un usuario pueda interactuar con el juego, pero para los cálculos no los necesitamos"
      ]
    },
    {
      "metadata": {
        "id": "TZaHskIDjiIX",
        "colab_type": "text"
      },
      "cell_type": "markdown",
      "source": [
        "## Haciendo un jugador que aprende"
      ]
    },
    {
      "metadata": {
        "id": "zZgqEFQlIjYZ",
        "colab_type": "text"
      },
      "cell_type": "markdown",
      "source": [
        "La forma en la que el computador decidirá qué decisión tomar es por medio de una función de estado, es decir, escogerá la acción que lo lleve a maximizar su valor esperado. Esta es la función que descubriremos a medida que interactuamos con el sistema. Para esta la inicializaremos en 0 y crearemos una casilla de valor para cada una de las configuraciones posibles. Sin embargo tengamos en cuenta que muchas de estas configuraciones no son factibles en el juego (por ejemplo, tener todo el tablero lleno de __X__ o de __O__)"
      ]
    },
    {
      "metadata": {
        "id": "3TqPlrOgNy4M",
        "colab_type": "text"
      },
      "cell_type": "markdown",
      "source": [
        ""
      ]
    },
    {
      "metadata": {
        "id": "e9rZY-IoM43-",
        "colab_type": "code",
        "colab": {
          "autoexec": {
            "startup": false,
            "wait_interval": 0
          }
        }
      },
      "cell_type": "code",
      "source": [
        "def inicializar_valor_estado_accion(valor_estado_accion):\n",
        "  \n",
        "  #Crear todas las configuraciones\n",
        "  configuraciones = [[]]\n",
        "  for i in xrange(9):\n",
        "    nuevas_conf = []\n",
        "    for j in xrange(3):\n",
        "      for conf in configuraciones:\n",
        "        nuevas_conf.append(conf + [j,])\n",
        "    configuraciones = nuevas_conf\n",
        "  \n",
        "  #Update the values in each configuracion\n",
        "  for conf in configuraciones:\n",
        "    mis_acciones = acciones_posibles(tuple(conf))\n",
        "    valor_acciones = valor_estado_accion[tuple(conf)]\n",
        "    valor_acciones[mis_acciones] = 0\n",
        "  return valor_estado_accion\n"
      ],
      "execution_count": 0,
      "outputs": []
    },
    {
      "metadata": {
        "id": "tctJNR0lj-fy",
        "colab_type": "text"
      },
      "cell_type": "markdown",
      "source": [
        "La forma en que nuestro computador va a aprender es interactuando en contra de un jugador dummie, como el que hicimos en nuestro juego aleatorio. En vez de imprimir cada iteración y seleccionar una accion con botones, en cada iteración necesitamos informar al exterior cual es la configuración actual, si ya terminó el juego y quien gano"
      ]
    },
    {
      "metadata": {
        "id": "wDcLcC7Zj2IB",
        "colab_type": "code",
        "colab": {
          "autoexec": {
            "startup": false,
            "wait_interval": 0
          }
        }
      },
      "cell_type": "code",
      "source": [
        "#Clase para manejar el juego\n",
        "class juego_a_aprender:\n",
        "  def __init__(self,quien_inicia = 1):\n",
        "    self.configuracion = [0]*9\n",
        "    \n",
        "    #Si se decide quien inicia es la computadora\n",
        "    if quien_inicia == 2:\n",
        "      accion = random.choice(range(9))\n",
        "      self.configuracion[accion] = 2\n",
        "    \n",
        "    #Evita seguir jugando si ya existe un ganador\n",
        "    self.fin_juego = False\n",
        "    #Guarda la lista de configuraciones\n",
        "    self.conj_configuracion = [copy.deepcopy(self.configuracion)];\n",
        "    #Guarda la lista de acciones\n",
        "    self.acciones = []\n",
        "  def refrescar_enemigo(self,numero):\n",
        "    \"\"\"\n",
        "    Esta funcion refresca la configuracion incluyendo la posicion aceptada por\n",
        "    el jugador\n",
        "    @param[in] numero Posicion en 0:9 definida por el otro jugador\n",
        "    \"\"\"\n",
        "    if not self.fin_juego:\n",
        "      #Primero agrego tu posicion si es valida\n",
        "      if self.configuracion[numero] == 0:\n",
        "        \n",
        "        self.configuracion[numero] = 1\n",
        "        #Agrego tus acciones a la lista\n",
        "        self.acciones.append(numero)\n",
        "        \n",
        "        #Verifico si tu eres el ganador\n",
        "        ganador = quien_es_ganador(self.configuracion)\n",
        "        if ganador == 1:\n",
        "          self.fin_juego = True\n",
        "          return ganador\n",
        "        \n",
        "        #Actualizo mi posicion\n",
        "        mi_estado = self.refrescar_me()\n",
        "        \n",
        "        #Si no puedo jugar es porque el tablero esta lleno \n",
        "        if mi_estado < 2:\n",
        "          self.fin_juego = True\n",
        "          if mi_estado == 0:\n",
        "            return 0\n",
        "        \n",
        "        self.conj_configuracion.append(copy.deepcopy(self.configuracion))\n",
        "        \n",
        "        #Verifico si yo soy el ganador\n",
        "        ganador = quien_es_ganador(self.configuracion)\n",
        "        if ganador == 2:\n",
        "          self.fin_juego = True\n",
        "          return ganador\n",
        "          \n",
        "    return 0\n",
        "  \n",
        "  def refrescar_me(self):\n",
        "    \"\"\"\n",
        "    Esta funcion refresca la configuracion incluyendo la posicion del computador\n",
        "    \"\"\"\n",
        "    #Verifico cuales son mis jugadas\n",
        "    mis_acciones = acciones_posibles(self.configuracion)\n",
        "    num_acciones = len(mis_acciones)\n",
        "    \n",
        "    #Si puedo jugar, selecciono una posicion al azar\n",
        "    if num_acciones > 0:\n",
        "      accion = random.choice(mis_acciones)\n",
        "      self.configuracion[accion] = 2\n",
        "      \n",
        "    return num_acciones\n",
        "\n",
        "#Creamos una nueva instancia de juego\n",
        "mijuego = juego_a_aprender();  "
      ],
      "execution_count": 0,
      "outputs": []
    },
    {
      "metadata": {
        "id": "LP9n33arpjug",
        "colab_type": "code",
        "colab": {
          "autoexec": {
            "startup": false,
            "wait_interval": 0
          }
        }
      },
      "cell_type": "code",
      "source": [
        "def jugar(quien_inicia,opcion_optima):\n",
        "  \"\"\"\n",
        "  Esta función interactua con refrescar enemigo del juego a aprender\n",
        "  \"\"\"\n",
        "  enemigo = juego_a_aprender(quien_inicia)\n",
        "  while not enemigo.fin_juego:\n",
        "    #Vamos a seleccionar una opcion optima de acuerdo a la configuracion actual\n",
        "    accion = opcion_optima(enemigo.configuracion)\n",
        "    \n",
        "    if accion == -1:\n",
        "      break\n",
        "      \n",
        "    #Vamos a jugar con el enemigo\n",
        "    ganador = enemigo.refrescar_enemigo(accion)\n",
        "    \n",
        "  return (ganador, enemigo.conj_configuracion, enemigo.acciones)"
      ],
      "execution_count": 0,
      "outputs": []
    },
    {
      "metadata": {
        "id": "Dp-18iZn_vCt",
        "colab_type": "code",
        "colab": {
          "autoexec": {
            "startup": false,
            "wait_interval": 0
          }
        }
      },
      "cell_type": "code",
      "source": [
        "valor_estado_accion = np.ones((3,)*9+(9,))*-2\n",
        "print(np.size(valor_estado_accion))\n",
        "\n",
        "\n",
        "valor_estado_accion = inicializar_valor_estado_accion(valor_estado_accion)\n",
        "  \n",
        "num_estado_accion = np.zeros((3,)*9+(9,))\n",
        "\n",
        "class juego_aprendiz_MC:\n",
        "  def __init__(self,valor_estado_accion,num_estado_accion,num_iteraciones = 100,disc_factor = 0.8):\n",
        "    self.valor_estado_accion = copy.deepcopy(valor_estado_accion)\n",
        "    self.num_estado_accion = copy.deepcopy(num_estado_accion)\n",
        "    self.num_iteraciones = num_iteraciones\n",
        "    self.iteracion = 0\n",
        "    self.ganancias = 0\n",
        "    self.perdidas = 0\n",
        "    self.empates = 0\n",
        "    self.disc_factor = disc_factor\n",
        "    \n",
        "  def optimizar_funcion_objetivo(self):\n",
        "    \"\"\"\n",
        "    Utilizar MC para mejorar la funcion objetivo\n",
        "    \"\"\"\n",
        "    for i in xrange(self.num_iteraciones):\n",
        "      self.iteracion = i\n",
        "      quien_inicia = random.choice([1,2])\n",
        "      [ganador,configuraciones,acciones] = jugar(quien_inicia, self.opcion_optima)\n",
        "      precio = 0\n",
        "    \n",
        "      alpha = 100.\n",
        "      if ganador == 1:\n",
        "        precio = 1\n",
        "        self.ganancias += (1.- self.ganancias)/alpha\n",
        "        self.perdidas += (0.- self.perdidas)/alpha\n",
        "        self.empates += (0.- self.empates)/alpha\n",
        "      elif ganador == 2:\n",
        "        precio = -1\n",
        "        self.ganancias += (0.- self.ganancias)/alpha\n",
        "        self.perdidas += (1.- self.perdidas)/alpha\n",
        "        self.empates += (0.- self.empates)/alpha\n",
        "      else:\n",
        "        self.ganancias += (0.- self.ganancias)/alpha\n",
        "        self.perdidas += (0.- self.perdidas)/alpha\n",
        "        self.empates += (1.- self.empates)/alpha\n",
        "        \n",
        "      #print (quien_inicia,ganador,self.ganancias, self.perdidas, self.empates)  \n",
        "      #print (ganador)\n",
        "      for conf,accion,exponente in zip(configuraciones,acciones,xrange(len(acciones)-1,-1,-1)):\n",
        "        indice = tuple(conf + [accion,])\n",
        "        self.num_estado_accion[indice] += 1\n",
        "        #alpha = self.num_estado_accion[indice]\n",
        "        alpha = 100\n",
        "        error = precio * (self.disc_factor ** exponente) - self.valor_estado_accion[indice] \n",
        "        self.valor_estado_accion[indice] += error/alpha\n",
        "        \n",
        "    \n",
        "      \n",
        "  def opcion_optima(self,configuracion):\n",
        "    \"\"\"Selecciona la mejor configuracion de acuerdo a la funcion de valor \n",
        "    segun estado y accion \"\"\"\n",
        "    #Recolectar el vector de acciones segun configuracion\n",
        "    val_acciones = self.valor_estado_accion[tuple(configuracion)] \n",
        "    \n",
        "    #Seleccionar las acciones posibles (una accion no es posible si la casilla \n",
        "    #esta llena)\n",
        "    \n",
        "    acciones = np.where( val_acciones > -2 )\n",
        "    acciones = acciones[0]\n",
        "    mejor_accion = 0\n",
        "    #epsilon-greedy\n",
        "    if len(acciones) > 0:\n",
        "      \n",
        "      u = random.random()\n",
        "      \n",
        "      if u * self.iteracion < 100.:\n",
        "        \n",
        "        mejor_accion = random.choice(acciones)\n",
        "    \n",
        "      else:\n",
        "    \n",
        "        mejor_valor = np.amax(val_acciones[acciones])\n",
        "        index_accion = np.where(val_acciones[acciones] == mejor_valor )\n",
        "        index_accion = index_accion[0]\n",
        "    \n",
        "        if len(index_accion)>1:\n",
        "          mejor_accion = acciones[random.choice(index_accion)]\n",
        "      \n",
        "        else: \n",
        "          mejor_accion = acciones[index_accion[0]]\n",
        "    \n",
        "    return mejor_accion\n",
        "    \n",
        "mi_aprendiz = juego_aprendiz_MC(valor_estado_accion,num_estado_accion,100000)\n",
        "mi_aprendiz.optimizar_funcion_objetivo()"
      ],
      "execution_count": 0,
      "outputs": []
    },
    {
      "metadata": {
        "id": "bSZeoibTX6eY",
        "colab_type": "code",
        "colab": {
          "autoexec": {
            "startup": false,
            "wait_interval": 0
          },
          "base_uri": "https://localhost:8080/",
          "height": 51
        },
        "outputId": "fac7cf07-1cb1-4809-c809-c08e317f5c81",
        "executionInfo": {
          "status": "ok",
          "timestamp": 1527595250371,
          "user_tz": 420,
          "elapsed": 323,
          "user": {
            "displayName": "Cindy Orozco",
            "photoUrl": "//lh3.googleusercontent.com/-jAVKPv2uwtg/AAAAAAAAAAI/AAAAAAAAABI/m8_L3I7XWjU/s50-c-k-no/photo.jpg",
            "userId": "117886146899397189915"
          }
        }
      },
      "cell_type": "code",
      "source": [
        "print(mi_aprendiz.valor_estado_accion[tuple([0,]*9)])"
      ],
      "execution_count": 13,
      "outputs": [
        {
          "output_type": "stream",
          "text": [
            "[0.10798462 0.08382358 0.08644881 0.0774013  0.11744687 0.01811452\n",
            " 0.45599427 0.009157   0.01940864]\n"
          ],
          "name": "stdout"
        }
      ]
    },
    {
      "metadata": {
        "id": "RuxJmf_6fBiS",
        "colab_type": "code",
        "colab": {
          "autoexec": {
            "startup": false,
            "wait_interval": 0
          },
          "base_uri": "https://localhost:8080/",
          "height": 34
        },
        "outputId": "686a2b62-3020-49c6-b657-a99ca2323542",
        "executionInfo": {
          "status": "ok",
          "timestamp": 1527595259681,
          "user_tz": 420,
          "elapsed": 318,
          "user": {
            "displayName": "Cindy Orozco",
            "photoUrl": "//lh3.googleusercontent.com/-jAVKPv2uwtg/AAAAAAAAAAI/AAAAAAAAABI/m8_L3I7XWjU/s50-c-k-no/photo.jpg",
            "userId": "117886146899397189915"
          }
        }
      },
      "cell_type": "code",
      "source": [
        "print(valor_estado_accion[tuple([0,]*9)])"
      ],
      "execution_count": 14,
      "outputs": [
        {
          "output_type": "stream",
          "text": [
            "[0. 0. 0. 0. 0. 0. 0. 0. 0.]\n"
          ],
          "name": "stdout"
        }
      ]
    },
    {
      "metadata": {
        "id": "udR7OhGWYdoH",
        "colab_type": "code",
        "colab": {
          "autoexec": {
            "startup": false,
            "wait_interval": 0
          }
        }
      },
      "cell_type": "code",
      "source": [
        "num_estado_accion = np.zeros((3,)*9+(9,))\n",
        "mi_aprendiz2 = juego_aprendiz_MC(mi_aprendiz.valor_estado_accion,num_estado_accion,100000)\n",
        "\n",
        "mi_aprendiz2.optimizar_funcion_objetivo()"
      ],
      "execution_count": 0,
      "outputs": []
    },
    {
      "metadata": {
        "id": "ppuTJ2gXfzzt",
        "colab_type": "code",
        "colab": {
          "autoexec": {
            "startup": false,
            "wait_interval": 0
          },
          "base_uri": "https://localhost:8080/",
          "height": 51
        },
        "outputId": "b5febf1c-bbbb-439a-9c17-ac49319a5fab",
        "executionInfo": {
          "status": "ok",
          "timestamp": 1527595361884,
          "user_tz": 420,
          "elapsed": 275,
          "user": {
            "displayName": "Cindy Orozco",
            "photoUrl": "//lh3.googleusercontent.com/-jAVKPv2uwtg/AAAAAAAAAAI/AAAAAAAAABI/m8_L3I7XWjU/s50-c-k-no/photo.jpg",
            "userId": "117886146899397189915"
          }
        }
      },
      "cell_type": "code",
      "source": [
        "print(mi_aprendiz2.valor_estado_accion[tuple([0,]*9)])"
      ],
      "execution_count": 16,
      "outputs": [
        {
          "output_type": "stream",
          "text": [
            "[0.15646191 0.07388466 0.13401711 0.13977236 0.15057158 0.11092394\n",
            " 0.49403496 0.03817945 0.08583251]\n"
          ],
          "name": "stdout"
        }
      ]
    },
    {
      "metadata": {
        "id": "GzjFqTn4gCUH",
        "colab_type": "code",
        "colab": {
          "autoexec": {
            "startup": false,
            "wait_interval": 0
          }
        }
      },
      "cell_type": "code",
      "source": [
        "num_estado_accion = np.zeros((3,)*9+(9,))\n",
        "mi_aprendiz3 = juego_aprendiz_MC(mi_aprendiz2.valor_estado_accion,num_estado_accion,100000)\n",
        "\n",
        "mi_aprendiz3.optimizar_funcion_objetivo()"
      ],
      "execution_count": 0,
      "outputs": []
    },
    {
      "metadata": {
        "id": "GV93UupbgQ2q",
        "colab_type": "code",
        "colab": {
          "autoexec": {
            "startup": false,
            "wait_interval": 0
          },
          "base_uri": "https://localhost:8080/",
          "height": 51
        },
        "outputId": "e6a15c1b-211e-48b0-da45-9b4d063b95cc",
        "executionInfo": {
          "status": "ok",
          "timestamp": 1527578252806,
          "user_tz": 420,
          "elapsed": 319,
          "user": {
            "displayName": "Cindy Orozco",
            "photoUrl": "//lh3.googleusercontent.com/-jAVKPv2uwtg/AAAAAAAAAAI/AAAAAAAAABI/m8_L3I7XWjU/s50-c-k-no/photo.jpg",
            "userId": "117886146899397189915"
          }
        }
      },
      "cell_type": "code",
      "source": [
        "print(mi_aprendiz3.valor_estado_accion[tuple([0,]*9)])"
      ],
      "execution_count": 331,
      "outputs": [
        {
          "output_type": "stream",
          "text": [
            "[ 0.3072     -0.14848     0.54793532  0.3904      0.17493333  0.16523636\n",
            "  0.24576     0.064       0.18432   ]\n"
          ],
          "name": "stdout"
        }
      ]
    },
    {
      "metadata": {
        "id": "XpZDP8mtjKfe",
        "colab_type": "code",
        "colab": {
          "autoexec": {
            "startup": false,
            "wait_interval": 0
          }
        }
      },
      "cell_type": "code",
      "source": [
        "\n",
        "mi_aprendiz4 = juego_aprendiz_MC(mi_aprendiz3.valor_estado_accion,num_estado_accion,100000)\n",
        "\n",
        "mi_aprendiz4.optimizar_funcion_objetivo()"
      ],
      "execution_count": 0,
      "outputs": []
    },
    {
      "metadata": {
        "id": "kS6xKMu3jWZr",
        "colab_type": "code",
        "colab": {
          "autoexec": {
            "startup": false,
            "wait_interval": 0
          },
          "base_uri": "https://localhost:8080/",
          "height": 51
        },
        "outputId": "6e135ae0-c7e5-495d-861c-cf1d287970b2",
        "executionInfo": {
          "status": "ok",
          "timestamp": 1527578273026,
          "user_tz": 420,
          "elapsed": 336,
          "user": {
            "displayName": "Cindy Orozco",
            "photoUrl": "//lh3.googleusercontent.com/-jAVKPv2uwtg/AAAAAAAAAAI/AAAAAAAAABI/m8_L3I7XWjU/s50-c-k-no/photo.jpg",
            "userId": "117886146899397189915"
          }
        }
      },
      "cell_type": "code",
      "source": [
        "print(mi_aprendiz4.valor_estado_accion[tuple([0,]*9)])"
      ],
      "execution_count": 333,
      "outputs": [
        {
          "output_type": "stream",
          "text": [
            "[-0.03584     0.06034286  0.55652075  0.25813333  0.17005714  0.1264\n",
            "  0.32689231 -0.008       0.05851429]\n"
          ],
          "name": "stdout"
        }
      ]
    },
    {
      "metadata": {
        "id": "Usw0rPFolDLE",
        "colab_type": "code",
        "colab": {
          "autoexec": {
            "startup": false,
            "wait_interval": 0
          }
        }
      },
      "cell_type": "code",
      "source": [
        "def reflejo_x_conf(configuracion):\n",
        "  matriz_conf = np.reshape(np.array(configuracion),(3,3))\n",
        "  nueva_conf = np.zeros((3,3),dtype=int)\n",
        "  nueva_conf[0,:] = matriz_conf[2,:]\n",
        "  nueva_conf[1,:] = matriz_conf[1,:]\n",
        "  nueva_conf[2,:] = matriz_conf[0,:]\n",
        "  return (list(np.reshape(nueva_conf,9)))\n",
        "\n",
        "def reflejo_y_conf(configuracion):\n",
        "  matriz_conf = np.reshape(np.array(configuracion),(3,3))\n",
        "  nueva_conf = np.zeros((3,3),dtype=int)\n",
        "  nueva_conf[:,0] = matriz_conf[:,2]\n",
        "  nueva_conf[:,1] = matriz_conf[:,1]\n",
        "  nueva_conf[:,2] = matriz_conf[:,0]\n",
        "  return (list(np.reshape(nueva_conf,9)))\n",
        "\n",
        "def traspuesta_conf(configuracion):\n",
        "  matriz_conf = np.reshape(np.array(configuracion),(3,3))\n",
        "  nueva_conf = np.transpose(matriz_conf)\n",
        "  return (list(np.reshape(nueva_conf,9)))\n",
        "\n",
        "def reflejo_x_accion(accion):\n",
        "  if accion < 3:\n",
        "    return accion + 6\n",
        "  if accion > 5:\n",
        "    return accion - 6\n",
        "  return accion\n",
        "  \n",
        "def reflejo_y_accion(accion):\n",
        "  if (accion % 3 == 0):\n",
        "    return accion + 2\n",
        "  if (accion % 3 == 2):\n",
        "    return accion - 2\n",
        "  return accion\n",
        "\n",
        "def traspuesta_accion(accion):\n",
        "  i = accion % 3\n",
        "  j = accion / 3\n",
        "  return i*3+j\n",
        "  "
      ],
      "execution_count": 0,
      "outputs": []
    },
    {
      "metadata": {
        "id": "O-8LSFQUo9EK",
        "colab_type": "code",
        "colab": {
          "autoexec": {
            "startup": false,
            "wait_interval": 0
          },
          "base_uri": "https://localhost:8080/",
          "height": 187
        },
        "outputId": "9fe14bb1-3a56-499b-b5e8-c9df94918a3d",
        "executionInfo": {
          "status": "ok",
          "timestamp": 1527595780725,
          "user_tz": 420,
          "elapsed": 305,
          "user": {
            "displayName": "Cindy Orozco",
            "photoUrl": "//lh3.googleusercontent.com/-jAVKPv2uwtg/AAAAAAAAAAI/AAAAAAAAABI/m8_L3I7XWjU/s50-c-k-no/photo.jpg",
            "userId": "117886146899397189915"
          }
        }
      },
      "cell_type": "code",
      "source": [
        "Casa = [0,1,2,0,1,1,2,2,2]\n",
        "print(reflejo_x_conf([0]*9))\n",
        "print(reflejo_x_conf(Casa))\n",
        "print(reflejo_y_conf(Casa))\n",
        "print(reflejo_x_conf(reflejo_y_conf(Casa)))\n",
        "Casa2 = traspuesta_conf(Casa)\n",
        "print(Casa2)\n",
        "print(reflejo_x_conf(Casa2))\n",
        "print(reflejo_y_conf(Casa2))\n",
        "print(reflejo_x_conf(reflejo_y_conf(Casa2)))\n",
        "print(Casa)\n",
        "print(traspuesta_accion(2))\n"
      ],
      "execution_count": 24,
      "outputs": [
        {
          "output_type": "stream",
          "text": [
            "[0, 0, 0, 0, 0, 0, 0, 0, 0]\n",
            "[2, 2, 2, 0, 1, 1, 0, 1, 2]\n",
            "[2, 1, 0, 1, 1, 0, 2, 2, 2]\n",
            "[2, 2, 2, 1, 1, 0, 2, 1, 0]\n",
            "[0, 0, 2, 1, 1, 2, 2, 1, 2]\n",
            "[2, 1, 2, 1, 1, 2, 0, 0, 2]\n",
            "[2, 0, 0, 2, 1, 1, 2, 1, 2]\n",
            "[2, 1, 2, 2, 1, 1, 2, 0, 0]\n",
            "[0, 1, 2, 0, 1, 1, 2, 2, 2]\n",
            "6\n"
          ],
          "name": "stdout"
        }
      ]
    },
    {
      "metadata": {
        "id": "2LCQZXKGnyxp",
        "colab_type": "code",
        "colab": {
          "autoexec": {
            "startup": false,
            "wait_interval": 0
          }
        }
      },
      "cell_type": "code",
      "source": [
        "valor_estado_accion = np.ones((3,)*9+(9,))*-2\n",
        "print(np.size(valor_estado_accion))\n",
        "\n",
        "\n",
        "valor_estado_accion = inicializar_valor_estado_accion(valor_estado_accion)\n",
        "  \n",
        "num_estado_accion = np.zeros((3,)*9+(9,))\n",
        "\n",
        "class juego_aprendiz_MC_2:\n",
        "  def __init__(self,valor_estado_accion,num_estado_accion,num_iteraciones = 100,disc_factor = 0.8):\n",
        "    self.valor_estado_accion = copy.deepcopy(valor_estado_accion)\n",
        "    self.num_estado_accion = copy.deepcopy(num_estado_accion)\n",
        "    self.num_iteraciones = num_iteraciones\n",
        "    self.iteracion = 0\n",
        "    self.ganancias = 0\n",
        "    self.perdidas = 0\n",
        "    self.empates = 0\n",
        "    self.disc_factor = disc_factor\n",
        "    \n",
        "  def optimizar_funcion_objetivo(self):\n",
        "    \"\"\"\n",
        "    Utilizar MC para mejorar la funcion objetivo\n",
        "    \"\"\"\n",
        "    for i in xrange(self.num_iteraciones):\n",
        "      self.iteracion = i\n",
        "      quien_inicia = random.choice([1,2])\n",
        "      [ganador,configuraciones,acciones] = jugar(quien_inicia, self.opcion_optima)\n",
        "      precio = 0\n",
        "    \n",
        "      alpha = 100.\n",
        "      if ganador == 1:\n",
        "        precio = 1\n",
        "        self.ganancias += (1.- self.ganancias)/alpha\n",
        "        self.perdidas += (0.- self.perdidas)/alpha\n",
        "        self.empates += (0.- self.empates)/alpha\n",
        "      elif ganador == 2:\n",
        "        precio = -1\n",
        "        self.ganancias += (0.- self.ganancias)/alpha\n",
        "        self.perdidas += (1.- self.perdidas)/alpha\n",
        "        self.empates += (0.- self.empates)/alpha\n",
        "      else:\n",
        "        self.ganancias += (0.- self.ganancias)/alpha\n",
        "        self.perdidas += (0.- self.perdidas)/alpha\n",
        "        self.empates += (1.- self.empates)/alpha\n",
        "        \n",
        "      #print (quien_inicia,ganador,self.ganancias, self.perdidas, self.empates)  \n",
        "       \n",
        "      #print (ganador)\n",
        "      for conf,accion,exponente in zip(configuraciones,acciones,xrange(len(acciones)-1,-1,-1)):\n",
        "        alpha = 100\n",
        "        \n",
        "        \n",
        "        indice = tuple(conf + [accion,])\n",
        "        self.num_estado_accion[indice] += 1\n",
        "        #alpha = self.num_estado_accion[indice]\n",
        "        error = precio * (self.disc_factor ** exponente) - self.valor_estado_accion[indice] \n",
        "        self.valor_estado_accion[indice] += error/alpha\n",
        "        \n",
        "        #Apply symmetries\n",
        "        conf2 = reflejo_x_conf(conf)\n",
        "        accion2 = reflejo_x_accion(accion)\n",
        "        indice2 = tuple(conf2 + [accion2,])\n",
        "        self.num_estado_accion[indice2] += 1\n",
        "        #alpha = self.num_estado_accion[indice2]\n",
        "        error = precio * (self.disc_factor ** exponente) - self.valor_estado_accion[indice2] \n",
        "        self.valor_estado_accion[indice2] += error/alpha\n",
        "        \n",
        "        conf2 = reflejo_y_conf(conf)\n",
        "        accion2 = reflejo_y_accion(accion)\n",
        "        indice2 = tuple(conf2 + [accion2,])\n",
        "        self.num_estado_accion[indice2] += 1\n",
        "        #alpha = self.num_estado_accion[indice2]\n",
        "        error = precio * (self.disc_factor ** exponente) - self.valor_estado_accion[indice2] \n",
        "        self.valor_estado_accion[indice2] += error/alpha\n",
        "        \n",
        "        conf2 = reflejo_x_conf(reflejo_y_conf(conf))\n",
        "        accion2 = reflejo_x_accion(reflejo_y_accion(accion))\n",
        "        indice2 = tuple(conf2 + [accion2,])\n",
        "        self.num_estado_accion[indice2] += 1\n",
        "        #alpha = self.num_estado_accion[indice2]\n",
        "        error = precio * (self.disc_factor ** exponente) - self.valor_estado_accion[indice2] \n",
        "        self.valor_estado_accion[indice2] += error/alpha\n",
        "        \n",
        "        #Con transpuesta\n",
        "        conf3 = traspuesta_conf(conf)\n",
        "        accion3 = traspuesta_accion(accion)\n",
        "        indice2 = tuple(conf3 + [accion3,])\n",
        "        self.num_estado_accion[indice2] += 1\n",
        "        #alpha = self.num_estado_accion[indice2]\n",
        "        error = precio * (self.disc_factor ** exponente) - self.valor_estado_accion[indice2] \n",
        "        self.valor_estado_accion[indice2] += error/alpha\n",
        "        \n",
        "        \n",
        "        conf2 = reflejo_x_conf(conf3)\n",
        "        accion2 = reflejo_x_accion(accion3)\n",
        "        indice2 = tuple(conf2 + [accion2,])\n",
        "        self.num_estado_accion[indice2] += 1\n",
        "        #alpha = self.num_estado_accion[indice2]\n",
        "        error = precio * (self.disc_factor ** exponente) - self.valor_estado_accion[indice2] \n",
        "        self.valor_estado_accion[indice2] += error/alpha\n",
        "        \n",
        "        conf2 = reflejo_y_conf(conf3)\n",
        "        accion2 = reflejo_y_accion(accion3)\n",
        "        indice2 = tuple(conf2 + [accion2,])\n",
        "        self.num_estado_accion[indice2] += 1\n",
        "        #alpha = self.num_estado_accion[indice2]\n",
        "        error = precio * (self.disc_factor ** exponente) - self.valor_estado_accion[indice2] \n",
        "        self.valor_estado_accion[indice2] += error/alpha\n",
        "        \n",
        "        conf2 = reflejo_x_conf(reflejo_y_conf(conf3))\n",
        "        accion2 = reflejo_x_accion(reflejo_y_accion(accion3))\n",
        "        indice2 = tuple(conf2 + [accion2,])\n",
        "        self.num_estado_accion[indice2] += 1\n",
        "        #alpha = self.num_estado_accion[indice2]\n",
        "        error = precio * (self.disc_factor ** exponente) - self.valor_estado_accion[indice2] \n",
        "        self.valor_estado_accion[indice2] += error/alpha\n",
        "    \n",
        "      \n",
        "  def opcion_optima(self,configuracion):\n",
        "    \"\"\"Selecciona la mejor configuracion de acuerdo a la funcion de valor \n",
        "    segun estado y accion \"\"\"\n",
        "    #Recolectar el vector de acciones segun configuracion\n",
        "    val_acciones = self.valor_estado_accion[tuple(configuracion)] \n",
        "    \n",
        "    #Seleccionar las acciones posibles (una accion no es posible si la casilla \n",
        "    #esta llena)\n",
        "    \n",
        "    acciones = np.where( val_acciones > -2 )\n",
        "    acciones = acciones[0]\n",
        "    mejor_accion = 0\n",
        "    #epsilon-greedy\n",
        "    if len(acciones) > 0:\n",
        "      \n",
        "      u = random.random()\n",
        "      \n",
        "      if u * self.iteracion < 100.:\n",
        "        \n",
        "        mejor_accion = random.choice(acciones)\n",
        "    \n",
        "      else:\n",
        "    \n",
        "        mejor_valor = np.amax(val_acciones[acciones])\n",
        "        index_accion = np.where(val_acciones[acciones] == mejor_valor )\n",
        "        index_accion = index_accion[0]\n",
        "    \n",
        "        if len(index_accion)>1:\n",
        "          mejor_accion = acciones[random.choice(index_accion)]\n",
        "      \n",
        "        else: \n",
        "          mejor_accion = acciones[index_accion[0]]\n",
        "    \n",
        "    return mejor_accion\n",
        "    \n",
        "mi_aprendiz = juego_aprendiz_MC_2(valor_estado_accion,num_estado_accion,100000)\n",
        "mi_aprendiz.optimizar_funcion_objetivo()"
      ],
      "execution_count": 0,
      "outputs": []
    },
    {
      "metadata": {
        "id": "UCY6tRTPp2El",
        "colab_type": "code",
        "colab": {
          "autoexec": {
            "startup": false,
            "wait_interval": 0
          },
          "base_uri": "https://localhost:8080/",
          "height": 51
        },
        "outputId": "7110c69e-c36e-4c39-8078-24dcfd70ca22",
        "executionInfo": {
          "status": "ok",
          "timestamp": 1527596750903,
          "user_tz": 420,
          "elapsed": 398,
          "user": {
            "displayName": "Cindy Orozco",
            "photoUrl": "//lh3.googleusercontent.com/-jAVKPv2uwtg/AAAAAAAAAAI/AAAAAAAAABI/m8_L3I7XWjU/s50-c-k-no/photo.jpg",
            "userId": "117886146899397189915"
          }
        }
      },
      "cell_type": "code",
      "source": [
        "print(mi_aprendiz.valor_estado_accion[(0,0,0,0,0,0,0,2,0)])"
      ],
      "execution_count": 38,
      "outputs": [
        {
          "output_type": "stream",
          "text": [
            "[ 0.09613552  0.06064693  0.09613552  0.0153041   0.12351794  0.0153041\n",
            "  0.41764943 -2.          0.41764943]\n"
          ],
          "name": "stdout"
        }
      ]
    },
    {
      "metadata": {
        "id": "4vK18AM_mEGA",
        "colab_type": "code",
        "colab": {
          "autoexec": {
            "startup": false,
            "wait_interval": 0
          },
          "base_uri": "https://localhost:8080/",
          "height": 51
        },
        "outputId": "97b0f932-9799-4e5f-d2b8-f37900a3a30b",
        "executionInfo": {
          "status": "ok",
          "timestamp": 1527578880378,
          "user_tz": 420,
          "elapsed": 534,
          "user": {
            "displayName": "Cindy Orozco",
            "photoUrl": "//lh3.googleusercontent.com/-jAVKPv2uwtg/AAAAAAAAAAI/AAAAAAAAABI/m8_L3I7XWjU/s50-c-k-no/photo.jpg",
            "userId": "117886146899397189915"
          }
        }
      },
      "cell_type": "code",
      "source": [
        "print(mi_aprendiz.num_estado_accion[tuple([0,]*9)])"
      ],
      "execution_count": 13,
      "outputs": [
        {
          "output_type": "stream",
          "text": [
            "[6.00000e+01 4.20000e+01 6.00000e+01 4.20000e+01 3.98856e+05 4.20000e+01\n",
            " 6.00000e+01 4.20000e+01 6.00000e+01]\n"
          ],
          "name": "stdout"
        }
      ]
    },
    {
      "metadata": {
        "id": "mfSraTuA3_tr",
        "colab_type": "code",
        "colab": {
          "autoexec": {
            "startup": false,
            "wait_interval": 0
          }
        }
      },
      "cell_type": "code",
      "source": [
        "def conjugada_configuracion(configuracion):\n",
        "  \"\"\"Cambia los 1 por 2 y viceversa\"\"\"\n",
        "  nueva_configuracion = []\n",
        "  for i in xrange(len(configuracion)):\n",
        "    if configuracion[i] == 1:\n",
        "      nueva_configuracion.append(2)\n",
        "    elif configuracion[i] == 2:\n",
        "      nueva_configuracion.append(1)\n",
        "    else:\n",
        "      nueva_configuracion.append(0)\n",
        "  return nueva_configuracion "
      ],
      "execution_count": 0,
      "outputs": []
    },
    {
      "metadata": {
        "id": "_QpU26H47Jpf",
        "colab_type": "code",
        "colab": {
          "autoexec": {
            "startup": false,
            "wait_interval": 0
          },
          "base_uri": "https://localhost:8080/",
          "height": 170
        },
        "outputId": "09bc14eb-2dd8-4b1f-ce43-58cc23caadb6",
        "executionInfo": {
          "status": "ok",
          "timestamp": 1527597926290,
          "user_tz": 420,
          "elapsed": 335,
          "user": {
            "displayName": "Cindy Orozco",
            "photoUrl": "//lh3.googleusercontent.com/-jAVKPv2uwtg/AAAAAAAAAAI/AAAAAAAAABI/m8_L3I7XWjU/s50-c-k-no/photo.jpg",
            "userId": "117886146899397189915"
          }
        }
      },
      "cell_type": "code",
      "source": [
        "conjugada_configuracion(np.array([0,1,2,0,0,0,2]))"
      ],
      "execution_count": 55,
      "outputs": [
        {
          "output_type": "stream",
          "text": [
            "hola\n",
            "[0]\n",
            "[0, 2]\n",
            "[0, 2, 1]\n",
            "[0, 2, 1, 0]\n",
            "[0, 2, 1, 0, 0]\n",
            "[0, 2, 1, 0, 0, 0]\n",
            "[0, 2, 1, 0, 0, 0, 1]\n"
          ],
          "name": "stdout"
        },
        {
          "output_type": "execute_result",
          "data": {
            "text/plain": [
              "[0, 2, 1, 0, 0, 0, 1]"
            ]
          },
          "metadata": {
            "tags": []
          },
          "execution_count": 55
        }
      ]
    },
    {
      "metadata": {
        "id": "UHIo0mi32ASo",
        "colab_type": "code",
        "colab": {
          "autoexec": {
            "startup": false,
            "wait_interval": 0
          },
          "base_uri": "https://localhost:8080/",
          "height": 106
        },
        "outputId": "cff4a403-b9f1-4f10-f3b0-3a947e688f72",
        "executionInfo": {
          "status": "ok",
          "timestamp": 1527603914159,
          "user_tz": 420,
          "elapsed": 374,
          "user": {
            "displayName": "Cindy Orozco",
            "photoUrl": "//lh3.googleusercontent.com/-jAVKPv2uwtg/AAAAAAAAAAI/AAAAAAAAABI/m8_L3I7XWjU/s50-c-k-no/photo.jpg",
            "userId": "117886146899397189915"
          }
        }
      },
      "cell_type": "code",
      "source": [
        "#Interactuar con el nuevo jugador\n",
        "#Botones para las posiciones en el juego\n",
        "\n",
        "display.display(display.HTML('''\n",
        "    Posiciones del juego, tu eres X, yo soy O: <br>\n",
        "    <button id='button0'>0</button>\n",
        "    <script>\n",
        "      document.querySelector('#button0').onclick = () => {\n",
        "        google.colab.kernel.invokeFunction('notebook.updatelist', [0], {});\n",
        "      };\n",
        "    </script>\n",
        "    <button id='button1'>1</button>\n",
        "    <script>\n",
        "      document.querySelector('#button1').onclick = () => {\n",
        "        google.colab.kernel.invokeFunction('notebook.updatelist', [1], {});\n",
        "      };\n",
        "    </script>\n",
        "    <button id='button2'>2</button>\n",
        "    <script>\n",
        "      document.querySelector('#button2').onclick = () => {\n",
        "        google.colab.kernel.invokeFunction('notebook.updatelist', [2], {});\n",
        "      };\n",
        "    </script><br>\n",
        "    <button id='button3'>3</button>\n",
        "    <script>\n",
        "      document.querySelector('#button3').onclick = () => {\n",
        "        google.colab.kernel.invokeFunction('notebook.updatelist', [3], {});\n",
        "      };\n",
        "    </script>\n",
        "    <button id='button4'>4</button>\n",
        "    <script>\n",
        "      document.querySelector('#button4').onclick = () => {\n",
        "        google.colab.kernel.invokeFunction('notebook.updatelist', [4], {});\n",
        "      };\n",
        "    </script>\n",
        "    <button id='button5'>5</button>\n",
        "    <script>\n",
        "      document.querySelector('#button5').onclick = () => {\n",
        "        google.colab.kernel.invokeFunction('notebook.updatelist', [5], {});\n",
        "      };\n",
        "    </script><br>\n",
        "    <button id='button6'>6</button>\n",
        "    <script>\n",
        "      document.querySelector('#button6').onclick = () => {\n",
        "        google.colab.kernel.invokeFunction('notebook.updatelist', [6], {});\n",
        "      };\n",
        "    </script>\n",
        "    <button id='button7'>7</button>\n",
        "    <script>\n",
        "      document.querySelector('#button7').onclick = () => {\n",
        "        google.colab.kernel.invokeFunction('notebook.updatelist', [7], {});\n",
        "      };\n",
        "    </script>\n",
        "    <button id='button8'>8</button>\n",
        "    <script>\n",
        "      document.querySelector('#button8').onclick = () => {\n",
        "        google.colab.kernel.invokeFunction('notebook.updatelist', [8], {});\n",
        "      };\n",
        "    </script><br>\n",
        "    <button id='buttonempezar'>Yo empiezo</button>\n",
        "    <script>\n",
        "      document.querySelector('#buttonempezar').onclick = () => {\n",
        "        google.colab.kernel.invokeFunction('notebook.empezar', [], {});\n",
        "      };\n",
        "    </script>\n",
        "    '''))\n",
        "\n",
        "#Clase para manejar el juego\n",
        "class juego_interactuar_MC:\n",
        "  def __init__(self,juego_base):\n",
        "    #Guarda la configuracion inicial \n",
        "    self.configuracion = [0]*9\n",
        "    self.juego_base = juego_base\n",
        "    #Evita seguir jugando si ya existe un ganador\n",
        "    self.fin_juego = False\n",
        "    self.inicio_juego = False\n",
        " \n",
        "  def refrescar_enemigo(self,numero):\n",
        "    \"\"\"\n",
        "    Esta funcion refresca la configuracion incluyendo la posicion aceptada por\n",
        "    el jugador\n",
        "    @param[in] numero Posicion en 0:9 en el tablero definida por los botones en \n",
        "                      el juego\n",
        "    \"\"\"\n",
        "    self.inicio_juego = True\n",
        "    if not self.fin_juego:\n",
        "      #Primero agrego tu posicion si es valida\n",
        "      if self.configuracion[numero] == 0:\n",
        "        \n",
        "        self.configuracion[numero] = 1\n",
        "                \n",
        "        #Verifico si tu eres el ganador\n",
        "        ganador = quien_es_ganador(self.configuracion)\n",
        "        if ganador == 1:\n",
        "          self.imprimir()\n",
        "          print(\"¡Tu ganaste!\")\n",
        "          self.fin_juego = True\n",
        "          return 'OK'\n",
        "        \n",
        "        #Actualizo mi posicion\n",
        "        mi_estado = self.refrescar_me()\n",
        "        self.imprimir()\n",
        "        \n",
        "        #Verifico si yo soy el ganador\n",
        "        ganador = quien_es_ganador(self.configuracion)\n",
        "        if ganador == 2:\n",
        "          self.fin_juego = True\n",
        "          print(\"¡Yo gane!\")\n",
        "          return 'OK'\n",
        "        \n",
        "        #Si no puedo jugar es porque el tablero esta lleno \n",
        "        if mi_estado < 2:\n",
        "          self.fin_juego = True\n",
        "          print(\"Ya no hay un ganador\")\n",
        "          return 'OK'\n",
        "                \n",
        "      else:\n",
        "        print (\"%d :Esa posicion ya esta ocupada\"%(numero))\n",
        "        \n",
        "    return 'OK'\n",
        "  \n",
        "  def refrescar_me(self):\n",
        "    \"\"\"\n",
        "    Esta funcion refresca la configuracion incluyendo la posicion del computador\n",
        "    \"\"\"\n",
        "    #Verifico cuales son mis jugadas\n",
        "    mis_acciones = acciones_posibles(self.configuracion)\n",
        "    num_acciones = len(mis_acciones)\n",
        "    \n",
        "    #Si puedo jugar, selecciono una posicion al azar\n",
        "    if num_acciones > 0:\n",
        "      conj_conf = conjugada_configuracion(self.configuracion)\n",
        "      accion = self.opcion_optima(conj_conf)\n",
        "      self.configuracion[accion] = 2\n",
        "\n",
        "    return num_acciones\n",
        "  \n",
        "  def opcion_optima(self,configuracion):\n",
        "    \"\"\"Selecciona la mejor configuracion de acuerdo a la funcion de valor \n",
        "    segun estado y accion \"\"\"\n",
        "    #Recolectar el vector de acciones segun configuracion\n",
        "    val_acciones = self.juego_base.valor_estado_accion[tuple(configuracion)] \n",
        "    \n",
        "    #Seleccionar las acciones posibles (una accion no es posible si la casilla \n",
        "    #esta llena)\n",
        "    #print(val_acciones)\n",
        "    acciones = np.where( val_acciones > -2 )\n",
        "    acciones = acciones[0]\n",
        "    mejor_accion = 0\n",
        "    #greedy\n",
        "    if len(acciones) > 0:\n",
        "      mejor_valor = np.amax(val_acciones[acciones])\n",
        "      index_accion = np.where(val_acciones[acciones] == mejor_valor )\n",
        "      index_accion = index_accion[0]\n",
        "    \n",
        "      if len(index_accion)>1:\n",
        "        mejor_accion = acciones[random.choice(index_accion)]\n",
        "      \n",
        "      else: \n",
        "        mejor_accion = acciones[index_accion[0]]\n",
        "    \n",
        "    return mejor_accion\n",
        "  \n",
        "  def comenzar_juego(self):\n",
        "    if not self.inicio_juego:\n",
        "      print(\"Yo comienzo :)\")\n",
        "      self.refrescar_me()\n",
        "      self.imprimir()\n",
        "      \n",
        "  def imprimir(self):\n",
        "    \"\"\"\n",
        "    Esta funcion imprime el tablero en forma de matriz\n",
        "    \"\"\"\n",
        "    for i in xrange(3):\n",
        "      linea = \" \";\n",
        "      for j in xrange(3):\n",
        "        if self.configuracion[i*3+j] == 0:\n",
        "          linea += \" \"\n",
        "        if self.configuracion[i*3+j] == 1:\n",
        "          linea += \"X\"\n",
        "        if self.configuracion[i*3+j] == 2:\n",
        "          linea += \"O\"\n",
        "        if j < 2:\n",
        "          linea += \"|\"\n",
        "      print(linea)\n",
        "    print(\"-+-+-+-+-+\")\n",
        "\n",
        "#Creamos una nueva instancia de juego\n",
        "mijuego2 = juego_interactuar_MC(mi_aprendiz)\n",
        " \n",
        "output.register_callback('notebook.updatelist',mijuego2.refrescar_enemigo)\n",
        "output.register_callback('notebook.empezar',mijuego2.comenzar_juego)"
      ],
      "execution_count": 160,
      "outputs": [
        {
          "output_type": "display_data",
          "data": {
            "text/plain": [
              "<IPython.core.display.HTML object>"
            ],
            "text/html": [
              "\n",
              "    Posiciones del juego, tu eres X, yo soy O: <br>\n",
              "    <button id='button0'>0</button>\n",
              "    <script>\n",
              "      document.querySelector('#button0').onclick = () => {\n",
              "        google.colab.kernel.invokeFunction('notebook.updatelist', [0], {});\n",
              "      };\n",
              "    </script>\n",
              "    <button id='button1'>1</button>\n",
              "    <script>\n",
              "      document.querySelector('#button1').onclick = () => {\n",
              "        google.colab.kernel.invokeFunction('notebook.updatelist', [1], {});\n",
              "      };\n",
              "    </script>\n",
              "    <button id='button2'>2</button>\n",
              "    <script>\n",
              "      document.querySelector('#button2').onclick = () => {\n",
              "        google.colab.kernel.invokeFunction('notebook.updatelist', [2], {});\n",
              "      };\n",
              "    </script><br>\n",
              "    <button id='button3'>3</button>\n",
              "    <script>\n",
              "      document.querySelector('#button3').onclick = () => {\n",
              "        google.colab.kernel.invokeFunction('notebook.updatelist', [3], {});\n",
              "      };\n",
              "    </script>\n",
              "    <button id='button4'>4</button>\n",
              "    <script>\n",
              "      document.querySelector('#button4').onclick = () => {\n",
              "        google.colab.kernel.invokeFunction('notebook.updatelist', [4], {});\n",
              "      };\n",
              "    </script>\n",
              "    <button id='button5'>5</button>\n",
              "    <script>\n",
              "      document.querySelector('#button5').onclick = () => {\n",
              "        google.colab.kernel.invokeFunction('notebook.updatelist', [5], {});\n",
              "      };\n",
              "    </script><br>\n",
              "    <button id='button6'>6</button>\n",
              "    <script>\n",
              "      document.querySelector('#button6').onclick = () => {\n",
              "        google.colab.kernel.invokeFunction('notebook.updatelist', [6], {});\n",
              "      };\n",
              "    </script>\n",
              "    <button id='button7'>7</button>\n",
              "    <script>\n",
              "      document.querySelector('#button7').onclick = () => {\n",
              "        google.colab.kernel.invokeFunction('notebook.updatelist', [7], {});\n",
              "      };\n",
              "    </script>\n",
              "    <button id='button8'>8</button>\n",
              "    <script>\n",
              "      document.querySelector('#button8').onclick = () => {\n",
              "        google.colab.kernel.invokeFunction('notebook.updatelist', [8], {});\n",
              "      };\n",
              "    </script><br>\n",
              "    <button id='buttonempezar'>Yo empiezo</button>\n",
              "    <script>\n",
              "      document.querySelector('#buttonempezar').onclick = () => {\n",
              "        google.colab.kernel.invokeFunction('notebook.empezar', [], {});\n",
              "      };\n",
              "    </script>\n",
              "    "
            ]
          },
          "metadata": {
            "tags": []
          }
        }
      ]
    },
    {
      "metadata": {
        "id": "F6XoVerDCJrO",
        "colab_type": "text"
      },
      "cell_type": "markdown",
      "source": [
        "Hasta el momento puede bloquear jugadas, pero no reacciona cuando yo inicio jugando y estoy a punto de hacer una jugada. que pasa si lo enfrentamos contra si mismo?"
      ]
    },
    {
      "metadata": {
        "id": "VnnmucxeDDDx",
        "colab_type": "text"
      },
      "cell_type": "markdown",
      "source": [
        "Vamos a hacer la clase juego_a_aprender mas general"
      ]
    },
    {
      "metadata": {
        "id": "DDx4FtIxDBzz",
        "colab_type": "code",
        "colab": {
          "autoexec": {
            "startup": false,
            "wait_interval": 0
          }
        }
      },
      "cell_type": "code",
      "source": [
        "#Clase para manejar el juego\n",
        "class juego_a_aprender_2:\n",
        "  def __init__(self, juego_base,quien_inicia = 1):\n",
        "    self.configuracion = [0]*9\n",
        "    self.juego_base = juego_base\n",
        "    \n",
        "    #Si se decide quien inicia es la computadora\n",
        "    if quien_inicia == 2:\n",
        "      self.refrescar_me()\n",
        "    \n",
        "    #Evita seguir jugando si ya existe un ganador\n",
        "    self.fin_juego = False\n",
        "    #Guarda la lista de configuraciones\n",
        "    self.conj_configuracion = [copy.deepcopy(self.configuracion)];\n",
        "    #Guarda la lista de acciones\n",
        "    self.acciones = []\n",
        "  def refrescar_enemigo(self,numero):\n",
        "    \"\"\"\n",
        "    Esta funcion refresca la configuracion incluyendo la posicion aceptada por\n",
        "    el jugador\n",
        "    @param[in] numero Posicion en 0:9 definida por el otro jugador\n",
        "    \"\"\"\n",
        "    if not self.fin_juego:\n",
        "      #Primero agrego tu posicion si es valida\n",
        "      if self.configuracion[numero] == 0:\n",
        "        \n",
        "        self.configuracion[numero] = 1\n",
        "        #Agrego tus acciones a la lista\n",
        "        self.acciones.append(numero)\n",
        "        \n",
        "        #Verifico si tu eres el ganador\n",
        "        ganador = quien_es_ganador(self.configuracion)\n",
        "        if ganador == 1:\n",
        "          self.fin_juego = True\n",
        "          return ganador\n",
        "        \n",
        "        #Actualizo mi posicion\n",
        "        mi_estado = self.refrescar_me()\n",
        "        \n",
        "        #Si no puedo jugar es porque el tablero esta lleno \n",
        "        if mi_estado < 2:\n",
        "          self.fin_juego = True\n",
        "          if mi_estado == 0:\n",
        "            return 0\n",
        "        \n",
        "        self.conj_configuracion.append(copy.deepcopy(self.configuracion))\n",
        "        \n",
        "        #Verifico si yo soy el ganador\n",
        "        ganador = quien_es_ganador(self.configuracion)\n",
        "        if ganador == 2:\n",
        "          self.fin_juego = True\n",
        "          return ganador\n",
        "       \n",
        "    return 0\n",
        "  def opcion_optima(self,configuracion):\n",
        "    \"\"\"Selecciona la mejor configuracion de acuerdo a la funcion de valor \n",
        "    segun estado y accion \"\"\"\n",
        "    #Recolectar el vector de acciones segun configuracion\n",
        "    val_acciones = self.juego_base.valor_estado_accion[tuple(configuracion)] \n",
        "    \n",
        "    #Seleccionar las acciones posibles (una accion no es posible si la casilla \n",
        "    #esta llena)\n",
        "    \n",
        "    acciones = np.where( val_acciones > -2 )\n",
        "    acciones = acciones[0]\n",
        "    mejor_accion = 0\n",
        "    #greedy\n",
        "    if len(acciones) > 0:\n",
        "      mejor_valor = np.amax(val_acciones[acciones])\n",
        "      index_accion = np.where(val_acciones[acciones] == mejor_valor )\n",
        "      index_accion = index_accion[0]\n",
        "    \n",
        "      if len(index_accion)>1:\n",
        "        mejor_accion = acciones[random.choice(index_accion)]\n",
        "      \n",
        "      else: \n",
        "        mejor_accion = acciones[index_accion[0]]\n",
        "    \n",
        "    return mejor_accion\n",
        "  def refrescar_me(self):\n",
        "    \"\"\"\n",
        "    Esta funcion refresca la configuracion incluyendo la posicion del computador\n",
        "    \"\"\"\n",
        "    #Verifico cuales son mis jugadas\n",
        "    mis_acciones = acciones_posibles(self.configuracion)\n",
        "    num_acciones = len(mis_acciones)\n",
        "    \n",
        "    #Si puedo jugar, selecciono una posicion al azar\n",
        "    if num_acciones > 0:\n",
        "      conj_conf = conjugada_configuracion(self.configuracion)\n",
        "      accion = self.opcion_optima(conj_conf)\n",
        "      self.configuracion[accion] = 2\n",
        "      \n",
        "    return num_acciones\n",
        "\n",
        "#Creamos una nueva instancia de juego\n",
        "mijuego_profesor = juego_a_aprender_2(mi_aprendiz);  "
      ],
      "execution_count": 0,
      "outputs": []
    },
    {
      "metadata": {
        "id": "YuF5JPmmEdgA",
        "colab_type": "code",
        "colab": {
          "autoexec": {
            "startup": false,
            "wait_interval": 0
          }
        }
      },
      "cell_type": "code",
      "source": [
        "def jugar_2(juego_base,quien_inicia,opcion_optima):\n",
        "  \"\"\"\n",
        "  Esta función interactua con refrescar enemigo del juego a aprender\n",
        "  \"\"\"\n",
        "  enemigo = juego_a_aprender_2(juego_base,quien_inicia)\n",
        "  while not enemigo.fin_juego:\n",
        "    #Vamos a seleccionar una opcion optima de acuerdo a la configuracion actual\n",
        "    accion = opcion_optima(enemigo.configuracion)\n",
        "    \n",
        "    if accion == -1:\n",
        "      break\n",
        "      \n",
        "    #Vamos a jugar con el enemigo\n",
        "    ganador = enemigo.refrescar_enemigo(accion)\n",
        "    \n",
        "  return (ganador, enemigo.conj_configuracion, enemigo.acciones)"
      ],
      "execution_count": 0,
      "outputs": []
    },
    {
      "metadata": {
        "id": "JDhyxwO1CGrF",
        "colab_type": "code",
        "colab": {
          "autoexec": {
            "startup": false,
            "wait_interval": 0
          },
          "base_uri": "https://localhost:8080/",
          "height": 34
        },
        "outputId": "1436e79d-0bb7-41e8-82ed-43d3d41f2b33",
        "executionInfo": {
          "status": "ok",
          "timestamp": 1527600607013,
          "user_tz": 420,
          "elapsed": 47713,
          "user": {
            "displayName": "Cindy Orozco",
            "photoUrl": "//lh3.googleusercontent.com/-jAVKPv2uwtg/AAAAAAAAAAI/AAAAAAAAABI/m8_L3I7XWjU/s50-c-k-no/photo.jpg",
            "userId": "117886146899397189915"
          }
        }
      },
      "cell_type": "code",
      "source": [
        "valor_estado_accion = np.ones((3,)*9+(9,))*-2\n",
        "print(np.size(valor_estado_accion))\n",
        "\n",
        "\n",
        "valor_estado_accion = inicializar_valor_estado_accion(valor_estado_accion)\n",
        "  \n",
        "num_estado_accion = np.zeros((3,)*9+(9,))\n",
        "\n",
        "class juego_aprendiz_MC_3:\n",
        "  def __init__(self,juego_base,valor_estado_accion,num_estado_accion,num_iteraciones = 100,disc_factor = 0.8):\n",
        "    self.juego_base = juego_base\n",
        "    self.valor_estado_accion = copy.deepcopy(valor_estado_accion)\n",
        "    self.num_estado_accion = copy.deepcopy(num_estado_accion)\n",
        "    self.num_iteraciones = num_iteraciones\n",
        "    self.iteracion = 0\n",
        "    self.ganancias = 0\n",
        "    self.perdidas = 0\n",
        "    self.empates = 0\n",
        "    self.disc_factor = disc_factor\n",
        "    \n",
        "  def optimizar_funcion_objetivo(self):\n",
        "    \"\"\"\n",
        "    Utilizar MC para mejorar la funcion objetivo\n",
        "    \"\"\"\n",
        "    for i in xrange(self.num_iteraciones):\n",
        "      self.iteracion = i\n",
        "      quien_inicia = random.choice([1,2])\n",
        "      [ganador,configuraciones,acciones] = jugar_2(self.juego_base,quien_inicia, self.opcion_optima)\n",
        "      precio = 0\n",
        "    \n",
        "      alpha = 100.\n",
        "      if ganador == 1:\n",
        "        precio = 1\n",
        "        self.ganancias += (1.- self.ganancias)/alpha\n",
        "        self.perdidas += (0.- self.perdidas)/alpha\n",
        "        self.empates += (0.- self.empates)/alpha\n",
        "      elif ganador == 2:\n",
        "        precio = -1\n",
        "        self.ganancias += (0.- self.ganancias)/alpha\n",
        "        self.perdidas += (1.- self.perdidas)/alpha\n",
        "        self.empates += (0.- self.empates)/alpha\n",
        "      else:\n",
        "        self.ganancias += (0.- self.ganancias)/alpha\n",
        "        self.perdidas += (0.- self.perdidas)/alpha\n",
        "        self.empates += (1.- self.empates)/alpha\n",
        "        \n",
        "      #print (quien_inicia,ganador,self.ganancias, self.perdidas, self.empates)  \n",
        "       \n",
        "      #print (ganador)\n",
        "      for conf,accion,exponente in zip(configuraciones,acciones,xrange(len(acciones)-1,-1,-1)):\n",
        "        alpha = 100\n",
        "        \n",
        "        \n",
        "        indice = tuple(conf + [accion,])\n",
        "        self.num_estado_accion[indice] += 1\n",
        "        #alpha = self.num_estado_accion[indice]\n",
        "        error = precio * (self.disc_factor ** exponente) - self.valor_estado_accion[indice] \n",
        "        self.valor_estado_accion[indice] += error/alpha\n",
        "        \n",
        "        #Apply symmetries\n",
        "        conf2 = reflejo_x_conf(conf)\n",
        "        accion2 = reflejo_x_accion(accion)\n",
        "        indice2 = tuple(conf2 + [accion2,])\n",
        "        self.num_estado_accion[indice2] += 1\n",
        "        #alpha = self.num_estado_accion[indice2]\n",
        "        error = precio * (self.disc_factor ** exponente) - self.valor_estado_accion[indice2] \n",
        "        self.valor_estado_accion[indice2] += error/alpha\n",
        "        \n",
        "        conf2 = reflejo_y_conf(conf)\n",
        "        accion2 = reflejo_y_accion(accion)\n",
        "        indice2 = tuple(conf2 + [accion2,])\n",
        "        self.num_estado_accion[indice2] += 1\n",
        "        #alpha = self.num_estado_accion[indice2]\n",
        "        error = precio * (self.disc_factor ** exponente) - self.valor_estado_accion[indice2] \n",
        "        self.valor_estado_accion[indice2] += error/alpha\n",
        "        \n",
        "        conf2 = reflejo_x_conf(reflejo_y_conf(conf))\n",
        "        accion2 = reflejo_x_accion(reflejo_y_accion(accion))\n",
        "        indice2 = tuple(conf2 + [accion2,])\n",
        "        self.num_estado_accion[indice2] += 1\n",
        "        #alpha = self.num_estado_accion[indice2]\n",
        "        error = precio * (self.disc_factor ** exponente) - self.valor_estado_accion[indice2] \n",
        "        self.valor_estado_accion[indice2] += error/alpha\n",
        "        \n",
        "        #Con transpuesta\n",
        "        conf3 = traspuesta_conf(conf)\n",
        "        accion3 = traspuesta_accion(accion)\n",
        "        indice2 = tuple(conf3 + [accion3,])\n",
        "        self.num_estado_accion[indice2] += 1\n",
        "        #alpha = self.num_estado_accion[indice2]\n",
        "        error = precio * (self.disc_factor ** exponente) - self.valor_estado_accion[indice2] \n",
        "        self.valor_estado_accion[indice2] += error/alpha\n",
        "        \n",
        "        \n",
        "        conf2 = reflejo_x_conf(conf3)\n",
        "        accion2 = reflejo_x_accion(accion3)\n",
        "        indice2 = tuple(conf2 + [accion2,])\n",
        "        self.num_estado_accion[indice2] += 1\n",
        "        #alpha = self.num_estado_accion[indice2]\n",
        "        error = precio * (self.disc_factor ** exponente) - self.valor_estado_accion[indice2] \n",
        "        self.valor_estado_accion[indice2] += error/alpha\n",
        "        \n",
        "        conf2 = reflejo_y_conf(conf3)\n",
        "        accion2 = reflejo_y_accion(accion3)\n",
        "        indice2 = tuple(conf2 + [accion2,])\n",
        "        self.num_estado_accion[indice2] += 1\n",
        "        #alpha = self.num_estado_accion[indice2]\n",
        "        error = precio * (self.disc_factor ** exponente) - self.valor_estado_accion[indice2] \n",
        "        self.valor_estado_accion[indice2] += error/alpha\n",
        "        \n",
        "        conf2 = reflejo_x_conf(reflejo_y_conf(conf3))\n",
        "        accion2 = reflejo_x_accion(reflejo_y_accion(accion3))\n",
        "        indice2 = tuple(conf2 + [accion2,])\n",
        "        self.num_estado_accion[indice2] += 1\n",
        "        #alpha = self.num_estado_accion[indice2]\n",
        "        error = precio * (self.disc_factor ** exponente) - self.valor_estado_accion[indice2] \n",
        "        self.valor_estado_accion[indice2] += error/alpha\n",
        "    \n",
        "      \n",
        "  def opcion_optima(self,configuracion):\n",
        "    \"\"\"Selecciona la mejor configuracion de acuerdo a la funcion de valor \n",
        "    segun estado y accion \"\"\"\n",
        "    #Recolectar el vector de acciones segun configuracion\n",
        "    val_acciones = self.valor_estado_accion[tuple(configuracion)] \n",
        "    \n",
        "    #Seleccionar las acciones posibles (una accion no es posible si la casilla \n",
        "    #esta llena)\n",
        "    \n",
        "    acciones = np.where( val_acciones > -2 )\n",
        "    acciones = acciones[0]\n",
        "    mejor_accion = 0\n",
        "    #epsilon-greedy\n",
        "    if len(acciones) > 0:\n",
        "      \n",
        "      u = random.random()\n",
        "      \n",
        "      if u * self.iteracion < 100.:\n",
        "        \n",
        "        mejor_accion = random.choice(acciones)\n",
        "    \n",
        "      else:\n",
        "    \n",
        "        mejor_valor = np.amax(val_acciones[acciones])\n",
        "        index_accion = np.where(val_acciones[acciones] == mejor_valor )\n",
        "        index_accion = index_accion[0]\n",
        "    \n",
        "        if len(index_accion)>1:\n",
        "          mejor_accion = acciones[random.choice(index_accion)]\n",
        "      \n",
        "        else: \n",
        "          mejor_accion = acciones[index_accion[0]]\n",
        "    \n",
        "    return mejor_accion\n",
        "    \n",
        "mi_aprendiz2 = juego_aprendiz_MC_3(mi_aprendiz,valor_estado_accion,num_estado_accion,100000)\n",
        "mi_aprendiz2.optimizar_funcion_objetivo()"
      ],
      "execution_count": 105,
      "outputs": [
        {
          "output_type": "stream",
          "text": [
            "177147\n"
          ],
          "name": "stdout"
        }
      ]
    },
    {
      "metadata": {
        "id": "DUCk3yItFs0o",
        "colab_type": "code",
        "colab": {
          "autoexec": {
            "startup": false,
            "wait_interval": 0
          },
          "base_uri": "https://localhost:8080/",
          "height": 51
        },
        "outputId": "d334fc9b-4e71-462b-8396-210f93f84d25",
        "executionInfo": {
          "status": "ok",
          "timestamp": 1527600701553,
          "user_tz": 420,
          "elapsed": 364,
          "user": {
            "displayName": "Cindy Orozco",
            "photoUrl": "//lh3.googleusercontent.com/-jAVKPv2uwtg/AAAAAAAAAAI/AAAAAAAAABI/m8_L3I7XWjU/s50-c-k-no/photo.jpg",
            "userId": "117886146899397189915"
          }
        }
      },
      "cell_type": "code",
      "source": [
        "print(mi_aprendiz2.valor_estado_accion[(0,0,2,0,0,0,0,0,0)])"
      ],
      "execution_count": 111,
      "outputs": [
        {
          "output_type": "stream",
          "text": [
            "[-0.1052203  -0.10740668 -2.          0.63999993 -0.11614075 -0.10740668\n",
            " -0.08733162  0.63999993 -0.1052203 ]\n"
          ],
          "name": "stdout"
        }
      ]
    },
    {
      "metadata": {
        "id": "nSkIuXfmF0FP",
        "colab_type": "code",
        "colab": {
          "autoexec": {
            "startup": false,
            "wait_interval": 0
          },
          "base_uri": "https://localhost:8080/",
          "height": 293
        },
        "outputId": "a8d8c971-c588-47f8-dd11-145ad512cc7b",
        "executionInfo": {
          "status": "ok",
          "timestamp": 1527601354111,
          "user_tz": 420,
          "elapsed": 334,
          "user": {
            "displayName": "Cindy Orozco",
            "photoUrl": "//lh3.googleusercontent.com/-jAVKPv2uwtg/AAAAAAAAAAI/AAAAAAAAABI/m8_L3I7XWjU/s50-c-k-no/photo.jpg",
            "userId": "117886146899397189915"
          }
        }
      },
      "cell_type": "code",
      "source": [
        "#Interactuar con el nuevo jugador\n",
        "#Botones para las posiciones en el juego\n",
        "\n",
        "display.display(display.HTML('''\n",
        "    Posiciones del juego, tu eres X, yo soy O: <br>\n",
        "    <button id='button0'>0</button>\n",
        "    <script>\n",
        "      document.querySelector('#button0').onclick = () => {\n",
        "        google.colab.kernel.invokeFunction('notebook.updatelist', [0], {});\n",
        "      };\n",
        "    </script>\n",
        "    <button id='button1'>1</button>\n",
        "    <script>\n",
        "      document.querySelector('#button1').onclick = () => {\n",
        "        google.colab.kernel.invokeFunction('notebook.updatelist', [1], {});\n",
        "      };\n",
        "    </script>\n",
        "    <button id='button2'>2</button>\n",
        "    <script>\n",
        "      document.querySelector('#button2').onclick = () => {\n",
        "        google.colab.kernel.invokeFunction('notebook.updatelist', [2], {});\n",
        "      };\n",
        "    </script><br>\n",
        "    <button id='button3'>3</button>\n",
        "    <script>\n",
        "      document.querySelector('#button3').onclick = () => {\n",
        "        google.colab.kernel.invokeFunction('notebook.updatelist', [3], {});\n",
        "      };\n",
        "    </script>\n",
        "    <button id='button4'>4</button>\n",
        "    <script>\n",
        "      document.querySelector('#button4').onclick = () => {\n",
        "        google.colab.kernel.invokeFunction('notebook.updatelist', [4], {});\n",
        "      };\n",
        "    </script>\n",
        "    <button id='button5'>5</button>\n",
        "    <script>\n",
        "      document.querySelector('#button5').onclick = () => {\n",
        "        google.colab.kernel.invokeFunction('notebook.updatelist', [5], {});\n",
        "      };\n",
        "    </script><br>\n",
        "    <button id='button6'>6</button>\n",
        "    <script>\n",
        "      document.querySelector('#button6').onclick = () => {\n",
        "        google.colab.kernel.invokeFunction('notebook.updatelist', [6], {});\n",
        "      };\n",
        "    </script>\n",
        "    <button id='button7'>7</button>\n",
        "    <script>\n",
        "      document.querySelector('#button7').onclick = () => {\n",
        "        google.colab.kernel.invokeFunction('notebook.updatelist', [7], {});\n",
        "      };\n",
        "    </script>\n",
        "    <button id='button8'>8</button>\n",
        "    <script>\n",
        "      document.querySelector('#button8').onclick = () => {\n",
        "        google.colab.kernel.invokeFunction('notebook.updatelist', [8], {});\n",
        "      };\n",
        "    </script><br>\n",
        "    <button id='buttonempezar'>Yo empiezo</button>\n",
        "    <script>\n",
        "      document.querySelector('#buttonempezar').onclick = () => {\n",
        "        google.colab.kernel.invokeFunction('notebook.empezar', [], {});\n",
        "      };\n",
        "    </script>\n",
        "    '''))\n",
        "\n",
        "\n",
        "#Creamos una nueva instancia de juego\n",
        "mijuego3 = juego_interactuar_MC(mi_aprendiz2)\n",
        " \n",
        "output.register_callback('notebook.updatelist',mijuego3.refrescar_enemigo)\n",
        "output.register_callback('notebook.empezar',mijuego3.comenzar_juego)"
      ],
      "execution_count": 128,
      "outputs": [
        {
          "output_type": "display_data",
          "data": {
            "text/plain": [
              "<IPython.core.display.HTML object>"
            ],
            "text/html": [
              "\n",
              "    Posiciones del juego, tu eres X, yo soy O: <br>\n",
              "    <button id='button0'>0</button>\n",
              "    <script>\n",
              "      document.querySelector('#button0').onclick = () => {\n",
              "        google.colab.kernel.invokeFunction('notebook.updatelist', [0], {});\n",
              "      };\n",
              "    </script>\n",
              "    <button id='button1'>1</button>\n",
              "    <script>\n",
              "      document.querySelector('#button1').onclick = () => {\n",
              "        google.colab.kernel.invokeFunction('notebook.updatelist', [1], {});\n",
              "      };\n",
              "    </script>\n",
              "    <button id='button2'>2</button>\n",
              "    <script>\n",
              "      document.querySelector('#button2').onclick = () => {\n",
              "        google.colab.kernel.invokeFunction('notebook.updatelist', [2], {});\n",
              "      };\n",
              "    </script><br>\n",
              "    <button id='button3'>3</button>\n",
              "    <script>\n",
              "      document.querySelector('#button3').onclick = () => {\n",
              "        google.colab.kernel.invokeFunction('notebook.updatelist', [3], {});\n",
              "      };\n",
              "    </script>\n",
              "    <button id='button4'>4</button>\n",
              "    <script>\n",
              "      document.querySelector('#button4').onclick = () => {\n",
              "        google.colab.kernel.invokeFunction('notebook.updatelist', [4], {});\n",
              "      };\n",
              "    </script>\n",
              "    <button id='button5'>5</button>\n",
              "    <script>\n",
              "      document.querySelector('#button5').onclick = () => {\n",
              "        google.colab.kernel.invokeFunction('notebook.updatelist', [5], {});\n",
              "      };\n",
              "    </script><br>\n",
              "    <button id='button6'>6</button>\n",
              "    <script>\n",
              "      document.querySelector('#button6').onclick = () => {\n",
              "        google.colab.kernel.invokeFunction('notebook.updatelist', [6], {});\n",
              "      };\n",
              "    </script>\n",
              "    <button id='button7'>7</button>\n",
              "    <script>\n",
              "      document.querySelector('#button7').onclick = () => {\n",
              "        google.colab.kernel.invokeFunction('notebook.updatelist', [7], {});\n",
              "      };\n",
              "    </script>\n",
              "    <button id='button8'>8</button>\n",
              "    <script>\n",
              "      document.querySelector('#button8').onclick = () => {\n",
              "        google.colab.kernel.invokeFunction('notebook.updatelist', [8], {});\n",
              "      };\n",
              "    </script><br>\n",
              "    <button id='buttonempezar'>Yo empiezo</button>\n",
              "    <script>\n",
              "      document.querySelector('#buttonempezar').onclick = () => {\n",
              "        google.colab.kernel.invokeFunction('notebook.empezar', [], {});\n",
              "      };\n",
              "    </script>\n",
              "    "
            ]
          },
          "metadata": {
            "tags": []
          }
        },
        {
          "output_type": "stream",
          "text": [
            "[-2.         -0.10740668 -0.1052203  -0.10740668 -0.11614075  0.63999993\n",
            " -0.1052203   0.63999993 -0.08733162]\n",
            " X| | \n",
            "  | |O\n",
            "  | | \n",
            "-+-+-+-+-+\n",
            "[-2.  0.  0. -2.  0. -2.  0.  0.  0.]\n",
            " X| | \n",
            " X| |O\n",
            "  |O| \n",
            "-+-+-+-+-+\n"
          ],
          "name": "stdout"
        }
      ]
    },
    {
      "metadata": {
        "id": "A3ZjWAagIzZv",
        "colab_type": "text"
      },
      "cell_type": "markdown",
      "source": [
        "El juego sigue sin reconocer cuando casi el opuesto va a ganar, por lo tanto vamos a entrenarlo con el mismo jugador aleatorio, pero forzando a que cuando este pueda ganar en una jugada, lo haga."
      ]
    },
    {
      "metadata": {
        "id": "WIjZ0yF_IyxZ",
        "colab_type": "code",
        "colab": {
          "autoexec": {
            "startup": false,
            "wait_interval": 0
          }
        }
      },
      "cell_type": "code",
      "source": [
        "#Clase para manejar el juego\n",
        "class juego_a_aprender_3:\n",
        "  def __init__(self, quien_inicia = 1):\n",
        "    self.configuracion = [0]*9\n",
        "    \n",
        "    #Si se decide quien inicia es la computadora\n",
        "    if quien_inicia == 2:\n",
        "      self.refrescar_me()\n",
        "    \n",
        "    #Evita seguir jugando si ya existe un ganador\n",
        "    self.fin_juego = False\n",
        "    #Guarda la lista de configuraciones\n",
        "    self.conj_configuracion = [copy.deepcopy(self.configuracion)];\n",
        "    #Guarda la lista de acciones\n",
        "    self.acciones = []\n",
        "  def refrescar_enemigo(self,numero):\n",
        "    \"\"\"\n",
        "    Esta funcion refresca la configuracion incluyendo la posicion aceptada por\n",
        "    el jugador\n",
        "    @param[in] numero Posicion en 0:9 definida por el otro jugador\n",
        "    \"\"\"\n",
        "    if not self.fin_juego:\n",
        "      #Primero agrego tu posicion si es valida\n",
        "      if self.configuracion[numero] == 0:\n",
        "        \n",
        "        self.configuracion[numero] = 1\n",
        "        #Agrego tus acciones a la lista\n",
        "        self.acciones.append(numero)\n",
        "        \n",
        "        #Verifico si tu eres el ganador\n",
        "        ganador = quien_es_ganador(self.configuracion)\n",
        "        if ganador == 1:\n",
        "          self.fin_juego = True\n",
        "          return ganador\n",
        "        \n",
        "        #Actualizo mi posicion\n",
        "        mi_estado = self.refrescar_me()\n",
        "        \n",
        "        #Si no puedo jugar es porque el tablero esta lleno \n",
        "        if mi_estado < 2:\n",
        "          self.fin_juego = True\n",
        "          if mi_estado == 0:\n",
        "            return 0\n",
        "        \n",
        "        self.conj_configuracion.append(copy.deepcopy(self.configuracion))\n",
        "        \n",
        "        #Verifico si yo soy el ganador\n",
        "        ganador = quien_es_ganador(self.configuracion)\n",
        "        if ganador == 2:\n",
        "          self.fin_juego = True\n",
        "          return ganador\n",
        "       \n",
        "    return 0\n",
        "  def opcion_optima(self,acciones):\n",
        "    \"\"\"Selecciona la mejor configuracion de acuerdo a la funcion de valor \n",
        "    segun estado y accion \"\"\"\n",
        "    #Recolectar el vector de acciones segun configuracion\n",
        "    pos_acciones = []\n",
        "    for accion in acciones:\n",
        "      pos_configuracion = copy.deepcopy(self.configuracion)\n",
        "      pos_configuracion[accion] = 2\n",
        "      if quien_es_ganador(pos_configuracion) == 2:\n",
        "        pos_acciones.append(accion)\n",
        "    \n",
        "    if len(pos_acciones)>1:\n",
        "      return random.choice(pos_acciones)\n",
        "      \n",
        "    elif len(pos_acciones)==1: \n",
        "      return pos_acciones[0]\n",
        "    else:\n",
        "      return random.choice(acciones)\n",
        "    \n",
        "  def refrescar_me(self):\n",
        "    \"\"\"\n",
        "    Esta funcion refresca la configuracion incluyendo la posicion del computador\n",
        "    \"\"\"\n",
        "    #Verifico cuales son mis jugadas\n",
        "    mis_acciones = acciones_posibles(self.configuracion)\n",
        "    num_acciones = len(mis_acciones)\n",
        "    \n",
        "    #Si puedo jugar, selecciono una posicion al azar\n",
        "    if num_acciones > 0:\n",
        "      accion = self.opcion_optima(mis_acciones)\n",
        "      self.configuracion[accion] = 2\n",
        "      \n",
        "    return num_acciones\n",
        "\n",
        "#Creamos una nueva instancia de juego\n",
        "mijuego_profesor2 = juego_a_aprender_3();  "
      ],
      "execution_count": 0,
      "outputs": []
    },
    {
      "metadata": {
        "id": "CLthZ80JMsZG",
        "colab_type": "code",
        "colab": {
          "autoexec": {
            "startup": false,
            "wait_interval": 0
          }
        }
      },
      "cell_type": "code",
      "source": [
        "def jugar_3(quien_inicia,opcion_optima):\n",
        "  \"\"\"\n",
        "  Esta función interactua con refrescar enemigo del juego a aprender\n",
        "  \"\"\"\n",
        "  enemigo = juego_a_aprender_3(quien_inicia)\n",
        "  while not enemigo.fin_juego:\n",
        "    #Vamos a seleccionar una opcion optima de acuerdo a la configuracion actual\n",
        "    accion = opcion_optima(enemigo.configuracion)\n",
        "    \n",
        "    if accion == -1:\n",
        "      break\n",
        "      \n",
        "    #Vamos a jugar con el enemigo\n",
        "    ganador = enemigo.refrescar_enemigo(accion)\n",
        "    \n",
        "  return (ganador, enemigo.conj_configuracion, enemigo.acciones)"
      ],
      "execution_count": 0,
      "outputs": []
    },
    {
      "metadata": {
        "id": "NbsR_G4nM0k9",
        "colab_type": "code",
        "colab": {
          "autoexec": {
            "startup": false,
            "wait_interval": 0
          },
          "base_uri": "https://localhost:8080/",
          "height": 34
        },
        "outputId": "e96297b3-7f89-4608-c16d-76460725cba7",
        "executionInfo": {
          "status": "ok",
          "timestamp": 1527602565669,
          "user_tz": 420,
          "elapsed": 76736,
          "user": {
            "displayName": "Cindy Orozco",
            "photoUrl": "//lh3.googleusercontent.com/-jAVKPv2uwtg/AAAAAAAAAAI/AAAAAAAAABI/m8_L3I7XWjU/s50-c-k-no/photo.jpg",
            "userId": "117886146899397189915"
          }
        }
      },
      "cell_type": "code",
      "source": [
        "valor_estado_accion = np.ones((3,)*9+(9,))*-2\n",
        "print(np.size(valor_estado_accion))\n",
        "\n",
        "\n",
        "valor_estado_accion = inicializar_valor_estado_accion(valor_estado_accion)\n",
        "  \n",
        "num_estado_accion = np.zeros((3,)*9+(9,))\n",
        "\n",
        "class juego_aprendiz_MC_4:\n",
        "  def __init__(self,valor_estado_accion,num_estado_accion,num_iteraciones = 100,disc_factor = 0.8):\n",
        "    self.valor_estado_accion = copy.deepcopy(valor_estado_accion)\n",
        "    self.num_estado_accion = copy.deepcopy(num_estado_accion)\n",
        "    self.num_iteraciones = num_iteraciones\n",
        "    self.iteracion = 0\n",
        "    self.ganancias = 0\n",
        "    self.perdidas = 0\n",
        "    self.empates = 0\n",
        "    self.disc_factor = disc_factor\n",
        "    \n",
        "  def optimizar_funcion_objetivo(self):\n",
        "    \"\"\"\n",
        "    Utilizar MC para mejorar la funcion objetivo\n",
        "    \"\"\"\n",
        "    for i in xrange(self.num_iteraciones):\n",
        "      self.iteracion = i\n",
        "      quien_inicia = random.choice([1,2])\n",
        "      [ganador,configuraciones,acciones] = jugar_3(quien_inicia, self.opcion_optima)\n",
        "      precio = 0\n",
        "    \n",
        "      alpha = 100.\n",
        "      if ganador == 1:\n",
        "        precio = 1\n",
        "        self.ganancias += (1.- self.ganancias)/alpha\n",
        "        self.perdidas += (0.- self.perdidas)/alpha\n",
        "        self.empates += (0.- self.empates)/alpha\n",
        "      elif ganador == 2:\n",
        "        precio = -1\n",
        "        self.ganancias += (0.- self.ganancias)/alpha\n",
        "        self.perdidas += (1.- self.perdidas)/alpha\n",
        "        self.empates += (0.- self.empates)/alpha\n",
        "      else:\n",
        "        self.ganancias += (0.- self.ganancias)/alpha\n",
        "        self.perdidas += (0.- self.perdidas)/alpha\n",
        "        self.empates += (1.- self.empates)/alpha\n",
        "        \n",
        "      #print (quien_inicia,ganador,self.ganancias, self.perdidas, self.empates)  \n",
        "       \n",
        "      #print (ganador)\n",
        "      for conf,accion,exponente in zip(configuraciones,acciones,xrange(len(acciones)-1,-1,-1)):\n",
        "        alpha = 100\n",
        "        \n",
        "        \n",
        "        indice = tuple(conf + [accion,])\n",
        "        self.num_estado_accion[indice] += 1\n",
        "        #alpha = self.num_estado_accion[indice]\n",
        "        error = precio * (self.disc_factor ** exponente) - self.valor_estado_accion[indice] \n",
        "        self.valor_estado_accion[indice] += error/alpha\n",
        "        \n",
        "        #Apply symmetries\n",
        "        conf2 = reflejo_x_conf(conf)\n",
        "        accion2 = reflejo_x_accion(accion)\n",
        "        indice2 = tuple(conf2 + [accion2,])\n",
        "        self.num_estado_accion[indice2] += 1\n",
        "        #alpha = self.num_estado_accion[indice2]\n",
        "        error = precio * (self.disc_factor ** exponente) - self.valor_estado_accion[indice2] \n",
        "        self.valor_estado_accion[indice2] += error/alpha\n",
        "        \n",
        "        conf2 = reflejo_y_conf(conf)\n",
        "        accion2 = reflejo_y_accion(accion)\n",
        "        indice2 = tuple(conf2 + [accion2,])\n",
        "        self.num_estado_accion[indice2] += 1\n",
        "        #alpha = self.num_estado_accion[indice2]\n",
        "        error = precio * (self.disc_factor ** exponente) - self.valor_estado_accion[indice2] \n",
        "        self.valor_estado_accion[indice2] += error/alpha\n",
        "        \n",
        "        conf2 = reflejo_x_conf(reflejo_y_conf(conf))\n",
        "        accion2 = reflejo_x_accion(reflejo_y_accion(accion))\n",
        "        indice2 = tuple(conf2 + [accion2,])\n",
        "        self.num_estado_accion[indice2] += 1\n",
        "        #alpha = self.num_estado_accion[indice2]\n",
        "        error = precio * (self.disc_factor ** exponente) - self.valor_estado_accion[indice2] \n",
        "        self.valor_estado_accion[indice2] += error/alpha\n",
        "        \n",
        "        #Con transpuesta\n",
        "        conf3 = traspuesta_conf(conf)\n",
        "        accion3 = traspuesta_accion(accion)\n",
        "        indice2 = tuple(conf3 + [accion3,])\n",
        "        self.num_estado_accion[indice2] += 1\n",
        "        #alpha = self.num_estado_accion[indice2]\n",
        "        error = precio * (self.disc_factor ** exponente) - self.valor_estado_accion[indice2] \n",
        "        self.valor_estado_accion[indice2] += error/alpha\n",
        "        \n",
        "        \n",
        "        conf2 = reflejo_x_conf(conf3)\n",
        "        accion2 = reflejo_x_accion(accion3)\n",
        "        indice2 = tuple(conf2 + [accion2,])\n",
        "        self.num_estado_accion[indice2] += 1\n",
        "        #alpha = self.num_estado_accion[indice2]\n",
        "        error = precio * (self.disc_factor ** exponente) - self.valor_estado_accion[indice2] \n",
        "        self.valor_estado_accion[indice2] += error/alpha\n",
        "        \n",
        "        conf2 = reflejo_y_conf(conf3)\n",
        "        accion2 = reflejo_y_accion(accion3)\n",
        "        indice2 = tuple(conf2 + [accion2,])\n",
        "        self.num_estado_accion[indice2] += 1\n",
        "        #alpha = self.num_estado_accion[indice2]\n",
        "        error = precio * (self.disc_factor ** exponente) - self.valor_estado_accion[indice2] \n",
        "        self.valor_estado_accion[indice2] += error/alpha\n",
        "        \n",
        "        conf2 = reflejo_x_conf(reflejo_y_conf(conf3))\n",
        "        accion2 = reflejo_x_accion(reflejo_y_accion(accion3))\n",
        "        indice2 = tuple(conf2 + [accion2,])\n",
        "        self.num_estado_accion[indice2] += 1\n",
        "        #alpha = self.num_estado_accion[indice2]\n",
        "        error = precio * (self.disc_factor ** exponente) - self.valor_estado_accion[indice2] \n",
        "        self.valor_estado_accion[indice2] += error/alpha\n",
        "    \n",
        "      \n",
        "  def opcion_optima(self,configuracion):\n",
        "    \"\"\"Selecciona la mejor configuracion de acuerdo a la funcion de valor \n",
        "    segun estado y accion \"\"\"\n",
        "    #Recolectar el vector de acciones segun configuracion\n",
        "    val_acciones = self.valor_estado_accion[tuple(configuracion)] \n",
        "    \n",
        "    #Seleccionar las acciones posibles (una accion no es posible si la casilla \n",
        "    #esta llena)\n",
        "    \n",
        "    acciones = np.where( val_acciones > -2 )\n",
        "    acciones = acciones[0]\n",
        "    mejor_accion = 0\n",
        "    #epsilon-greedy\n",
        "    if len(acciones) > 0:\n",
        "      \n",
        "      u = random.random()\n",
        "      \n",
        "      if u * self.iteracion < 100.:\n",
        "        \n",
        "        mejor_accion = random.choice(acciones)\n",
        "    \n",
        "      else:\n",
        "    \n",
        "        mejor_valor = np.amax(val_acciones[acciones])\n",
        "        index_accion = np.where(val_acciones[acciones] == mejor_valor )\n",
        "        index_accion = index_accion[0]\n",
        "    \n",
        "        if len(index_accion)>1:\n",
        "          mejor_accion = acciones[random.choice(index_accion)]\n",
        "      \n",
        "        else: \n",
        "          mejor_accion = acciones[index_accion[0]]\n",
        "    \n",
        "    return mejor_accion\n",
        "    \n",
        "mi_aprendiz3 = juego_aprendiz_MC_4(valor_estado_accion,num_estado_accion,100000)\n",
        "mi_aprendiz3.optimizar_funcion_objetivo()"
      ],
      "execution_count": 132,
      "outputs": [
        {
          "output_type": "stream",
          "text": [
            "177147\n"
          ],
          "name": "stdout"
        }
      ]
    },
    {
      "metadata": {
        "id": "jR_Q4nDiNGHd",
        "colab_type": "code",
        "colab": {
          "autoexec": {
            "startup": false,
            "wait_interval": 0
          },
          "base_uri": "https://localhost:8080/",
          "height": 395
        },
        "outputId": "ebd6a36d-0b58-492d-a3f2-d96c275e9c20",
        "executionInfo": {
          "status": "ok",
          "timestamp": 1527609204510,
          "user_tz": 420,
          "elapsed": 638,
          "user": {
            "displayName": "Cindy Orozco",
            "photoUrl": "//lh3.googleusercontent.com/-jAVKPv2uwtg/AAAAAAAAAAI/AAAAAAAAABI/m8_L3I7XWjU/s50-c-k-no/photo.jpg",
            "userId": "117886146899397189915"
          }
        }
      },
      "cell_type": "code",
      "source": [
        "#Interactuar con el nuevo jugador\n",
        "#Botones para las posiciones en el juego\n",
        "\n",
        "display.display(display.HTML('''\n",
        "    Posiciones del juego, tu eres X, yo soy O: <br>\n",
        "    <button id='button0'>0</button>\n",
        "    <script>\n",
        "      document.querySelector('#button0').onclick = () => {\n",
        "        google.colab.kernel.invokeFunction('notebook.updatelist', [0], {});\n",
        "      };\n",
        "    </script>\n",
        "    <button id='button1'>1</button>\n",
        "    <script>\n",
        "      document.querySelector('#button1').onclick = () => {\n",
        "        google.colab.kernel.invokeFunction('notebook.updatelist', [1], {});\n",
        "      };\n",
        "    </script>\n",
        "    <button id='button2'>2</button>\n",
        "    <script>\n",
        "      document.querySelector('#button2').onclick = () => {\n",
        "        google.colab.kernel.invokeFunction('notebook.updatelist', [2], {});\n",
        "      };\n",
        "    </script><br>\n",
        "    <button id='button3'>3</button>\n",
        "    <script>\n",
        "      document.querySelector('#button3').onclick = () => {\n",
        "        google.colab.kernel.invokeFunction('notebook.updatelist', [3], {});\n",
        "      };\n",
        "    </script>\n",
        "    <button id='button4'>4</button>\n",
        "    <script>\n",
        "      document.querySelector('#button4').onclick = () => {\n",
        "        google.colab.kernel.invokeFunction('notebook.updatelist', [4], {});\n",
        "      };\n",
        "    </script>\n",
        "    <button id='button5'>5</button>\n",
        "    <script>\n",
        "      document.querySelector('#button5').onclick = () => {\n",
        "        google.colab.kernel.invokeFunction('notebook.updatelist', [5], {});\n",
        "      };\n",
        "    </script><br>\n",
        "    <button id='button6'>6</button>\n",
        "    <script>\n",
        "      document.querySelector('#button6').onclick = () => {\n",
        "        google.colab.kernel.invokeFunction('notebook.updatelist', [6], {});\n",
        "      };\n",
        "    </script>\n",
        "    <button id='button7'>7</button>\n",
        "    <script>\n",
        "      document.querySelector('#button7').onclick = () => {\n",
        "        google.colab.kernel.invokeFunction('notebook.updatelist', [7], {});\n",
        "      };\n",
        "    </script>\n",
        "    <button id='button8'>8</button>\n",
        "    <script>\n",
        "      document.querySelector('#button8').onclick = () => {\n",
        "        google.colab.kernel.invokeFunction('notebook.updatelist', [8], {});\n",
        "      };\n",
        "    </script><br>\n",
        "    <button id='buttonempezar'>Yo empiezo</button>\n",
        "    <script>\n",
        "      document.querySelector('#buttonempezar').onclick = () => {\n",
        "        google.colab.kernel.invokeFunction('notebook.empezar', [], {});\n",
        "      };\n",
        "    </script>\n",
        "    '''))\n",
        "\n",
        "\n",
        "#Creamos una nueva instancia de juego\n",
        "mijuego4 = juego_interactuar_MC(mi_aprendiz3)\n",
        " \n",
        "output.register_callback('notebook.updatelist',mijuego4.refrescar_enemigo)\n",
        "output.register_callback('notebook.empezar',mijuego4.comenzar_juego)"
      ],
      "execution_count": 163,
      "outputs": [
        {
          "output_type": "display_data",
          "data": {
            "text/plain": [
              "<IPython.core.display.HTML object>"
            ],
            "text/html": [
              "\n",
              "    Posiciones del juego, tu eres X, yo soy O: <br>\n",
              "    <button id='button0'>0</button>\n",
              "    <script>\n",
              "      document.querySelector('#button0').onclick = () => {\n",
              "        google.colab.kernel.invokeFunction('notebook.updatelist', [0], {});\n",
              "      };\n",
              "    </script>\n",
              "    <button id='button1'>1</button>\n",
              "    <script>\n",
              "      document.querySelector('#button1').onclick = () => {\n",
              "        google.colab.kernel.invokeFunction('notebook.updatelist', [1], {});\n",
              "      };\n",
              "    </script>\n",
              "    <button id='button2'>2</button>\n",
              "    <script>\n",
              "      document.querySelector('#button2').onclick = () => {\n",
              "        google.colab.kernel.invokeFunction('notebook.updatelist', [2], {});\n",
              "      };\n",
              "    </script><br>\n",
              "    <button id='button3'>3</button>\n",
              "    <script>\n",
              "      document.querySelector('#button3').onclick = () => {\n",
              "        google.colab.kernel.invokeFunction('notebook.updatelist', [3], {});\n",
              "      };\n",
              "    </script>\n",
              "    <button id='button4'>4</button>\n",
              "    <script>\n",
              "      document.querySelector('#button4').onclick = () => {\n",
              "        google.colab.kernel.invokeFunction('notebook.updatelist', [4], {});\n",
              "      };\n",
              "    </script>\n",
              "    <button id='button5'>5</button>\n",
              "    <script>\n",
              "      document.querySelector('#button5').onclick = () => {\n",
              "        google.colab.kernel.invokeFunction('notebook.updatelist', [5], {});\n",
              "      };\n",
              "    </script><br>\n",
              "    <button id='button6'>6</button>\n",
              "    <script>\n",
              "      document.querySelector('#button6').onclick = () => {\n",
              "        google.colab.kernel.invokeFunction('notebook.updatelist', [6], {});\n",
              "      };\n",
              "    </script>\n",
              "    <button id='button7'>7</button>\n",
              "    <script>\n",
              "      document.querySelector('#button7').onclick = () => {\n",
              "        google.colab.kernel.invokeFunction('notebook.updatelist', [7], {});\n",
              "      };\n",
              "    </script>\n",
              "    <button id='button8'>8</button>\n",
              "    <script>\n",
              "      document.querySelector('#button8').onclick = () => {\n",
              "        google.colab.kernel.invokeFunction('notebook.updatelist', [8], {});\n",
              "      };\n",
              "    </script><br>\n",
              "    <button id='buttonempezar'>Yo empiezo</button>\n",
              "    <script>\n",
              "      document.querySelector('#buttonempezar').onclick = () => {\n",
              "        google.colab.kernel.invokeFunction('notebook.empezar', [], {});\n",
              "      };\n",
              "    </script>\n",
              "    "
            ]
          },
          "metadata": {
            "tags": []
          }
        },
        {
          "output_type": "stream",
          "text": [
            " O|X| \n",
            "  | | \n",
            "  | | \n",
            "-+-+-+-+-+\n",
            " O|X| \n",
            "  |X| \n",
            "  |O| \n",
            "-+-+-+-+-+\n",
            " O|X| \n",
            " O|X| \n",
            "  |O|X\n",
            "-+-+-+-+-+\n",
            " O|X| \n",
            " O|X|X\n",
            " O|O|X\n",
            "-+-+-+-+-+\n",
            "¡Yo gane!\n"
          ],
          "name": "stdout"
        }
      ]
    }
  ]
}