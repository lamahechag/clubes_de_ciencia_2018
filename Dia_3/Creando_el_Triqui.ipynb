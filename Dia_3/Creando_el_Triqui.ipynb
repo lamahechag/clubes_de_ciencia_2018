{
  "nbformat": 4,
  "nbformat_minor": 0,
  "metadata": {
    "colab": {
      "name": "Creando el Triqui",
      "version": "0.3.2",
      "views": {},
      "default_view": {},
      "provenance": [
        {
          "file_id": "16MZiYgmqU3RzyKmXkKEv4UlBAx2MeMu9",
          "timestamp": 1528814954821
        }
      ],
      "collapsed_sections": [],
      "toc_visible": true
    },
    "kernelspec": {
      "name": "python2",
      "display_name": "Python 2"
    }
  },
  "cells": [
    {
      "metadata": {
        "id": "yCKsO1AE9aGu",
        "colab_type": "text"
      },
      "cell_type": "markdown",
      "source": [
        "# 1. Aprendizaje: ¿Cómo enseñar? \n",
        "\n",
        "---\n",
        "\n"
      ]
    },
    {
      "metadata": {
        "id": "xPGf_hlleegk",
        "colab_type": "text"
      },
      "cell_type": "markdown",
      "source": [
        "El objetivo de esta semana es aprender cómo enseñarle a un computador a jugar triqui. ¿Cómo crees que podemos hacer esto?\n",
        "![Triqui](https://i.imgur.com/xZ7VyQ4.png)"
      ]
    },
    {
      "metadata": {
        "id": "OUE6rGL3firT",
        "colab_type": "text"
      },
      "cell_type": "markdown",
      "source": [
        "\n",
        "---\n",
        "\n",
        "## Actividad 1 ¿Qué significa enseñar?\n",
        "\n",
        "Vamos a explorar las formas en las que un agente puede aprender. Describe cómo le enseñarías a alguien a:\n",
        "\n",
        "\n",
        "*   Bailar\n",
        "*   Jugar Fútbol\n",
        "*   Leer\n",
        "*   Montar en Bicicleta\n",
        "*   Dividir\n",
        "\n",
        "Crea un plan con al menos 3 partes distintas y describe que harías en cada una de ellas.\n",
        "\n",
        "---"
      ]
    },
    {
      "metadata": {
        "id": "9g7I_4elib_0",
        "colab_type": "text"
      },
      "cell_type": "markdown",
      "source": [
        "Cuando programamos a un computador para cualquier actividad, debemos siempre diseñar un plan a seguir, entendiendo que el computador no tiene ningún preconcepto de lo que vamos a hacer. Eso no quiere decir que el computador no es capaz de aprender, sólo significa que debemos enseñarle todo poco a poco."
      ]
    },
    {
      "metadata": {
        "id": "dCrMW16ujZLR",
        "colab_type": "text"
      },
      "cell_type": "markdown",
      "source": [
        "---\n",
        "\n",
        "## Actividad 2 ¿Cómo enseñar Triqui?\n",
        "\n",
        "Ahora describe cómo le enseñarías a alguien a:\n",
        "\n",
        "\n",
        "*   Jugar Triqui\n",
        "\n",
        "Al igual que la actividad anterior, crea un plan con al menos 3 partes distintas. También describe que harías en cada una de ellas, y sobre todo qué información necesitarías decirle al agente.\n",
        "\n",
        "---"
      ]
    },
    {
      "metadata": {
        "id": "uCqjrd3PtOc6",
        "colab_type": "text"
      },
      "cell_type": "markdown",
      "source": [
        "# 2. ¿Qué es un juego?"
      ]
    },
    {
      "metadata": {
        "id": "OwUEyGGyk0DY",
        "colab_type": "text"
      },
      "cell_type": "markdown",
      "source": [
        "![Juego](https://imgur.com/PzKdSOo.png)\n"
      ]
    },
    {
      "metadata": {
        "id": "VtkswuhEuG_c",
        "colab_type": "text"
      },
      "cell_type": "markdown",
      "source": [
        "\n",
        "---\n",
        "\n",
        "## Actividad 3 Reglas de Juego del triqui\n",
        "\n",
        "Para tener una estructura del triqui responde las siguientes preguntas:\n",
        "\n",
        "1. ¿Cuántos jugadores hay? ¿Cómo se identifican?\n",
        "2. ¿Cómo es el tablero?  ¿Cuántas casillas hay? \n",
        "3. ¿Qué acciones puede tomar cada jugador?\n",
        "4. ¿Cuándo se acaba el juego? ¿Quién es el ganador?\n",
        "---"
      ]
    },
    {
      "metadata": {
        "id": "nYnEEFxz2VFt",
        "colab_type": "text"
      },
      "cell_type": "markdown",
      "source": [
        "# 3. Representar un juego en un computador"
      ]
    },
    {
      "metadata": {
        "id": "3DiTSyYmzLIK",
        "colab_type": "text"
      },
      "cell_type": "markdown",
      "source": [
        "*Ahora ya sabemos los componentes del triqui, ¿será suficiente para enseñarle al computador?*\n",
        "\n",
        "No es suficiente definir las reglas, debemos saber una forma de comunicarlas a un computador. Como vimos en Python, todo lo que podemos hacer es manejar números y funciones. Entonces debemos descomponer las reglas en una forma más estructurada. __Éste es el trabajo de los matemáticos aplicados, traducir problemas cotidianos en estructuras que un computador puede entender para que él las pueda solucionar__"
      ]
    },
    {
      "metadata": {
        "id": "isQtSNPw5WfI",
        "colab_type": "text"
      },
      "cell_type": "markdown",
      "source": [
        "![EstadoJugador](https://imgur.com/AVcxz1F.png)"
      ]
    },
    {
      "metadata": {
        "id": "u4kDBjepBHDa",
        "colab_type": "text"
      },
      "cell_type": "markdown",
      "source": [
        "Cuando jugamos triqui con alguien, por lo general tenemos un papel y un lapiz, y vamos escribiendo en cada casilla cuales son las fichas que vamos a jugar. Sin embargo, esta forma de jugar puede ser un poco complicada para un computador. En vez podemos remplazar el dibujo, por una lista de casillas, que puede tomar diferentes valores. "
      ]
    },
    {
      "metadata": {
        "id": "RBrhFqLh9jDl",
        "colab_type": "text"
      },
      "cell_type": "markdown",
      "source": [
        "\n",
        "---\n",
        "\n",
        "## Actividad 4 Algunas estadísticas del juego\n",
        "Para crear una representación del juego debemos responder estas preguntas\n",
        "\n",
        "1. ¿Cuántos jugadores hay?  ¿Cómo los identificamos?\n",
        "2. ¿Cuántas casillas hay?  ¿Cuáles valores puede tomar cada casilla? \n",
        "4. Un estado es escoger un valor para cada casilla, entonces ¿Cuántos estados tenemos? \n",
        "5. ¿Cómo podemos representar en Python un estado? Ten en cuenta que esto significa identificar al tablero y diferenciar a los jugadores.\n",
        "5. En un estado, ¿Cuáles son las acciones que un jugador puede tomar? \n",
        "---"
      ]
    },
    {
      "metadata": {
        "id": "40uTOvK5DXgE",
        "colab_type": "text"
      },
      "cell_type": "markdown",
      "source": [
        "# 4. Objetivo de un juego: Ganar"
      ]
    },
    {
      "metadata": {
        "id": "7QI6m2jUDoPI",
        "colab_type": "text"
      },
      "cell_type": "markdown",
      "source": [
        "Cuando jugamos, debemos tomar decisiones que nos lleven a ganar. Pero ¿cómo sabemos cuál es la mejor decisión? Este es el secreto de detras de todo juego, construir una estrategia que nos lleve a la victoria. Como siempre, las mátemáticas tienen la solución para este problema. \n",
        "![Mejor Opcion](https://i.imgur.com/zJulPRn.png)"
      ]
    },
    {
      "metadata": {
        "id": "3T8q869KEF4l",
        "colab_type": "text"
      },
      "cell_type": "markdown",
      "source": [
        "Por lo tanto una estrategia es una tabla donde por cada estado, tenemos los chances de ganar si tomamos cada una de las acciones. Entonces cada vez que vemos un estado, podemos ver esta tabla y escoger la mejor acción. Esta es la tabla que utilizará el computador para jugar. Y el objetivo del código será construirla y usarla. A esta tabla la llamaremos __Función de estado-acción $F(s_i,a_j)$__ donde $s_i$ significa el estado $i$, y $a_j$ significa la acción $j$ en ese estado."
      ]
    },
    {
      "metadata": {
        "id": "B_D1Khe2NcIV",
        "colab_type": "text"
      },
      "cell_type": "markdown",
      "source": [
        "Una forma de saber nuestros chances a ganar es dándole un puntaje a cada estado-acción. La idea de este puntaje es reflejar que tan bueno es tomar una acción. Para esto vamos a definir un puntaje por cada vez que ganamos, perdemos o empatamos un juego diciendo:\n",
        "$$F(s_i,a_j)=1\\ \\text{ Si al tomar la acción } a_j \\text{ ganamos}$$ $$F(s_i,a_j)=-1\\ \\text{ Si al tomar la acción } a_j \\text{ perdemos}$$\n",
        "$$F(s_i,a_j)=0\\ \\text{ Si al tomar la acción } a_j \\text{ el juego se acaba y nadie gana}$$\n",
        "Sin embargo, no en todos los casos al tomar una acción, se acaba el juego. Entonces ¿Cómo podemos definir un puntaje para estas acciones? Definiendo un __valor esperado__."
      ]
    },
    {
      "metadata": {
        "id": "KWtsmjsoLuZn",
        "colab_type": "text"
      },
      "cell_type": "markdown",
      "source": [
        "---\n",
        "\n",
        "## Actividad 5 El Precio es Correcto\n",
        "\n",
        "Supongamos que estamos en la ronda final del precio es correcto, en donde debemos escoger una de 3 puertas. Y para hacerlo más interesante, detrás de cada puerta se encuentra una ruleta que define lo que ganaremos si escogemos esa puerta. Cada ruleta funciona así:\n",
        "*  __Puerta 1:__ 9 de cada 10 veces recibimos $\\$20.000$ y 1 de cada 10 veces recibimos $\\$2.000.000$\n",
        "*  __Puerta 2:__ 3 de cada 5 veces recibimos $\\$150.000$ y 2 de cada 5 veces recibimos $\\$200.000$\n",
        "*  __Puerta 3:__ 7 de cada 8 veces recibimos $\\$136.000$ y 1 de cada 8 veces recibimos $\\$1.000.000$\n",
        "\n",
        "¿Qué puerta escogerías? ¿Por qué?\n",
        "\n",
        "---"
      ]
    },
    {
      "metadata": {
        "id": "BuM59xZR6U87",
        "colab_type": "text"
      },
      "cell_type": "markdown",
      "source": [
        "Un __evento aleatorio__ significa que no tenemos certeza cuál va a ser el resultado final. Por lo general, solo sabemos con cierta probabilidad (o cierto chance), qué es lo que va a pasar, pero puede que no pase. Por ejemplo en el ejemplo anterior sabemos cuales son las posibles opciones detrás de cada puerta y con qué probabilidad ocurren pero al final cuando jugamos no sabemos cual de todas esas opciones nos va a tocar. Entonces ¿Cómo podemos definir una estrategia si no sabemos qué va a pasar con exactitud?\n",
        "\n",
        "En ese caso debemos definir qué es lo que queremos maximizar. Por ejemplo en el ejemplo anterior, podemos escojer la puerta 2 porque tiene el mejor entre los peores ingresos, es decir sabemos que al menos ganaremos $\\$150.000$. Por otro lado, podemos escojer puerta 1 porque tiene el mejor de los mejores ingresos, es decir si tenemos suerte ganaremos el máximo que todas las puertas, es decir $\\$2.000.000$. Sin embargo, si analizamos el promedio de ingresos en cada puerta, definitivamente escogeremos puerta 3. Este promedio lo calculamos como\n",
        "$$Promedio = \\sum_{i=1}^{n}P(s_i)s_i= Chance(evento\\ 1)*Ingreso(evento\\ 1) +Chance(evento\\ 2)*Ingreso(evento\\ 2)+ ...$$\n",
        "Para el triqui, debemos hacer lo mismo para calular el puntaje de acciones que no nos lleven a la terminación del juego. El componente aleatorio viene de las acciones que tomará el otro jugador y de las futuras acciones que nosotros vayamos a tomar.\n"
      ]
    },
    {
      "metadata": {
        "id": "4acaPV3jI607",
        "colab_type": "text"
      },
      "cell_type": "markdown",
      "source": [
        "Otro factor a considerar es que a veces queremos ganar lo más pronto posible, es decir ganar en 3 movimientos debe ser muchísimo mejor que ganar en 10 movimientos. Para esto utilizamos un __Factor de descuento__ que modifica el valor de un objeto en el futuro para representar su valor en el presente. El ejemplo más común de factor de descuento es la inflación, imagina cuánto podiamos comprar con $\\$1.000 $ hace 10 años y cuanto podemos comprar ahora. Debido a la inflación, ya no podemos comprar la misma cantidad, porque los precios han subido. Esto es lo que representa un factor de descuento."
      ]
    },
    {
      "metadata": {
        "id": "Whl1xB-kIxMq",
        "colab_type": "text"
      },
      "cell_type": "markdown",
      "source": [
        "---\n",
        "\n",
        "## Actividad 6 Albúm de laminitas del mundial\n",
        "\n",
        "Otra aplicación del factor de descuento es la devaluación, es decir cómo pierden valor los objetos a medida que el tiempo pasa. Supongamos que logras coleccionar un albúm con todas las laminitas del mundial, y si lo vendes hoy alguien te puede pagar $\\$2.000.000$. Sin embargo la emoción por el albúm del mundial cae a medida que los días van pasando, haciendo que el precio de cada día sea 0.99 el precio del día anterior. ¿Cuánto costará el albúm despues de:\n",
        "\n",
        "*   Un día?\n",
        "*   Una semana?\n",
        "*   Un mes?\n",
        "*  Un año?\n",
        "* 10 años?\n",
        "\n",
        "Explica cómo encontraste estos números.\n",
        "\n",
        "---"
      ]
    },
    {
      "metadata": {
        "id": "wg3aKijJOzFq",
        "colab_type": "text"
      },
      "cell_type": "markdown",
      "source": [
        "# 5. Calculando Puntajes y promedios en el Triqui"
      ]
    },
    {
      "metadata": {
        "id": "6QmbJr1gPF2e",
        "colab_type": "text"
      },
      "cell_type": "markdown",
      "source": [
        "Como vimos antes, cuando tenemos eventos aleatorios y futuros, debemos estimar el valor en el presente usando las probabilidades de ocurrencia y el factor de descuento en el futuro. Veamos como esto aplica en el triqui.\n",
        "Supongamos que estamos en el estado $s_1$ como en la gráfica siguiente\n",
        "![El futuro del estado s1](https://i.imgur.com/3Adp872.png)\n",
        "¿Cómo calculamos el puntaje de ese estado?. El puntaje de ese estado depende de la acción que tomemos. Si sabemos el puntaje de cada acción que podemos tomar es decir $F(s_1,a_i)$ entonces podemos saber el puntaje del estado $s_1$ promediando los chances que tenemos de tomar cada acción, es decir:\n",
        "$$F(s_1) = \\sum_{i=1}^4 F(s_1,a_i)*P(a_i|s_1)=F(s_1,a_1)*P(a_1|s_1)+F(s_1,a_2)*P(a_2|s_1)+F(s_1,a_3)*P(a_3|s_1)+F(s_1,a_4)*P(a_4|s_1)$$\n",
        "donde\n",
        "*   $F(s_1,a_i) =$ El puntaje de tomar la acción $a_i$ cuando estamos en el estado $s_1$\n",
        "*   $P(a_i|s_1) =$ El chance o la probabilidad de tomar la acción $a_i$ dado que estamos en el estado $s_1$. Ese chance solo depende de la estrategia con la que jugamos, y por lo tanto lo conocemos.\n",
        "\n",
        "Pero ¿Cómo sabemos el valor de $F(s_1,a_i)$?, para eso podemos ver los posibles futuros estados a los que podemos llegar. Dado que es un valor en el futuro, debemos multiplicar por $\\gamma$ y luego debemos hacer un promedio entre los futuros estados, entonces por ejemplo para calcular $F(s_1,a_2)$ tenemos\n",
        "$$F(s_1,a_2) = \\gamma\\sum_{j=5}^7 F(s_j)*P(s_j|s_1,a_2)=\\gamma\\left(F(s_5)*P(s_5|s_1,a_2)+F(s_6)*P(s_6|s_1,a_2)+F(s_7)*P(s_7|s_1,a_2)\\right)$$\n",
        "donde\n",
        "*   $F(s_i) =$ El puntaje de llegar al estado $s_i$\n",
        "*   $P(s_i|s_1,a_2) =$ El chance o la probabilidad de llegar al estado $s_i$ dado que estamos en el estado $s_1$ y tomamos la acción $a_2$. Ese chance depende de como juega el otro jugador (es decir del ambiente) y por lo tanto no lo conocemos.\n",
        "\n",
        "Si vemos el mismo diagrama con los factores que multiplicamos obtenemos\n",
        "![Calculando el futuro](https://i.imgur.com/HhSVrHm.png)\n",
        "Por lo tanto uniendo las 2 ecuaciones obtenemos una ecuacion para el puntaje del estado $s_1$ en terminos de los estados futuros\n",
        "$$F(s_1) = \\sum_{i=1}^4 F(s_1,a_i)*P(a_i|s_1)=\\sum_{i=1}^4\\left(\\gamma\\sum_{j} F(s_j)*P(s_j|s_1,a_i)\\right)*P(a_i|s_1)$$\n",
        "y una ecuacion para el puntaje de la acción $a_2$ dado que estamos en el estado $s_1$ en terminos de las acciones en los estados futuros.\n",
        "$$F(s_1,a_2) = \\gamma\\sum_{j=5}^7 F(s_j)*P(s_j|s_1,a_2)=\\gamma\\sum_{j=5}^7 \\left(\\sum_{i}F(s_j,a_i)*P(a_i|s_j)\\right)*P(s_j|s_1,a_2)$$\n",
        "Para solucionar estas dos ecuaciones debemos encontrar:\n",
        "* El chance  $P(a_i|s_j)$  de tomar la acción $a_i$ dado que estamos en el estado $s_j$.  Esa es la __estrategia__ y nosotros la definimos.\n",
        "* El chance $P(s_j|s_i,a_k)$ de terminar en estado $s_j$  luego de tomar la acción $a_k$ y estar en el estado $s_i$.  Esa probabilidad  __no la conocemos__ y debemos encontrarla."
      ]
    },
    {
      "metadata": {
        "id": "79LGKsz8xkEt",
        "colab_type": "text"
      },
      "cell_type": "markdown",
      "source": [
        "# 6. ¿Cómo encontrar aquello que no conocemos?\n",
        "Acabamos de encontrar ecuaciones donde necesitamos el chance $P(s_j|s_i,a_k)$ de terminar en estado $s_j$  luego de tomar la acción $a_k$ y estar en el estado $s_i$. Pero no lo conocemos porque sólo depende de cómo juegue el otro jugador. Si volvemos al ejemplo del precio es correcto y la puerta 1 dice que\n",
        "$$ \\text{9 de cada 10 veces recibimos }\\$20.000\\text{ y 1 de cada 10 veces recibimos }\\$2.000.000$$\n",
        "Es decir que si tenemos la opción de jugar 10 veces, en promedio veremos que 9 de ellas recibiremos $\\$20.000$ y en una recibiremos $\\$2.000.000$. Por lo tanto podemos __estimar__ el promedio como\n",
        "$$Promedio \\approx \\frac{\\sum_{i=1}^{Total\\ Intentos}Ingreso_i}{Total\\ intentos} = \\frac{1}{10}\\left(9*20.000+2.000.000\\right) $$\n",
        "Y gracias a la teoría de las matemáticas, sabemos que este promedio se acerca cada vez más al promedio que depende de las probabilidades de ocurrencia. Esta forma de calcular el promedio se llama __MonteCarlo__"
      ]
    },
    {
      "metadata": {
        "id": "B4dgxqeZw9vp",
        "colab_type": "text"
      },
      "cell_type": "markdown",
      "source": [
        "---\n",
        "\n",
        "## Actividad 7 Regresando al Precio es correcto\n",
        "\n",
        "Supongamos que esta vez no sabemos qué pasa detras de cada puerta, pero para escoger cuál es la mejor puerta, podemos ver muchísimos capítulos antes. La forma siguiente simula estos capítulos. En la casilla $\\#1$ selecciona que puerta quieres ver y el la casilla $\\#2$ escribe cuantos episodios que seleccionen esa puerta quieres generar. Como resultado debajo encontraras una lista de números (en miles de pesos) de los ingresos de cada concursante.\n",
        "\n",
        "Experimenta con esta forma y decide cuál es la mejor puerta. ¿Por qué? "
      ]
    },
    {
      "metadata": {
        "id": "olsNbYr4u6tX",
        "colab_type": "code",
        "colab": {
          "autoexec": {
            "startup": false,
            "wait_interval": 0
          }
        }
      },
      "cell_type": "code",
      "source": [
        "#@title Genera episodios por puerta { vertical-output: true, display-mode: \"form\" }\n",
        "import random\n",
        "\n",
        "Puerta = \"2\" #@param [\"1\", \"2\", \"3\"]\n",
        "Episodios = 50 #@param {type:\"slider\", min:1, max:50, step:1}\n",
        "\n",
        "#Definir probabilidades de cada puerta\n",
        "P = [0.7,0.95,0.5]\n",
        "\n",
        "#Definir malos premios de cada puerta\n",
        "Pl = [100,10,140]\n",
        "\n",
        "#Definir buenos premios de cada puerta\n",
        "Ph = [500,1000,160]\n",
        "\n",
        "puerta_idx = int(Puerta)-1\n",
        "#Generar por cada episodio\n",
        "for i in xrange(Episodios):\n",
        "  index = random.random()\n",
        "  \n",
        "  #Comparar con la probabilidad de mal premio en\n",
        "  #cada puerta\n",
        "  if index < P[puerta_idx]:\n",
        "    print Pl[puerta_idx]\n",
        "  else:\n",
        "    print Ph[puerta_idx]\n",
        "    \n",
        "\n"
      ],
      "execution_count": 0,
      "outputs": []
    },
    {
      "metadata": {
        "id": "Yv6L4NKnrau-",
        "colab_type": "text"
      },
      "cell_type": "markdown",
      "source": [
        "\n",
        "---\n",
        "\n",
        "Esto mismo haremos con el triqui. Jugaremos muchísimas veces en contra de un jugador, y calcularemos el promedio contanto el número de veces que estuvimos en un estado $s_i$ y tomamos la acción $a_j$, y viendo si ganamos, perdimos o empatamos y cuantos pasos tomamos depues de esto."
      ]
    },
    {
      "metadata": {
        "id": "GdUgq3aQ6JTk",
        "colab_type": "text"
      },
      "cell_type": "markdown",
      "source": [
        "$$F(s_i,a_i)\\approx \\frac{\\sum \\gamma^{\\text{Pasos a terminar}} * F(\\text{al terminar}) }{\\text{Veces que estuvimos en el estado $s_i$ y tomamos la acción $a_j$}}$$"
      ]
    },
    {
      "metadata": {
        "id": "kuA125wA7DKD",
        "colab_type": "text"
      },
      "cell_type": "markdown",
      "source": [
        "---\n",
        "\n",
        "## Actividad 8 El jugador eres tú. \n",
        "\n",
        "Regresemos al caso del precio es correcto. ¿Qué estrategia propondrías para escoger las puertas de tal forma que descubras la mejor de la forma más rápida?\n",
        "___"
      ]
    },
    {
      "metadata": {
        "id": "TflxhKcn8LI4",
        "colab_type": "text"
      },
      "cell_type": "markdown",
      "source": [
        "# 7. ¿Cómo haremos esto posible?"
      ]
    },
    {
      "metadata": {
        "id": "GB8dgB_c8hRW",
        "colab_type": "text"
      },
      "cell_type": "markdown",
      "source": [
        "Una buena estrategia para el triqui funciona así\n",
        "![Estrategia Triqui](https://i.imgur.com/ZkI6pop.png)"
      ]
    },
    {
      "metadata": {
        "id": "-CifrYewEOjL",
        "colab_type": "text"
      },
      "cell_type": "markdown",
      "source": [
        "En esta primera parte del taller aprendimos que una forma de enseñarle al computador a jugar triqui es definiendo una función llamada puntaje para que en cada posible estado que encuentre, pueda decidir cual es la mejor acción a tomar (que es aquella con el mayor puntaje). Para definir esta función vimos que debemos considerar que:\n",
        "* __Los eventos son aleatorios:__ No tenemos control sobre nuestro oponente, entonces no sabemos dónde la colocará\n",
        "* __Debemos incluir un factor de descuento:__ Queremos ganar lo más pronto posible, entonces el puntaje de las acciones más cercanas afecta más que el puntaje de las acciones más lejanas.\n",
        "\n",
        "Sin embargo no conocemos este puntaje, y ese es el proceso de aprendizaje que el computador hará. Nuestra estrategia:\n",
        "\n",
        "> >*Crearemos unos primeros puntajes, y jugaremos de acuerdo a estos. Luego veremos el resultado (si ganamos o no) y modificaremos nuestros puntajes reflejando esto. Jugaremos de nuevo seleccionando las acciones de acuerdo a este nuevo puntaje, veremos el resultado y modificares los puntajes de nuevo. Repetiremos hasta que los puntajes no cambien tanto.*\n",
        "\n"
      ]
    },
    {
      "metadata": {
        "id": "pW_i58FgCMaW",
        "colab_type": "text"
      },
      "cell_type": "markdown",
      "source": [
        "---\n",
        "\n",
        "## Actividad 9 Definiendo el rumbo de nuestro proyecto.\n",
        "\n",
        "Ya tenemos definido la estrategia (algoritmo) con el que le enseñaremos al computador a jugar. Ahora es tiempo de empezar a programar. Sin embargo, necesitamos desglosar aún más las diferentes partes del software. Para esto:\n",
        "\n",
        "1.  Identifica al menos 3 actores diferentes que debemos implementar. *Sugerencia: Piensa en los componentes del juego, y quién se debería encargar de ellas. Por ejemplo en un juego de fútbol, no es suficiente que alguien quiera jugar, debe competir contra alguien y deben haber unas reglas que seguir.\n",
        "2.   Para cada uno de los actores define al menos 2 acciones que deben hacer.\n",
        "\n",
        "___\n"
      ]
    }
  ]
}