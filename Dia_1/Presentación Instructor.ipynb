{
 "cells": [
  {
   "cell_type": "code",
   "execution_count": 5,
   "metadata": {
    "collapsed": true
   },
   "outputs": [],
   "source": [
    "import numpy as np\n",
    "import gym\n",
    "\n",
    "from keras.models import Sequential\n",
    "from keras.layers import Dense, Activation, Flatten\n",
    "from keras.optimizers import Adam\n",
    "\n",
    "from rl.agents.dqn import DQNAgent\n",
    "from rl.policy import EpsGreedyQPolicy\n",
    "from rl.memory import SequentialMemory"
   ]
  },
  {
   "cell_type": "code",
   "execution_count": 6,
   "metadata": {},
   "outputs": [
    {
     "name": "stdout",
     "output_type": "stream",
     "text": [
      "\u001b[33mWARN: gym.spaces.Box autodetected dtype as <class 'numpy.float32'>. Please provide explicit dtype.\u001b[0m\n"
     ]
    }
   ],
   "source": [
    "ENV_NAME = 'CartPole-v0'\n",
    "\n",
    "# Get the environment and extract the number of actions available in the Cartpole problem\n",
    "env = gym.make(ENV_NAME)\n",
    "np.random.seed(123)\n",
    "env.seed(123)\n",
    "nb_actions = env.action_space.n"
   ]
  },
  {
   "cell_type": "code",
   "execution_count": 7,
   "metadata": {},
   "outputs": [
    {
     "name": "stdout",
     "output_type": "stream",
     "text": [
      "WARNING:tensorflow:From /home/alejandro/wandj/lib/python3.6/site-packages/keras/backend/tensorflow_backend.py:1255: calling reduce_prod (from tensorflow.python.ops.math_ops) with keep_dims is deprecated and will be removed in a future version.\n",
      "Instructions for updating:\n",
      "keep_dims is deprecated, use keepdims instead\n",
      "_________________________________________________________________\n",
      "Layer (type)                 Output Shape              Param #   \n",
      "=================================================================\n",
      "flatten_1 (Flatten)          (None, 4)                 0         \n",
      "_________________________________________________________________\n",
      "dense_1 (Dense)              (None, 16)                80        \n",
      "_________________________________________________________________\n",
      "activation_1 (Activation)    (None, 16)                0         \n",
      "_________________________________________________________________\n",
      "dense_2 (Dense)              (None, 2)                 34        \n",
      "_________________________________________________________________\n",
      "activation_2 (Activation)    (None, 2)                 0         \n",
      "=================================================================\n",
      "Total params: 114\n",
      "Trainable params: 114\n",
      "Non-trainable params: 0\n",
      "_________________________________________________________________\n",
      "None\n"
     ]
    }
   ],
   "source": [
    "model = Sequential()\n",
    "model.add(Flatten(input_shape=(1,) + env.observation_space.shape))\n",
    "model.add(Dense(16))\n",
    "model.add(Activation('relu'))\n",
    "model.add(Dense(nb_actions))\n",
    "model.add(Activation('linear'))\n",
    "print(model.summary())"
   ]
  },
  {
   "cell_type": "code",
   "execution_count": 10,
   "metadata": {},
   "outputs": [
    {
     "name": "stdout",
     "output_type": "stream",
     "text": [
      "Training for 5000 steps ...\n"
     ]
    },
    {
     "name": "stderr",
     "output_type": "stream",
     "text": [
      "/home/alejandro/wandj/lib/python3.6/site-packages/rl/memory.py:39: UserWarning: Not enough entries to sample without replacement. Consider increasing your warm-up phase to avoid oversampling!\n",
      "  warnings.warn('Not enough entries to sample without replacement. Consider increasing your warm-up phase to avoid oversampling!')\n"
     ]
    },
    {
     "name": "stdout",
     "output_type": "stream",
     "text": [
      "   15/5000: episode: 1, duration: 0.737s, episode steps: 15, steps per second: 20, episode reward: 15.000, mean reward: 1.000 [1.000, 1.000], mean action: 0.400 [0.000, 1.000], mean observation: 0.092 [-0.625, 1.231], loss: 0.352846, mean_absolute_error: 4.238831, mean_q: 7.771027\n"
     ]
    },
    {
     "name": "stderr",
     "output_type": "stream",
     "text": [
      "/home/alejandro/wandj/lib/python3.6/site-packages/rl/memory.py:39: UserWarning: Not enough entries to sample without replacement. Consider increasing your warm-up phase to avoid oversampling!\n",
      "  warnings.warn('Not enough entries to sample without replacement. Consider increasing your warm-up phase to avoid oversampling!')\n"
     ]
    },
    {
     "name": "stdout",
     "output_type": "stream",
     "text": [
      "   38/5000: episode: 2, duration: 0.380s, episode steps: 23, steps per second: 61, episode reward: 23.000, mean reward: 1.000 [1.000, 1.000], mean action: 0.478 [0.000, 1.000], mean observation: 0.069 [-0.551, 0.981], loss: 1.132134, mean_absolute_error: 4.413056, mean_q: 8.058371\n",
      "  133/5000: episode: 3, duration: 1.584s, episode steps: 95, steps per second: 60, episode reward: 95.000, mean reward: 1.000 [1.000, 1.000], mean action: 0.495 [0.000, 1.000], mean observation: -0.011 [-0.949, 0.513], loss: 0.755383, mean_absolute_error: 4.632724, mean_q: 8.877714\n",
      "  158/5000: episode: 4, duration: 0.414s, episode steps: 25, steps per second: 60, episode reward: 25.000, mean reward: 1.000 [1.000, 1.000], mean action: 0.480 [0.000, 1.000], mean observation: -0.088 [-0.796, 0.195], loss: 0.724562, mean_absolute_error: 4.910100, mean_q: 9.561622\n",
      "  177/5000: episode: 5, duration: 0.319s, episode steps: 19, steps per second: 60, episode reward: 19.000, mean reward: 1.000 [1.000, 1.000], mean action: 0.526 [0.000, 1.000], mean observation: -0.110 [-1.047, 0.407], loss: 1.215386, mean_absolute_error: 5.008915, mean_q: 9.707032\n",
      "  196/5000: episode: 6, duration: 0.314s, episode steps: 19, steps per second: 61, episode reward: 19.000, mean reward: 1.000 [1.000, 1.000], mean action: 0.526 [0.000, 1.000], mean observation: -0.095 [-1.049, 0.389], loss: 0.689077, mean_absolute_error: 5.020464, mean_q: 9.827510\n",
      "  235/5000: episode: 7, duration: 0.648s, episode steps: 39, steps per second: 60, episode reward: 39.000, mean reward: 1.000 [1.000, 1.000], mean action: 0.513 [0.000, 1.000], mean observation: 0.001 [-0.965, 0.446], loss: 1.043347, mean_absolute_error: 5.173705, mean_q: 10.018121\n",
      "  253/5000: episode: 8, duration: 0.308s, episode steps: 18, steps per second: 58, episode reward: 18.000, mean reward: 1.000 [1.000, 1.000], mean action: 0.556 [0.000, 1.000], mean observation: -0.080 [-1.094, 0.632], loss: 1.079492, mean_absolute_error: 5.289749, mean_q: 10.183908\n",
      "  267/5000: episode: 9, duration: 0.231s, episode steps: 14, steps per second: 61, episode reward: 14.000, mean reward: 1.000 [1.000, 1.000], mean action: 0.643 [0.000, 1.000], mean observation: -0.109 [-1.570, 0.783], loss: 2.151548, mean_absolute_error: 5.430099, mean_q: 10.271515\n",
      "  288/5000: episode: 10, duration: 0.342s, episode steps: 21, steps per second: 61, episode reward: 21.000, mean reward: 1.000 [1.000, 1.000], mean action: 0.524 [0.000, 1.000], mean observation: -0.065 [-1.048, 0.623], loss: 1.789914, mean_absolute_error: 5.438191, mean_q: 10.262919\n",
      "  315/5000: episode: 11, duration: 0.450s, episode steps: 27, steps per second: 60, episode reward: 27.000, mean reward: 1.000 [1.000, 1.000], mean action: 0.519 [0.000, 1.000], mean observation: -0.067 [-1.061, 0.402], loss: 1.730588, mean_absolute_error: 5.491976, mean_q: 10.349640\n",
      "  332/5000: episode: 12, duration: 0.286s, episode steps: 17, steps per second: 60, episode reward: 17.000, mean reward: 1.000 [1.000, 1.000], mean action: 0.529 [0.000, 1.000], mean observation: -0.128 [-1.095, 0.370], loss: 1.143368, mean_absolute_error: 5.500633, mean_q: 10.511955\n",
      "  348/5000: episode: 13, duration: 0.262s, episode steps: 16, steps per second: 61, episode reward: 16.000, mean reward: 1.000 [1.000, 1.000], mean action: 0.562 [0.000, 1.000], mean observation: -0.111 [-1.101, 0.597], loss: 1.057940, mean_absolute_error: 5.535274, mean_q: 10.658553\n",
      "  364/5000: episode: 14, duration: 0.266s, episode steps: 16, steps per second: 60, episode reward: 16.000, mean reward: 1.000 [1.000, 1.000], mean action: 0.562 [0.000, 1.000], mean observation: -0.105 [-1.128, 0.402], loss: 1.661707, mean_absolute_error: 5.645052, mean_q: 10.750869\n",
      "  379/5000: episode: 15, duration: 0.249s, episode steps: 15, steps per second: 60, episode reward: 15.000, mean reward: 1.000 [1.000, 1.000], mean action: 0.533 [0.000, 1.000], mean observation: -0.089 [-1.015, 0.417], loss: 1.283270, mean_absolute_error: 5.634041, mean_q: 10.810938\n",
      "  410/5000: episode: 16, duration: 0.516s, episode steps: 31, steps per second: 60, episode reward: 31.000, mean reward: 1.000 [1.000, 1.000], mean action: 0.516 [0.000, 1.000], mean observation: -0.051 [-1.042, 0.412], loss: 1.671751, mean_absolute_error: 5.728181, mean_q: 10.857240\n",
      "  427/5000: episode: 17, duration: 0.282s, episode steps: 17, steps per second: 60, episode reward: 17.000, mean reward: 1.000 [1.000, 1.000], mean action: 0.529 [0.000, 1.000], mean observation: -0.109 [-1.091, 0.394], loss: 1.370957, mean_absolute_error: 5.756131, mean_q: 10.982115\n",
      "  444/5000: episode: 18, duration: 0.283s, episode steps: 17, steps per second: 60, episode reward: 17.000, mean reward: 1.000 [1.000, 1.000], mean action: 0.529 [0.000, 1.000], mean observation: -0.106 [-1.061, 0.404], loss: 1.976984, mean_absolute_error: 5.859622, mean_q: 11.098210\n",
      "  461/5000: episode: 19, duration: 0.283s, episode steps: 17, steps per second: 60, episode reward: 17.000, mean reward: 1.000 [1.000, 1.000], mean action: 0.529 [0.000, 1.000], mean observation: -0.076 [-1.217, 0.616], loss: 2.492632, mean_absolute_error: 5.937134, mean_q: 11.085613\n",
      "  478/5000: episode: 20, duration: 0.282s, episode steps: 17, steps per second: 60, episode reward: 17.000, mean reward: 1.000 [1.000, 1.000], mean action: 0.529 [0.000, 1.000], mean observation: -0.066 [-1.211, 0.644], loss: 1.839227, mean_absolute_error: 5.896405, mean_q: 11.081795\n",
      "  508/5000: episode: 21, duration: 0.500s, episode steps: 30, steps per second: 60, episode reward: 30.000, mean reward: 1.000 [1.000, 1.000], mean action: 0.533 [0.000, 1.000], mean observation: -0.040 [-1.090, 0.448], loss: 2.106274, mean_absolute_error: 5.970233, mean_q: 11.209868\n",
      "  527/5000: episode: 22, duration: 0.315s, episode steps: 19, steps per second: 60, episode reward: 19.000, mean reward: 1.000 [1.000, 1.000], mean action: 0.579 [0.000, 1.000], mean observation: -0.095 [-1.320, 0.606], loss: 2.365006, mean_absolute_error: 6.034564, mean_q: 11.281137\n",
      "  544/5000: episode: 23, duration: 0.283s, episode steps: 17, steps per second: 60, episode reward: 17.000, mean reward: 1.000 [1.000, 1.000], mean action: 0.647 [0.000, 1.000], mean observation: -0.103 [-1.856, 0.980], loss: 2.229910, mean_absolute_error: 6.028396, mean_q: 11.287762\n",
      "  558/5000: episode: 24, duration: 0.233s, episode steps: 14, steps per second: 60, episode reward: 14.000, mean reward: 1.000 [1.000, 1.000], mean action: 0.643 [0.000, 1.000], mean observation: -0.099 [-1.572, 0.816], loss: 1.297764, mean_absolute_error: 5.983131, mean_q: 11.437910\n",
      "  581/5000: episode: 25, duration: 0.383s, episode steps: 23, steps per second: 60, episode reward: 23.000, mean reward: 1.000 [1.000, 1.000], mean action: 0.522 [0.000, 1.000], mean observation: -0.057 [-1.051, 0.436], loss: 1.696486, mean_absolute_error: 6.076239, mean_q: 11.560565\n",
      "  677/5000: episode: 26, duration: 1.598s, episode steps: 96, steps per second: 60, episode reward: 96.000, mean reward: 1.000 [1.000, 1.000], mean action: 0.500 [0.000, 1.000], mean observation: 0.024 [-0.836, 0.489], loss: 1.870785, mean_absolute_error: 6.198883, mean_q: 11.779739\n",
      "  765/5000: episode: 27, duration: 1.465s, episode steps: 88, steps per second: 60, episode reward: 88.000, mean reward: 1.000 [1.000, 1.000], mean action: 0.511 [0.000, 1.000], mean observation: 0.101 [-0.511, 0.978], loss: 1.806861, mean_absolute_error: 6.408991, mean_q: 12.269553\n",
      "  852/5000: episode: 28, duration: 1.451s, episode steps: 87, steps per second: 60, episode reward: 87.000, mean reward: 1.000 [1.000, 1.000], mean action: 0.506 [0.000, 1.000], mean observation: -0.001 [-1.192, 0.389], loss: 1.906034, mean_absolute_error: 6.639130, mean_q: 12.688691\n",
      "  895/5000: episode: 29, duration: 0.715s, episode steps: 43, steps per second: 60, episode reward: 43.000, mean reward: 1.000 [1.000, 1.000], mean action: 0.488 [0.000, 1.000], mean observation: -0.099 [-0.751, 0.236], loss: 2.154220, mean_absolute_error: 6.799008, mean_q: 12.966155\n",
      "  964/5000: episode: 30, duration: 1.149s, episode steps: 69, steps per second: 60, episode reward: 69.000, mean reward: 1.000 [1.000, 1.000], mean action: 0.507 [0.000, 1.000], mean observation: 0.003 [-0.603, 0.779], loss: 1.642994, mean_absolute_error: 6.852149, mean_q: 13.211417\n"
     ]
    },
    {
     "name": "stdout",
     "output_type": "stream",
     "text": [
      " 1007/5000: episode: 31, duration: 0.716s, episode steps: 43, steps per second: 60, episode reward: 43.000, mean reward: 1.000 [1.000, 1.000], mean action: 0.512 [0.000, 1.000], mean observation: 0.046 [-0.378, 0.781], loss: 1.486288, mean_absolute_error: 7.026457, mean_q: 13.753178\n",
      " 1046/5000: episode: 32, duration: 0.650s, episode steps: 39, steps per second: 60, episode reward: 39.000, mean reward: 1.000 [1.000, 1.000], mean action: 0.513 [0.000, 1.000], mean observation: 0.065 [-0.346, 0.752], loss: 1.789668, mean_absolute_error: 7.177750, mean_q: 13.965510\n",
      " 1082/5000: episode: 33, duration: 0.602s, episode steps: 36, steps per second: 60, episode reward: 36.000, mean reward: 1.000 [1.000, 1.000], mean action: 0.500 [0.000, 1.000], mean observation: 0.043 [-0.426, 0.779], loss: 1.421510, mean_absolute_error: 7.276426, mean_q: 14.243847\n",
      " 1107/5000: episode: 34, duration: 0.413s, episode steps: 25, steps per second: 61, episode reward: 25.000, mean reward: 1.000 [1.000, 1.000], mean action: 0.520 [0.000, 1.000], mean observation: 0.105 [-0.231, 0.824], loss: 1.968381, mean_absolute_error: 7.412447, mean_q: 14.491602\n",
      " 1138/5000: episode: 35, duration: 0.517s, episode steps: 31, steps per second: 60, episode reward: 31.000, mean reward: 1.000 [1.000, 1.000], mean action: 0.516 [0.000, 1.000], mean observation: 0.040 [-0.430, 0.842], loss: 2.185108, mean_absolute_error: 7.476579, mean_q: 14.554669\n",
      " 1156/5000: episode: 36, duration: 0.301s, episode steps: 18, steps per second: 60, episode reward: 18.000, mean reward: 1.000 [1.000, 1.000], mean action: 0.500 [0.000, 1.000], mean observation: 0.106 [-0.394, 0.912], loss: 2.344290, mean_absolute_error: 7.617949, mean_q: 14.766420\n",
      " 1186/5000: episode: 37, duration: 0.497s, episode steps: 30, steps per second: 60, episode reward: 30.000, mean reward: 1.000 [1.000, 1.000], mean action: 0.533 [0.000, 1.000], mean observation: 0.095 [-0.396, 0.783], loss: 2.454108, mean_absolute_error: 7.639291, mean_q: 14.779728\n",
      " 1225/5000: episode: 38, duration: 0.658s, episode steps: 39, steps per second: 59, episode reward: 39.000, mean reward: 1.000 [1.000, 1.000], mean action: 0.513 [0.000, 1.000], mean observation: 0.046 [-0.365, 0.701], loss: 2.397623, mean_absolute_error: 7.774316, mean_q: 14.987036\n",
      " 1290/5000: episode: 39, duration: 1.077s, episode steps: 65, steps per second: 60, episode reward: 65.000, mean reward: 1.000 [1.000, 1.000], mean action: 0.492 [0.000, 1.000], mean observation: 0.006 [-0.356, 0.904], loss: 2.576775, mean_absolute_error: 7.877344, mean_q: 15.169386\n",
      " 1307/5000: episode: 40, duration: 0.280s, episode steps: 17, steps per second: 61, episode reward: 17.000, mean reward: 1.000 [1.000, 1.000], mean action: 0.471 [0.000, 1.000], mean observation: 0.109 [-0.546, 1.043], loss: 2.446615, mean_absolute_error: 7.921294, mean_q: 15.311951\n",
      " 1326/5000: episode: 41, duration: 0.314s, episode steps: 19, steps per second: 60, episode reward: 19.000, mean reward: 1.000 [1.000, 1.000], mean action: 0.526 [0.000, 1.000], mean observation: 0.095 [-0.412, 0.840], loss: 2.538229, mean_absolute_error: 8.021276, mean_q: 15.541008\n",
      " 1347/5000: episode: 42, duration: 0.350s, episode steps: 21, steps per second: 60, episode reward: 21.000, mean reward: 1.000 [1.000, 1.000], mean action: 0.524 [0.000, 1.000], mean observation: 0.107 [-0.415, 0.790], loss: 2.516169, mean_absolute_error: 8.087328, mean_q: 15.714067\n",
      " 1377/5000: episode: 43, duration: 0.500s, episode steps: 30, steps per second: 60, episode reward: 30.000, mean reward: 1.000 [1.000, 1.000], mean action: 0.533 [0.000, 1.000], mean observation: 0.074 [-0.412, 0.747], loss: 3.113081, mean_absolute_error: 8.150625, mean_q: 15.687222\n",
      " 1410/5000: episode: 44, duration: 0.549s, episode steps: 33, steps per second: 60, episode reward: 33.000, mean reward: 1.000 [1.000, 1.000], mean action: 0.515 [0.000, 1.000], mean observation: 0.111 [-0.233, 1.041], loss: 2.771507, mean_absolute_error: 8.236477, mean_q: 15.864811\n",
      " 1442/5000: episode: 45, duration: 0.533s, episode steps: 32, steps per second: 60, episode reward: 32.000, mean reward: 1.000 [1.000, 1.000], mean action: 0.500 [0.000, 1.000], mean observation: 0.108 [-0.179, 0.904], loss: 2.516006, mean_absolute_error: 8.268637, mean_q: 15.938341\n",
      " 1468/5000: episode: 46, duration: 0.431s, episode steps: 26, steps per second: 60, episode reward: 26.000, mean reward: 1.000 [1.000, 1.000], mean action: 0.500 [0.000, 1.000], mean observation: 0.083 [-0.372, 0.914], loss: 2.517661, mean_absolute_error: 8.387410, mean_q: 16.268957\n",
      " 1496/5000: episode: 47, duration: 0.466s, episode steps: 28, steps per second: 60, episode reward: 28.000, mean reward: 1.000 [1.000, 1.000], mean action: 0.464 [0.000, 1.000], mean observation: 0.037 [-0.797, 1.180], loss: 2.873930, mean_absolute_error: 8.453039, mean_q: 16.438671\n",
      " 1513/5000: episode: 48, duration: 0.283s, episode steps: 17, steps per second: 60, episode reward: 17.000, mean reward: 1.000 [1.000, 1.000], mean action: 0.471 [0.000, 1.000], mean observation: 0.084 [-0.635, 1.073], loss: 3.919559, mean_absolute_error: 8.586943, mean_q: 16.476446\n",
      "done, took 26.058 seconds\n"
     ]
    },
    {
     "data": {
      "text/plain": [
       "<keras.callbacks.History at 0x7fcfbd6739b0>"
      ]
     },
     "execution_count": 10,
     "metadata": {},
     "output_type": "execute_result"
    }
   ],
   "source": [
    "policy = EpsGreedyQPolicy()\n",
    "memory = SequentialMemory(limit=50000, window_length=1)\n",
    "dqn = DQNAgent(model=model, nb_actions=nb_actions, memory=memory, nb_steps_warmup=10,\n",
    "target_model_update=1e-2, policy=policy)\n",
    "dqn.compile(Adam(lr=1e-3), metrics=['mae'])\n",
    "\n",
    "# Okay, now it's time to learn something! We visualize the training here for show, but this slows down training quite a lot. \n",
    "dqn.fit(env, nb_steps=5000, visualize=True, verbose=2)"
   ]
  },
  {
   "cell_type": "code",
   "execution_count": 9,
   "metadata": {},
   "outputs": [
    {
     "name": "stdout",
     "output_type": "stream",
     "text": [
      "Testing for 5 episodes ...\n",
      "Episode 1: reward: 13.000, steps: 13\n",
      "Episode 2: reward: 14.000, steps: 14\n",
      "Episode 3: reward: 14.000, steps: 14\n",
      "Episode 4: reward: 14.000, steps: 14\n",
      "Episode 5: reward: 18.000, steps: 18\n"
     ]
    },
    {
     "data": {
      "text/plain": [
       "<keras.callbacks.History at 0x7fcff54ac668>"
      ]
     },
     "execution_count": 9,
     "metadata": {},
     "output_type": "execute_result"
    }
   ],
   "source": [
    "dqn.test(env, nb_episodes=5, visualize=True)"
   ]
  },
  {
   "cell_type": "code",
   "execution_count": 11,
   "metadata": {},
   "outputs": [
    {
     "ename": "ModuleNotFoundError",
     "evalue": "No module named 'utilities'",
     "output_type": "error",
     "traceback": [
      "\u001b[0;31m---------------------------------------------------------------------------\u001b[0m",
      "\u001b[0;31mModuleNotFoundError\u001b[0m                       Traceback (most recent call last)",
      "\u001b[0;32m<ipython-input-11-15ed1c7e0933>\u001b[0m in \u001b[0;36m<module>\u001b[0;34m()\u001b[0m\n\u001b[0;32m----> 1\u001b[0;31m \u001b[0;32mfrom\u001b[0m \u001b[0mutilities\u001b[0m \u001b[0;32mimport\u001b[0m \u001b[0mDisplayable\u001b[0m\u001b[0;34m,\u001b[0m \u001b[0mflip\u001b[0m\u001b[0;34m\u001b[0m\u001b[0m\n\u001b[0m",
      "\u001b[0;31mModuleNotFoundError\u001b[0m: No module named 'utilities'"
     ]
    }
   ],
   "source": [
    "from utilities import Displayable, flip"
   ]
  },
  {
   "cell_type": "code",
   "execution_count": null,
   "metadata": {
    "collapsed": true
   },
   "outputs": [],
   "source": []
  }
 ],
 "metadata": {
  "kernelspec": {
   "display_name": "Python(W&J_analytics)",
   "language": "python",
   "name": "wandj"
  },
  "language_info": {
   "codemirror_mode": {
    "name": "ipython",
    "version": 3
   },
   "file_extension": ".py",
   "mimetype": "text/x-python",
   "name": "python",
   "nbconvert_exporter": "python",
   "pygments_lexer": "ipython3",
   "version": "3.6.4"
  }
 },
 "nbformat": 4,
 "nbformat_minor": 2
}
