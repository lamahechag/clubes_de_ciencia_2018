{
 "cells": [
  {
   "cell_type": "markdown",
   "metadata": {
    "heading_collapsed": true
   },
   "source": [
    "## Funciones\n",
    "Las funciones nos facilitan la programación porque no tenemos que escribir nuevamente todo el codigo de una rutina que vamos a reutilizar\n",
    "\n",
    "\n",
    "Una función se define en python como:\n",
    "```python\n",
    "def mi_funcion(var1,var2):\n",
    "    # el algoritmo\n",
    "    return x\n",
    "```"
   ]
  },
  {
   "cell_type": "code",
   "execution_count": 7,
   "metadata": {
    "hidden": true
   },
   "outputs": [
    {
     "name": "stdout",
     "output_type": "stream",
     "text": [
      "Clubes de Ciencia!!\n"
     ]
    }
   ],
   "source": [
    "# ejemplo\n",
    "def mi_funcion():\n",
    "    return 'Clubes de Ciencia!!'\n",
    "\n",
    "print (mi_funcion())"
   ]
  },
  {
   "cell_type": "code",
   "execution_count": 19,
   "metadata": {
    "hidden": true
   },
   "outputs": [
    {
     "name": "stdout",
     "output_type": "stream",
     "text": [
      "[4, 24]\n"
     ]
    }
   ],
   "source": [
    "#ejemplo\n",
    "\n",
    "def contar_letras(texto):\n",
    "    n = len(texto)\n",
    "    return n\n",
    "\n",
    "def contar_palabras(texto):\n",
    "    lista = texto.split(' ')\n",
    "    n = len(lista)\n",
    "    return n\n",
    "\n",
    "def contar_palabras_letras(texto):\n",
    "    palabras = contar_palabras(texto)\n",
    "    letras = contar_letras(texto)\n",
    "    return [palabras, letras]\n",
    "\n",
    "print (contar_palabras_letras('contar palabras y letras'))"
   ]
  },
  {
   "cell_type": "code",
   "execution_count": 20,
   "metadata": {
    "collapsed": true,
    "hidden": true
   },
   "outputs": [],
   "source": [
    "# ejemplo\n",
    "\n",
    "def potencia(x,n):\n",
    "    a = 1\n",
    "    for i in range(n): # range(n) genera una lista de numeros de 0 a n-1 de 1 en 1\n",
    "        a = a*x\n",
    "    return a\n",
    "\n",
    "def factorial(n):\n",
    "    if n == 0:\n",
    "        return 1\n",
    "    if n < 0:\n",
    "        return 'valor negativo'\n",
    "    factorial = 1\n",
    "    for i in range(1,n+1):\n",
    "        \n",
    "        factorial = factorial*i\n",
    "        \n",
    "    return factorial\n",
    "    "
   ]
  },
  {
   "cell_type": "code",
   "execution_count": 21,
   "metadata": {
    "hidden": true
   },
   "outputs": [
    {
     "name": "stdout",
     "output_type": "stream",
     "text": [
      "27\n",
      "24\n"
     ]
    }
   ],
   "source": [
    "print (potencia(3,3))\n",
    "print (factorial(4))"
   ]
  },
  {
   "cell_type": "markdown",
   "metadata": {
    "heading_collapsed": true
   },
   "source": [
    "## Reto de Programación\n",
    "\n",
    "- Construya una función que retorne el nombre de una de sus compañeros de grupo cuando se ingresa el número de \n",
    "tarjeta de identidad\n",
    "\n",
    "```python\n",
    "def encontrar_nombre(numero_identidad):\n",
    "    # codigo\n",
    "    return nombre_completo\n",
    "```\n",
    "- La serie de Fibonacci es muy importante en varias areas del conocimiento. Esta se define como:\n",
    "$$f_{0} = 0 ,$$ \n",
    "$$f_{1} = 1,$$  \n",
    "$$f_{n} = f_{n-1} + f_{n-2}$$\n",
    "\n",
    "Es decir, el siguiente valor es la suma de los dos anteriores.\n",
    "\n",
    "$$ f_{2} = 1 + 0,$$\n",
    "$$f_{3} = 1 + 1,$$\n",
    "$$f_{4} = 2 + 1$$\n",
    "\n",
    "Escriba una función que retorne la serie de Fibonacci de algun número $n$.\n",
    "\n",
    "Por ejemplo para $n=4$, la función debe devolver la lista [0,1,1,2,3]"
   ]
  },
  {
   "cell_type": "markdown",
   "metadata": {},
   "source": [
    "# Librerias\n",
    "\n",
    "Las librerias contienen funciones que nos ayudan resolver problemas complejos y nos facilitan la programación.\n",
    "\n",
    "```python\n",
    "import pandas # Pandas nos permite leer archivos de excel, filtrar, y hacer estadisticas sobre tabalas\n",
    "import numpy  # Numpy contiene funciones de operaciones matematicas y algebra de matrices\n",
    "import matplotlib # Matplotlib es una libreria que nos ayuda a graficar datos y funciones matematicas\n",
    "```"
   ]
  },
  {
   "cell_type": "code",
   "execution_count": 24,
   "metadata": {},
   "outputs": [
    {
     "name": "stdout",
     "output_type": "stream",
     "text": [
      "2017-06-25 19:45:18.021285\n"
     ]
    }
   ],
   "source": [
    "# ejemplo, La hora actual del servidor\n",
    "import datetime\n",
    "print (datetime.datetime.now())"
   ]
  },
  {
   "cell_type": "code",
   "execution_count": 31,
   "metadata": {},
   "outputs": [
    {
     "name": "stdout",
     "output_type": "stream",
     "text": [
      "(3, 3)\n",
      "[[ 3  1  5]\n",
      " [ 6 -3 -1]\n",
      " [-5  2  4]]\n"
     ]
    }
   ],
   "source": [
    "# ejemplo, Transpuesta de una matriz\n",
    "import numpy as np\n",
    "A = np.matrix([[3, 6, -5],\n",
    "[1, -3, 2],\n",
    "[5, -1, 4]])\n",
    "\n",
    "print (A.shape) # las dimensiones de la matriz\n",
    "print (A.transpose()) # tarnspuesta de la matriz A"
   ]
  },
  {
   "cell_type": "code",
   "execution_count": 35,
   "metadata": {},
   "outputs": [
    {
     "data": {
      "image/png": "[encoded data removed]",
      "text/plain": [
       "<matplotlib.figure.Figure at 0x7fd8981d7eb8>"
      ]
     },
     "metadata": {},
     "output_type": "display_data"
    }
   ],
   "source": [
    "# ejemplo, Gráfica de y = x**2\n",
    "import matplotlib.pylab as plt \n",
    "x = list(range(-50,50))\n",
    "y = [i**2 for i in x]\n",
    "\n",
    "plt.figure()\n",
    "plt.scatter(x,y)\n",
    "plt.title('$y = x^{2}$') # titulo\n",
    "plt.xlabel('x') # titulo eje x\n",
    "plt.ylabel('y') # titulo eje y\n",
    "plt.show()"
   ]
  },
  {
   "cell_type": "code",
   "execution_count": 2,
   "metadata": {},
   "outputs": [
    {
     "data": {
      "text/html": [
       "<div>\n",
       "<style>\n",
       "    .dataframe thead tr:only-child th {\n",
       "        text-align: right;\n",
       "    }\n",
       "\n",
       "    .dataframe thead th {\n",
       "        text-align: left;\n",
       "    }\n",
       "\n",
       "    .dataframe tbody tr th {\n",
       "        vertical-align: top;\n",
       "    }\n",
       "</style>\n",
       "<table border=\"1\" class=\"dataframe\">\n",
       "  <thead>\n",
       "    <tr style=\"text-align: right;\">\n",
       "      <th></th>\n",
       "      <th>apellido</th>\n",
       "      <th>nombre</th>\n",
       "      <th>pais</th>\n",
       "    </tr>\n",
       "  </thead>\n",
       "  <tbody>\n",
       "    <tr>\n",
       "      <th>0</th>\n",
       "      <td>Kshi</td>\n",
       "      <td>Jocelyn</td>\n",
       "      <td>Estados Unidos</td>\n",
       "    </tr>\n",
       "    <tr>\n",
       "      <th>1</th>\n",
       "      <td>Diaz</td>\n",
       "      <td>Laura</td>\n",
       "      <td>Colombia</td>\n",
       "    </tr>\n",
       "    <tr>\n",
       "      <th>2</th>\n",
       "      <td>Mahecha</td>\n",
       "      <td>Luis Alejandro</td>\n",
       "      <td>Colombia</td>\n",
       "    </tr>\n",
       "  </tbody>\n",
       "</table>\n",
       "</div>"
      ],
      "text/plain": [
       "  apellido          nombre            pais\n",
       "0     Kshi         Jocelyn  Estados Unidos\n",
       "1     Diaz           Laura        Colombia\n",
       "2  Mahecha  Luis Alejandro        Colombia"
      ]
     },
     "execution_count": 2,
     "metadata": {},
     "output_type": "execute_result"
    }
   ],
   "source": [
    "# ejemplo, Crear una tabla de datos de sus compañeros\n",
    "\n",
    "import pandas as pd\n",
    "\n",
    "nombres = ['Jocelyn', 'Laura','Luis Alejandro']\n",
    "apellidos = ['Kshi', 'Diaz', 'Mahecha']\n",
    "pais = ['Estados Unidos', 'Colombia', 'Colombia']\n",
    "\n",
    "pd.DataFrame({'nombre': nombres, 'apellido': apellidos, 'pais': pais})"
   ]
  },
  {
   "cell_type": "markdown",
   "metadata": {},
   "source": [
    "# Tablas de datos y Pandas\n",
    "\n",
    "Las tablas están compuestas de filas y columnas. Las columnas son varibales y las filas sus valores.\n",
    "A continuación pódemos ver un ejemplo de tabla."
   ]
  },
  {
   "cell_type": "code",
   "execution_count": 5,
   "metadata": {},
   "outputs": [
    {
     "data": {
      "text/html": [
       "<div>\n",
       "<style>\n",
       "    .dataframe thead tr:only-child th {\n",
       "        text-align: right;\n",
       "    }\n",
       "\n",
       "    .dataframe thead th {\n",
       "        text-align: left;\n",
       "    }\n",
       "\n",
       "    .dataframe tbody tr th {\n",
       "        vertical-align: top;\n",
       "    }\n",
       "</style>\n",
       "<table border=\"1\" class=\"dataframe\">\n",
       "  <thead>\n",
       "    <tr style=\"text-align: right;\">\n",
       "      <th></th>\n",
       "      <th>numbres</th>\n",
       "      <th>apellidos</th>\n",
       "      <th>edad</th>\n",
       "    </tr>\n",
       "  </thead>\n",
       "  <tbody>\n",
       "    <tr>\n",
       "      <th>0</th>\n",
       "      <td>Luis Alejandro</td>\n",
       "      <td>Mahecha Gonzalez</td>\n",
       "      <td>31</td>\n",
       "    </tr>\n",
       "    <tr>\n",
       "      <th>1</th>\n",
       "      <td>Nury Paula</td>\n",
       "      <td>Santisteban Vela</td>\n",
       "      <td>30</td>\n",
       "    </tr>\n",
       "    <tr>\n",
       "      <th>2</th>\n",
       "      <td>Alexandra</td>\n",
       "      <td>Olaya Castro</td>\n",
       "      <td>45</td>\n",
       "    </tr>\n",
       "  </tbody>\n",
       "</table>\n",
       "</div>"
      ],
      "text/plain": [
       "          numbres         apellidos  edad\n",
       "0  Luis Alejandro  Mahecha Gonzalez    31\n",
       "1      Nury Paula  Santisteban Vela    30\n",
       "2       Alexandra      Olaya Castro    45"
      ]
     },
     "execution_count": 5,
     "metadata": {},
     "output_type": "execute_result"
    }
   ],
   "source": [
    "# Primero creamos una lista\n",
    "lista = [['Luis Alejandro', 'Mahecha Gonzalez', 31],\n",
    "        ['Nury Paula', 'Santisteban Vela', 30],\n",
    "        ['Alexandra', 'Olaya Castro', 45]]\n",
    "# A la lista se le puede dar nombres a las columnas usando Pandas\n",
    "tabla = pd.DataFrame(lista, columns=['numbres', 'apellidos', 'edad'])\n",
    "tabla"
   ]
  },
  {
   "cell_type": "code",
   "execution_count": 6,
   "metadata": {},
   "outputs": [
    {
     "data": {
      "text/plain": [
       "Index(['numbres', 'apellidos', 'edad'], dtype='object')"
      ]
     },
     "execution_count": 6,
     "metadata": {},
     "output_type": "execute_result"
    }
   ],
   "source": [
    "# mirar las columnas de la tabla\n",
    "tabla.columns"
   ]
  },
  {
   "cell_type": "code",
   "execution_count": 8,
   "metadata": {},
   "outputs": [
    {
     "data": {
      "text/plain": [
       "(3, 3)"
      ]
     },
     "execution_count": 8,
     "metadata": {},
     "output_type": "execute_result"
    }
   ],
   "source": [
    "# mirar las dimensiones de la tabla\n",
    "tabla.shape"
   ]
  },
  {
   "cell_type": "markdown",
   "metadata": {},
   "source": [
    "## Ejercicio: Crear una tabla con nombres, apellidos, edad y genero de las personas en salón.\n",
    "\n",
    "Con `Pandas` se puede encontrar el máximo, minimo y promedio de una varibale.\n",
    "\n",
    "```python\n",
    "nombre_tabla.nombre_columna.min()\n",
    "nombre_tabla.nombre_columna.max()\n",
    "nombre_tabla.nombre_columna.mean() # Variable numerica\n",
    "nombre_tabla.nombre_columna.value_counts() # Variables categoricas o numericas\n",
    "```"
   ]
  },
  {
   "cell_type": "code",
   "execution_count": null,
   "metadata": {
    "collapsed": true
   },
   "outputs": [],
   "source": []
  },
  {
   "cell_type": "markdown",
   "metadata": {},
   "source": [
    "# Como mentir con estadistica\n",
    "\n",
    "- Promedio y moda.\n",
    "- Generador de numeros aleatorios y distribuciones.\n",
    "- Analisis del clima."
   ]
  },
  {
   "cell_type": "code",
   "execution_count": null,
   "metadata": {
    "collapsed": true
   },
   "outputs": [],
   "source": []
  }
 ],
 "metadata": {
  "kernelspec": {
   "display_name": "Python 3",
   "language": "python",
   "name": "python3"
  },
  "language_info": {
   "codemirror_mode": {
    "name": "ipython",
    "version": 3
   },
   "file_extension": ".py",
   "mimetype": "text/x-python",
   "name": "python",
   "nbconvert_exporter": "python",
   "pygments_lexer": "ipython3",
   "version": "3.6.3"
  }
 },
 "nbformat": 4,
 "nbformat_minor": 1
}
